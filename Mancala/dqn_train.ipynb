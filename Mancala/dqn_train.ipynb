{
 "metadata": {
  "language_info": {
   "codemirror_mode": {
    "name": "ipython",
    "version": 3
   },
   "file_extension": ".py",
   "mimetype": "text/x-python",
   "name": "python",
   "nbconvert_exporter": "python",
   "pygments_lexer": "ipython3",
   "version": "3.8.3-final"
  },
  "orig_nbformat": 2,
  "kernelspec": {
   "name": "python383jvsc74a57bd0cbd785d33d8314b66158c604fc5ce4796ebc7b68ddf4a41ff3c1dd69f0fbd16d",
   "display_name": "Python 3.8.3 64-bit (conda)"
  }
 },
 "nbformat": 4,
 "nbformat_minor": 2,
 "cells": [
  {
   "cell_type": "code",
   "execution_count": 92,
   "metadata": {},
   "outputs": [],
   "source": [
    "import math\n",
    "import statistics\n",
    "import random\n",
    "import numpy as np\n",
    "\n",
    "import matplotlib.pyplot as plt\n",
    "\n",
    "from collections import namedtuple, deque\n",
    "from itertools import count\n",
    "from PIL import Image\n",
    "from tqdm import tqdm\n",
    "import pandas as pd\n",
    "\n",
    "import torch\n",
    "import torch.nn as nn\n",
    "import torch.nn.functional as F\n",
    "import torch.optim as optim\n",
    "\n",
    "from itertools import count\n",
    "\n",
    "from tensorboardX import SummaryWriter\n",
    "\n",
    "#from env import MancalaEnv\n",
    "from game import Game\n",
    "from randomagent import AgentRandom\n",
    "from exactagent import AgentExact\n",
    "from maxagent import AgentMax"
   ]
  },
  {
   "cell_type": "code",
   "execution_count": 93,
   "metadata": {},
   "outputs": [],
   "source": [
    "device = torch.device(\"cuda:0\" if torch.cuda.is_available() else \"cpu\")"
   ]
  },
  {
   "source": [
    "## Model Architecture"
   ],
   "cell_type": "markdown",
   "metadata": {}
  },
  {
   "cell_type": "code",
   "execution_count": 94,
   "metadata": {},
   "outputs": [],
   "source": [
    "class QNetwork(nn.Module):\n",
    "    \"\"\" Actor (Policy) Model.\"\"\"\n",
    "    def __init__(self, state_size,action_size, seed, fc1_unit=512,\n",
    "                 fc2_unit = 1000, fc3_unit = 512, fc4_unit = 120):\n",
    "        \"\"\"\n",
    "        Initialize parameters and build model.\n",
    "        Params\n",
    "        =======\n",
    "            state_size (int): Dimension of each state\n",
    "            action_size (int): Dimension of each action\n",
    "            seed (int): Random seed\n",
    "            fc1_unit (int): Number of nodes in first hidden layer\n",
    "            fc2_unit (int): Number of nodes in second hidden layer\n",
    "        \"\"\"\n",
    "        super(QNetwork,self).__init__() ## calls __init__ method of nn.Module class\n",
    "        self.seed = torch.manual_seed(seed)\n",
    "        self.fc1= nn.Linear(state_size,fc1_unit)\n",
    "        self.fc2 = nn.Linear(fc1_unit,fc2_unit)\n",
    "        self.fc3 = nn.Linear(fc2_unit,fc3_unit)\n",
    "        self.fc4 = nn.Linear(fc3_unit,fc4_unit)\n",
    "        self.fc5 = nn.Linear(fc4_unit,action_size)\n",
    "        self.out = nn.Softmax(dim=1)\n",
    "        \n",
    "    def forward(self,x):\n",
    "        # x = state\n",
    "        \"\"\"\n",
    "        Build a network that maps state -> action values.\n",
    "        \"\"\"\n",
    "        x = F.relu(self.fc1(x))\n",
    "        x = F.relu(self.fc2(x))\n",
    "        x = F.relu(self.fc3(x))\n",
    "        x = F.relu(self.fc4(x))\n",
    "        x = F.relu(self.fc5(x))\n",
    "        x = self.out(x)\n",
    "        return x"
   ]
  },
  {
   "source": [
    "## Environment Variables"
   ],
   "cell_type": "markdown",
   "metadata": {}
  },
  {
   "cell_type": "code",
   "execution_count": 95,
   "metadata": {},
   "outputs": [],
   "source": [
    "BUFFER_SIZE = int(4e5)  #replay buffer size\n",
    "''' TRY AN ARRAY HERE FOR BATCH SIZE EFFECT '''\n",
    "BATCH_SIZE = 1000        # minibatch size\n",
    "GAMMA = 0.99            # discount factor\n",
    "TAU = 1e-3              # for soft update of target parameters\n",
    "LR = 5e-4               # learning rate\n",
    "UPDATE_EVERY = 10        # how often to update the network\n",
    "NUM_STATES = 14\n",
    "NUM_ACTIONS = 6"
   ]
  },
  {
   "source": [
    "## DQN Agent"
   ],
   "cell_type": "markdown",
   "metadata": {}
  },
  {
   "cell_type": "code",
   "execution_count": 96,
   "metadata": {},
   "outputs": [],
   "source": [
    "class DQNAgent():\n",
    "    \"\"\"Interacts with and learns form environment.\"\"\"\n",
    "    \n",
    "    def __init__(self, state_size, action_size, seed):\n",
    "        \"\"\"Initialize an Agent object.\n",
    "        \n",
    "        Params\n",
    "        =======\n",
    "            state_size (int): dimension of each state\n",
    "            action_size (int): dimension of each action\n",
    "            seed (int): random seed\n",
    "        \"\"\"\n",
    "        \n",
    "        self.state_size = state_size\n",
    "        self.action_size = action_size\n",
    "        self.seed = random.seed(seed)\n",
    "        \n",
    "        \n",
    "        #Q- Network\n",
    "        self.qnetwork_local = QNetwork(state_size, action_size, seed).to(device)\n",
    "        self.qnetwork_target = QNetwork(state_size, action_size, seed).to(device)\n",
    "        \n",
    "        self.optimizer = optim.Adam(self.qnetwork_local.parameters(),lr=LR)\n",
    "        \n",
    "        # Replay memory \n",
    "        self.memory = ReplayBuffer(action_size, BUFFER_SIZE,BATCH_SIZE,seed)\n",
    "        # Initialize time step (for updating every UPDATE_EVERY steps)\n",
    "        self.t_step = 0\n",
    "        \n",
    "    def step(self, state, action, reward, next_step, done):\n",
    "        # Save experience in replay memory\n",
    "        self.memory.add(state, action, reward, next_step, done)\n",
    "\n",
    "        # Learn every UPDATE_EVERY time steps.\n",
    "        self.t_step = (self.t_step+1)% UPDATE_EVERY\n",
    "        if self.t_step == 0:\n",
    "            # If enough samples are available in memory, get radom subset and learn\n",
    "\n",
    "            if len(self.memory)>BATCH_SIZE:\n",
    "                experience = self.memory.sample()\n",
    "                self.learn(experience, GAMMA)\n",
    "    def act(self, state, eps = 0):\n",
    "        \"\"\"Returns action for given state as per current policy\n",
    "        Params\n",
    "        =======\n",
    "            state (array_like): current state\n",
    "            eps (float): epsilon, for epsilon-greedy action selection\n",
    "        \"\"\"\n",
    "        state = torch.from_numpy(state).float().unsqueeze(0).to(device)\n",
    "        self.qnetwork_local.eval()\n",
    "        with torch.no_grad():\n",
    "            action_values = self.qnetwork_local(state)\n",
    "        self.qnetwork_local.train()\n",
    "\n",
    "        #Epsilon -greedy action selction\n",
    "        if random.random() > eps:\n",
    "            return np.argmax(action_values.cpu().data.numpy())\n",
    "        else:\n",
    "            return random.choice(np.arange(self.action_size))\n",
    "            \n",
    "    def learn(self, experiences, gamma):\n",
    "        \"\"\"Update value parameters using given batch of experience tuples.\n",
    "        Params\n",
    "        =======\n",
    "            experiences (Tuple[torch.Variable]): tuple of (s, a, r, s', done) tuples\n",
    "            gamma (float): discount factor\n",
    "        \"\"\"\n",
    "        states, actions, rewards, next_states, dones = experiences\n",
    "        ## TODO: compute and minimize the loss\n",
    "        criterion = torch.nn.MSELoss()\n",
    "        self.qnetwork_local.train()\n",
    "        self.qnetwork_target.eval()\n",
    "        #shape of output from the model (batch_size,action_dim) = (64,4)\n",
    "        predicted_targets = self.qnetwork_local(states).gather(1,actions)\n",
    "    \n",
    "        with torch.no_grad():\n",
    "            labels_next = self.qnetwork_target(next_states).detach().max(1)[0].unsqueeze(1)\n",
    "\n",
    "        # .detach() ->  Returns a new Tensor, detached from the current graph.\n",
    "        labels = rewards + (gamma* labels_next*(1-dones))\n",
    "        \n",
    "        loss = criterion(predicted_targets,labels).to(device)\n",
    "        self.optimizer.zero_grad()\n",
    "        loss.backward()\n",
    "        self.optimizer.step()\n",
    "\n",
    "        # ------------------- update target network ------------------- #\n",
    "        self.soft_update(self.qnetwork_local,self.qnetwork_target,TAU)\n",
    "            \n",
    "    def soft_update(self, local_model, target_model, tau):\n",
    "        \"\"\"Soft update model parameters.\n",
    "        θ_target = τ*θ_local + (1 - τ)*θ_target\n",
    "        Params\n",
    "        =======\n",
    "            local model (PyTorch model): weights will be copied from\n",
    "            target model (PyTorch model): weights will be copied to\n",
    "            tau (float): interpolation parameter\n",
    "        \"\"\"\n",
    "        for target_param, local_param in zip(target_model.parameters(),\n",
    "                                           local_model.parameters()):\n",
    "            target_param.data.copy_(tau*local_param.data + (1-tau)*target_param.data)\n",
    "            \n",
    "class ReplayBuffer:\n",
    "    \"\"\"Fixed -size buffe to store experience tuples.\"\"\"\n",
    "    \n",
    "    def __init__(self, action_size, buffer_size, batch_size, seed):\n",
    "        \"\"\"Initialize a ReplayBuffer object.\n",
    "        \n",
    "        Params\n",
    "        ======\n",
    "            action_size (int): dimension of each action\n",
    "            buffer_size (int): maximum size of buffer\n",
    "            batch_size (int): size of each training batch\n",
    "            seed (int): random seed\n",
    "        \"\"\"\n",
    "        \n",
    "        self.action_size = action_size\n",
    "        self.memory = deque(maxlen=buffer_size)\n",
    "        self.batch_size = batch_size\n",
    "        self.experiences = namedtuple(\"Experience\", field_names=[\"state\",\n",
    "                                                               \"action\",\n",
    "                                                               \"reward\",\n",
    "                                                               \"next_state\",\n",
    "                                                               \"done\"])\n",
    "        self.seed = random.seed(seed)\n",
    "        \n",
    "    def add(self,state, action, reward, next_state,done):\n",
    "        \"\"\"Add a new experience to memory.\"\"\"\n",
    "        e = self.experiences(state,action,reward,next_state,done)\n",
    "        self.memory.append(e)\n",
    "        \n",
    "    def sample(self):\n",
    "        \"\"\"Randomly sample a batch of experiences from memory\"\"\"\n",
    "        experiences = random.sample(self.memory,k=self.batch_size)\n",
    "        \n",
    "        states = torch.from_numpy(np.vstack([e.state for e in experiences if e is not None])).float().to(device)\n",
    "        actions = torch.from_numpy(np.vstack([e.action for e in experiences if e is not None])).long().to(device)\n",
    "        rewards = torch.from_numpy(np.vstack([e.reward for e in experiences if e is not None])).float().to(device)\n",
    "        next_states = torch.from_numpy(np.vstack([e.next_state for e in experiences if e is not None])).float().to(device)\n",
    "        dones = torch.from_numpy(np.vstack([e.done for e in experiences if e is not None]).astype(np.uint8)).float().to(device)\n",
    "        \n",
    "        return (states,actions,rewards,next_states,dones)\n",
    "    def __len__(self):\n",
    "        \"\"\"Return the current size of internal memory.\"\"\"\n",
    "        return len(self.memory)"
   ]
  },
  {
   "source": [
    "## Reward Functions"
   ],
   "cell_type": "markdown",
   "metadata": {}
  },
  {
   "cell_type": "code",
   "execution_count": 97,
   "metadata": {},
   "outputs": [],
   "source": [
    "def sparse_reward(game, idx):\n",
    "    done = game.over()\n",
    "    next_state = np.array(game.board())\n",
    "    dqn_score, agent_score = game.score()\n",
    "    win = False\n",
    "    if((dqn_score > agent_score) and done):\n",
    "        reward = 1\n",
    "        win = True \n",
    "    else:\n",
    "        reward = -1\n",
    "    return(next_state, reward, done, win)\n",
    "\n",
    "def keep_ahead_reward(game, idx):\n",
    "    done = game.over()\n",
    "    next_state = np.array(game.board())\n",
    "    dqn_score, agent_score = game.score()\n",
    "    win = False\n",
    "\n",
    "    if((dqn_score - agent_score) > 0):\n",
    "        reward = 1\n",
    "    else:\n",
    "        reward = 0\n",
    "    \n",
    "    if((dqn_score > agent_score) and done):\n",
    "        win = True\n",
    "        reward = 10\n",
    "\n",
    "    return(next_state, reward, done, win)\n",
    "\n",
    "def dont_fall_behind_reward(game, idx):\n",
    "    done = game.over()\n",
    "    next_state = np.array(game.board())\n",
    "    dqn_score, agent_score = game.score()\n",
    "    win = False\n",
    "    if((dqn_score - agent_score) < 0):\n",
    "        reward = -1\n",
    "    else:\n",
    "        reward = 0\n",
    "\n",
    "    if((dqn_score > agent_score) and done):\n",
    "        win = True \n",
    "        reward = 10\n",
    "\n",
    "    return(next_state, reward, done, win)"
   ]
  },
  {
   "source": [
    "## Train The agent"
   ],
   "cell_type": "markdown",
   "metadata": {}
  },
  {
   "cell_type": "code",
   "execution_count": 98,
   "metadata": {},
   "outputs": [],
   "source": [
    "agent = DQNAgent(state_size=NUM_STATES, action_size=NUM_ACTIONS, seed=0)\n",
    "opponent = AgentRandom()\n",
    "'''\n",
    "Take a Look at Epsilons\n",
    "'''\n",
    "def dqn(n_episodes= 100, max_t = 1000, eps_start=0.4, eps_end = 0.01,\n",
    "       eps_decay=0.99):\n",
    "    \"\"\"Deep Q-Learning\n",
    "    \n",
    "    Params\n",
    "    ======\n",
    "        n_episodes (int): maximum number of training epsiodes\n",
    "        max_t (int): maximum number of timesteps per episode\n",
    "        eps_start (float): starting value of epsilon, for epsilon-greedy action selection\n",
    "        eps_end (float): minimum value of epsilon \n",
    "        eps_decay (float): mutiplicative factor (per episode) for decreasing epsilon\n",
    "        \n",
    "    \"\"\"\n",
    "    scores = [] # list containing score from each episode\n",
    "    winsarray = np.zeros(shape = (1,2)) # Story which episode saw wins\n",
    "\n",
    "    scores_window = deque(maxlen=100) # last 100 scores\n",
    "    eps = eps_start\n",
    "    for i_episode in tqdm(range(1, n_episodes+1)):\n",
    "        game = Game() # Reset Env\n",
    "        score = 0       # Reset Score\n",
    "        done = False    # Reset finished (done) flag\n",
    "        win = False\n",
    "        state = np.array(game.board()) # Reset State and convert it to numpy array\n",
    "\n",
    "        while not done:\n",
    "            action = agent.act(state,eps) # Select an action\n",
    "            ''' TAKING AN ACTION '''\n",
    "            game.move(action) # Take the action on the Game board\n",
    "            game._player_one = False\n",
    "            game.move(opponent._move(game))\n",
    "            game._player_one = True\n",
    "            next_state, reward, done, win = sparse_reward(game, i_episode) # Get next state, reward and if game is done as result of action\n",
    "            #next_state, reward, done, win = keep_ahead_reward(game)\n",
    "            agent.step(state,action,reward,next_state,done)\n",
    "\n",
    "            \n",
    "\n",
    "            \n",
    "            ## above step decides whether we will train(learn) the network\n",
    "            ## actor (local_qnetwork) or we will fill the replay buffer\n",
    "            ## if len replay buffer is equal to the batch size then we will\n",
    "            ## train the network or otherwise we will add experience tuple in our \n",
    "            ## replay buffer.\n",
    "            state = next_state\n",
    "            score += reward\n",
    "\n",
    "            if done:\n",
    "                if win:\n",
    "                    winsarray = np.append(winsarray, [[i_episode,1]], axis = 0)\n",
    "                    break\n",
    "                else:\n",
    "                    winsarray = np.append(winsarray, [[i_episode,0]], axis = 0)\n",
    "                    break\n",
    "            scores_window.append(score) ## save the most recent score\n",
    "            scores.append(score) ## sae the most recent score\n",
    "            eps = max(eps*eps_decay,eps_end)## decrease the epsilon\n",
    "            '''\n",
    "            print('\\rEpisode {}\\tAverage Score {:.2f}'.format(i_episode,np.mean(scores_window)), end=\"\")\n",
    "            if i_episode %100==0:\n",
    "                print('\\rEpisode {}\\tAverage Score {:.2f}'.format(i_episode,np.mean(scores_window)))\n",
    "\n",
    "            SAVE ENVIRONMENT IF SOLVED (WE DON'T KNOW WHAT SOLVED IS JUST YET)\n",
    "            if np.mean(scores_window)>=200.0:\n",
    "                print('\\nEnvironment solve in {:d} epsiodes!\\tAverage score: {:.2f}'.format(i_episode-100,\n",
    "                                                                                           np.mean(scores_window)))\n",
    "                torch.save(agent.qnetwork_local.state_dict(),'checkpoint.pth')\n",
    "           \n",
    "                break\n",
    "            '''\n",
    "    return winsarray"
   ]
  },
  {
   "source": [
    "print(\"Compiled\")"
   ],
   "cell_type": "code",
   "metadata": {},
   "execution_count": 99,
   "outputs": [
    {
     "output_type": "stream",
     "name": "stdout",
     "text": [
      "Compiled\n"
     ]
    }
   ]
  },
  {
   "cell_type": "code",
   "execution_count": 100,
   "metadata": {
    "tags": []
   },
   "outputs": [
    {
     "output_type": "stream",
     "name": "stderr",
     "text": [
      "100%|██████████| 4000/4000 [25:45<00:00,  2.59it/s]\n"
     ]
    },
    {
     "output_type": "execute_result",
     "data": {
      "text/plain": [
       "4001"
      ]
     },
     "metadata": {},
     "execution_count": 100
    }
   ],
   "source": [
    "N_EPISDOES = 4000\n",
    "scores = dqn(n_episodes = N_EPISDOES)\n",
    "len(scores)"
   ]
  },
  {
   "source": [
    "## Moving Average"
   ],
   "cell_type": "markdown",
   "metadata": {}
  },
  {
   "cell_type": "code",
   "execution_count": 103,
   "metadata": {},
   "outputs": [
    {
     "output_type": "execute_result",
     "data": {
      "text/plain": [
       "<function matplotlib.pyplot.show(*args, **kw)>"
      ]
     },
     "metadata": {},
     "execution_count": 103
    },
    {
     "output_type": "display_data",
     "data": {
      "text/plain": "<Figure size 432x288 with 1 Axes>",
      "image/svg+xml": "<?xml version=\"1.0\" encoding=\"utf-8\" standalone=\"no\"?>\r\n<!DOCTYPE svg PUBLIC \"-//W3C//DTD SVG 1.1//EN\"\r\n  \"http://www.w3.org/Graphics/SVG/1.1/DTD/svg11.dtd\">\r\n<!-- Created with matplotlib (https://matplotlib.org/) -->\r\n<svg height=\"248.518125pt\" version=\"1.1\" viewBox=\"0 0 378.465625 248.518125\" width=\"378.465625pt\" xmlns=\"http://www.w3.org/2000/svg\" xmlns:xlink=\"http://www.w3.org/1999/xlink\">\r\n <defs>\r\n  <style type=\"text/css\">\r\n*{stroke-linecap:butt;stroke-linejoin:round;}\r\n  </style>\r\n </defs>\r\n <g id=\"figure_1\">\r\n  <g id=\"patch_1\">\r\n   <path d=\"M 0 248.518125 \r\nL 378.465625 248.518125 \r\nL 378.465625 0 \r\nL 0 0 \r\nz\r\n\" style=\"fill:none;\"/>\r\n  </g>\r\n  <g id=\"axes_1\">\r\n   <g id=\"patch_2\">\r\n    <path d=\"M 36.465625 224.64 \r\nL 371.265625 224.64 \r\nL 371.265625 7.2 \r\nL 36.465625 7.2 \r\nz\r\n\" style=\"fill:#ffffff;\"/>\r\n   </g>\r\n   <g id=\"matplotlib.axis_1\">\r\n    <g id=\"xtick_1\">\r\n     <g id=\"line2d_1\">\r\n      <defs>\r\n       <path d=\"M 0 0 \r\nL 0 3.5 \r\n\" id=\"me77ece6b48\" style=\"stroke:#000000;stroke-width:0.8;\"/>\r\n      </defs>\r\n      <g>\r\n       <use style=\"stroke:#000000;stroke-width:0.8;\" x=\"51.683807\" xlink:href=\"#me77ece6b48\" y=\"224.64\"/>\r\n      </g>\r\n     </g>\r\n     <g id=\"text_1\">\r\n      <!-- 0 -->\r\n      <defs>\r\n       <path d=\"M 31.78125 66.40625 \r\nQ 24.171875 66.40625 20.328125 58.90625 \r\nQ 16.5 51.421875 16.5 36.375 \r\nQ 16.5 21.390625 20.328125 13.890625 \r\nQ 24.171875 6.390625 31.78125 6.390625 \r\nQ 39.453125 6.390625 43.28125 13.890625 \r\nQ 47.125 21.390625 47.125 36.375 \r\nQ 47.125 51.421875 43.28125 58.90625 \r\nQ 39.453125 66.40625 31.78125 66.40625 \r\nz\r\nM 31.78125 74.21875 \r\nQ 44.046875 74.21875 50.515625 64.515625 \r\nQ 56.984375 54.828125 56.984375 36.375 \r\nQ 56.984375 17.96875 50.515625 8.265625 \r\nQ 44.046875 -1.421875 31.78125 -1.421875 \r\nQ 19.53125 -1.421875 13.0625 8.265625 \r\nQ 6.59375 17.96875 6.59375 36.375 \r\nQ 6.59375 54.828125 13.0625 64.515625 \r\nQ 19.53125 74.21875 31.78125 74.21875 \r\nz\r\n\" id=\"DejaVuSans-48\"/>\r\n      </defs>\r\n      <g transform=\"translate(48.502557 239.238438)scale(0.1 -0.1)\">\r\n       <use xlink:href=\"#DejaVuSans-48\"/>\r\n      </g>\r\n     </g>\r\n    </g>\r\n    <g id=\"xtick_2\">\r\n     <g id=\"line2d_2\">\r\n      <g>\r\n       <use style=\"stroke:#000000;stroke-width:0.8;\" x=\"91.721118\" xlink:href=\"#me77ece6b48\" y=\"224.64\"/>\r\n      </g>\r\n     </g>\r\n     <g id=\"text_2\">\r\n      <!-- 500 -->\r\n      <defs>\r\n       <path d=\"M 10.796875 72.90625 \r\nL 49.515625 72.90625 \r\nL 49.515625 64.59375 \r\nL 19.828125 64.59375 \r\nL 19.828125 46.734375 \r\nQ 21.96875 47.46875 24.109375 47.828125 \r\nQ 26.265625 48.1875 28.421875 48.1875 \r\nQ 40.625 48.1875 47.75 41.5 \r\nQ 54.890625 34.8125 54.890625 23.390625 \r\nQ 54.890625 11.625 47.5625 5.09375 \r\nQ 40.234375 -1.421875 26.90625 -1.421875 \r\nQ 22.3125 -1.421875 17.546875 -0.640625 \r\nQ 12.796875 0.140625 7.71875 1.703125 \r\nL 7.71875 11.625 \r\nQ 12.109375 9.234375 16.796875 8.0625 \r\nQ 21.484375 6.890625 26.703125 6.890625 \r\nQ 35.15625 6.890625 40.078125 11.328125 \r\nQ 45.015625 15.765625 45.015625 23.390625 \r\nQ 45.015625 31 40.078125 35.4375 \r\nQ 35.15625 39.890625 26.703125 39.890625 \r\nQ 22.75 39.890625 18.8125 39.015625 \r\nQ 14.890625 38.140625 10.796875 36.28125 \r\nz\r\n\" id=\"DejaVuSans-53\"/>\r\n      </defs>\r\n      <g transform=\"translate(82.177368 239.238438)scale(0.1 -0.1)\">\r\n       <use xlink:href=\"#DejaVuSans-53\"/>\r\n       <use x=\"63.623047\" xlink:href=\"#DejaVuSans-48\"/>\r\n       <use x=\"127.246094\" xlink:href=\"#DejaVuSans-48\"/>\r\n      </g>\r\n     </g>\r\n    </g>\r\n    <g id=\"xtick_3\">\r\n     <g id=\"line2d_3\">\r\n      <g>\r\n       <use style=\"stroke:#000000;stroke-width:0.8;\" x=\"131.758428\" xlink:href=\"#me77ece6b48\" y=\"224.64\"/>\r\n      </g>\r\n     </g>\r\n     <g id=\"text_3\">\r\n      <!-- 1000 -->\r\n      <defs>\r\n       <path d=\"M 12.40625 8.296875 \r\nL 28.515625 8.296875 \r\nL 28.515625 63.921875 \r\nL 10.984375 60.40625 \r\nL 10.984375 69.390625 \r\nL 28.421875 72.90625 \r\nL 38.28125 72.90625 \r\nL 38.28125 8.296875 \r\nL 54.390625 8.296875 \r\nL 54.390625 0 \r\nL 12.40625 0 \r\nz\r\n\" id=\"DejaVuSans-49\"/>\r\n      </defs>\r\n      <g transform=\"translate(119.033428 239.238438)scale(0.1 -0.1)\">\r\n       <use xlink:href=\"#DejaVuSans-49\"/>\r\n       <use x=\"63.623047\" xlink:href=\"#DejaVuSans-48\"/>\r\n       <use x=\"127.246094\" xlink:href=\"#DejaVuSans-48\"/>\r\n       <use x=\"190.869141\" xlink:href=\"#DejaVuSans-48\"/>\r\n      </g>\r\n     </g>\r\n    </g>\r\n    <g id=\"xtick_4\">\r\n     <g id=\"line2d_4\">\r\n      <g>\r\n       <use style=\"stroke:#000000;stroke-width:0.8;\" x=\"171.795739\" xlink:href=\"#me77ece6b48\" y=\"224.64\"/>\r\n      </g>\r\n     </g>\r\n     <g id=\"text_4\">\r\n      <!-- 1500 -->\r\n      <g transform=\"translate(159.070739 239.238438)scale(0.1 -0.1)\">\r\n       <use xlink:href=\"#DejaVuSans-49\"/>\r\n       <use x=\"63.623047\" xlink:href=\"#DejaVuSans-53\"/>\r\n       <use x=\"127.246094\" xlink:href=\"#DejaVuSans-48\"/>\r\n       <use x=\"190.869141\" xlink:href=\"#DejaVuSans-48\"/>\r\n      </g>\r\n     </g>\r\n    </g>\r\n    <g id=\"xtick_5\">\r\n     <g id=\"line2d_5\">\r\n      <g>\r\n       <use style=\"stroke:#000000;stroke-width:0.8;\" x=\"211.83305\" xlink:href=\"#me77ece6b48\" y=\"224.64\"/>\r\n      </g>\r\n     </g>\r\n     <g id=\"text_5\">\r\n      <!-- 2000 -->\r\n      <defs>\r\n       <path d=\"M 19.1875 8.296875 \r\nL 53.609375 8.296875 \r\nL 53.609375 0 \r\nL 7.328125 0 \r\nL 7.328125 8.296875 \r\nQ 12.9375 14.109375 22.625 23.890625 \r\nQ 32.328125 33.6875 34.8125 36.53125 \r\nQ 39.546875 41.84375 41.421875 45.53125 \r\nQ 43.3125 49.21875 43.3125 52.78125 \r\nQ 43.3125 58.59375 39.234375 62.25 \r\nQ 35.15625 65.921875 28.609375 65.921875 \r\nQ 23.96875 65.921875 18.8125 64.3125 \r\nQ 13.671875 62.703125 7.8125 59.421875 \r\nL 7.8125 69.390625 \r\nQ 13.765625 71.78125 18.9375 73 \r\nQ 24.125 74.21875 28.421875 74.21875 \r\nQ 39.75 74.21875 46.484375 68.546875 \r\nQ 53.21875 62.890625 53.21875 53.421875 \r\nQ 53.21875 48.921875 51.53125 44.890625 \r\nQ 49.859375 40.875 45.40625 35.40625 \r\nQ 44.1875 33.984375 37.640625 27.21875 \r\nQ 31.109375 20.453125 19.1875 8.296875 \r\nz\r\n\" id=\"DejaVuSans-50\"/>\r\n      </defs>\r\n      <g transform=\"translate(199.10805 239.238438)scale(0.1 -0.1)\">\r\n       <use xlink:href=\"#DejaVuSans-50\"/>\r\n       <use x=\"63.623047\" xlink:href=\"#DejaVuSans-48\"/>\r\n       <use x=\"127.246094\" xlink:href=\"#DejaVuSans-48\"/>\r\n       <use x=\"190.869141\" xlink:href=\"#DejaVuSans-48\"/>\r\n      </g>\r\n     </g>\r\n    </g>\r\n    <g id=\"xtick_6\">\r\n     <g id=\"line2d_6\">\r\n      <g>\r\n       <use style=\"stroke:#000000;stroke-width:0.8;\" x=\"251.870361\" xlink:href=\"#me77ece6b48\" y=\"224.64\"/>\r\n      </g>\r\n     </g>\r\n     <g id=\"text_6\">\r\n      <!-- 2500 -->\r\n      <g transform=\"translate(239.145361 239.238438)scale(0.1 -0.1)\">\r\n       <use xlink:href=\"#DejaVuSans-50\"/>\r\n       <use x=\"63.623047\" xlink:href=\"#DejaVuSans-53\"/>\r\n       <use x=\"127.246094\" xlink:href=\"#DejaVuSans-48\"/>\r\n       <use x=\"190.869141\" xlink:href=\"#DejaVuSans-48\"/>\r\n      </g>\r\n     </g>\r\n    </g>\r\n    <g id=\"xtick_7\">\r\n     <g id=\"line2d_7\">\r\n      <g>\r\n       <use style=\"stroke:#000000;stroke-width:0.8;\" x=\"291.907671\" xlink:href=\"#me77ece6b48\" y=\"224.64\"/>\r\n      </g>\r\n     </g>\r\n     <g id=\"text_7\">\r\n      <!-- 3000 -->\r\n      <defs>\r\n       <path d=\"M 40.578125 39.3125 \r\nQ 47.65625 37.796875 51.625 33 \r\nQ 55.609375 28.21875 55.609375 21.1875 \r\nQ 55.609375 10.40625 48.1875 4.484375 \r\nQ 40.765625 -1.421875 27.09375 -1.421875 \r\nQ 22.515625 -1.421875 17.65625 -0.515625 \r\nQ 12.796875 0.390625 7.625 2.203125 \r\nL 7.625 11.71875 \r\nQ 11.71875 9.328125 16.59375 8.109375 \r\nQ 21.484375 6.890625 26.8125 6.890625 \r\nQ 36.078125 6.890625 40.9375 10.546875 \r\nQ 45.796875 14.203125 45.796875 21.1875 \r\nQ 45.796875 27.640625 41.28125 31.265625 \r\nQ 36.765625 34.90625 28.71875 34.90625 \r\nL 20.21875 34.90625 \r\nL 20.21875 43.015625 \r\nL 29.109375 43.015625 \r\nQ 36.375 43.015625 40.234375 45.921875 \r\nQ 44.09375 48.828125 44.09375 54.296875 \r\nQ 44.09375 59.90625 40.109375 62.90625 \r\nQ 36.140625 65.921875 28.71875 65.921875 \r\nQ 24.65625 65.921875 20.015625 65.03125 \r\nQ 15.375 64.15625 9.8125 62.3125 \r\nL 9.8125 71.09375 \r\nQ 15.4375 72.65625 20.34375 73.4375 \r\nQ 25.25 74.21875 29.59375 74.21875 \r\nQ 40.828125 74.21875 47.359375 69.109375 \r\nQ 53.90625 64.015625 53.90625 55.328125 \r\nQ 53.90625 49.265625 50.4375 45.09375 \r\nQ 46.96875 40.921875 40.578125 39.3125 \r\nz\r\n\" id=\"DejaVuSans-51\"/>\r\n      </defs>\r\n      <g transform=\"translate(279.182671 239.238438)scale(0.1 -0.1)\">\r\n       <use xlink:href=\"#DejaVuSans-51\"/>\r\n       <use x=\"63.623047\" xlink:href=\"#DejaVuSans-48\"/>\r\n       <use x=\"127.246094\" xlink:href=\"#DejaVuSans-48\"/>\r\n       <use x=\"190.869141\" xlink:href=\"#DejaVuSans-48\"/>\r\n      </g>\r\n     </g>\r\n    </g>\r\n    <g id=\"xtick_8\">\r\n     <g id=\"line2d_8\">\r\n      <g>\r\n       <use style=\"stroke:#000000;stroke-width:0.8;\" x=\"331.944982\" xlink:href=\"#me77ece6b48\" y=\"224.64\"/>\r\n      </g>\r\n     </g>\r\n     <g id=\"text_8\">\r\n      <!-- 3500 -->\r\n      <g transform=\"translate(319.219982 239.238438)scale(0.1 -0.1)\">\r\n       <use xlink:href=\"#DejaVuSans-51\"/>\r\n       <use x=\"63.623047\" xlink:href=\"#DejaVuSans-53\"/>\r\n       <use x=\"127.246094\" xlink:href=\"#DejaVuSans-48\"/>\r\n       <use x=\"190.869141\" xlink:href=\"#DejaVuSans-48\"/>\r\n      </g>\r\n     </g>\r\n    </g>\r\n   </g>\r\n   <g id=\"matplotlib.axis_2\">\r\n    <g id=\"ytick_1\">\r\n     <g id=\"line2d_9\">\r\n      <defs>\r\n       <path d=\"M 0 0 \r\nL -3.5 0 \r\n\" id=\"m61798c233f\" style=\"stroke:#000000;stroke-width:0.8;\"/>\r\n      </defs>\r\n      <g>\r\n       <use style=\"stroke:#000000;stroke-width:0.8;\" x=\"36.465625\" xlink:href=\"#m61798c233f\" y=\"219.57765\"/>\r\n      </g>\r\n     </g>\r\n     <g id=\"text_9\">\r\n      <!-- 0.20 -->\r\n      <defs>\r\n       <path d=\"M 10.6875 12.40625 \r\nL 21 12.40625 \r\nL 21 0 \r\nL 10.6875 0 \r\nz\r\n\" id=\"DejaVuSans-46\"/>\r\n      </defs>\r\n      <g transform=\"translate(7.2 223.376868)scale(0.1 -0.1)\">\r\n       <use xlink:href=\"#DejaVuSans-48\"/>\r\n       <use x=\"63.623047\" xlink:href=\"#DejaVuSans-46\"/>\r\n       <use x=\"95.410156\" xlink:href=\"#DejaVuSans-50\"/>\r\n       <use x=\"159.033203\" xlink:href=\"#DejaVuSans-48\"/>\r\n      </g>\r\n     </g>\r\n    </g>\r\n    <g id=\"ytick_2\">\r\n     <g id=\"line2d_10\">\r\n      <g>\r\n       <use style=\"stroke:#000000;stroke-width:0.8;\" x=\"36.465625\" xlink:href=\"#m61798c233f\" y=\"171.364789\"/>\r\n      </g>\r\n     </g>\r\n     <g id=\"text_10\">\r\n      <!-- 0.25 -->\r\n      <g transform=\"translate(7.2 175.164008)scale(0.1 -0.1)\">\r\n       <use xlink:href=\"#DejaVuSans-48\"/>\r\n       <use x=\"63.623047\" xlink:href=\"#DejaVuSans-46\"/>\r\n       <use x=\"95.410156\" xlink:href=\"#DejaVuSans-50\"/>\r\n       <use x=\"159.033203\" xlink:href=\"#DejaVuSans-53\"/>\r\n      </g>\r\n     </g>\r\n    </g>\r\n    <g id=\"ytick_3\">\r\n     <g id=\"line2d_11\">\r\n      <g>\r\n       <use style=\"stroke:#000000;stroke-width:0.8;\" x=\"36.465625\" xlink:href=\"#m61798c233f\" y=\"123.151929\"/>\r\n      </g>\r\n     </g>\r\n     <g id=\"text_11\">\r\n      <!-- 0.30 -->\r\n      <g transform=\"translate(7.2 126.951148)scale(0.1 -0.1)\">\r\n       <use xlink:href=\"#DejaVuSans-48\"/>\r\n       <use x=\"63.623047\" xlink:href=\"#DejaVuSans-46\"/>\r\n       <use x=\"95.410156\" xlink:href=\"#DejaVuSans-51\"/>\r\n       <use x=\"159.033203\" xlink:href=\"#DejaVuSans-48\"/>\r\n      </g>\r\n     </g>\r\n    </g>\r\n    <g id=\"ytick_4\">\r\n     <g id=\"line2d_12\">\r\n      <g>\r\n       <use style=\"stroke:#000000;stroke-width:0.8;\" x=\"36.465625\" xlink:href=\"#m61798c233f\" y=\"74.939069\"/>\r\n      </g>\r\n     </g>\r\n     <g id=\"text_12\">\r\n      <!-- 0.35 -->\r\n      <g transform=\"translate(7.2 78.738287)scale(0.1 -0.1)\">\r\n       <use xlink:href=\"#DejaVuSans-48\"/>\r\n       <use x=\"63.623047\" xlink:href=\"#DejaVuSans-46\"/>\r\n       <use x=\"95.410156\" xlink:href=\"#DejaVuSans-51\"/>\r\n       <use x=\"159.033203\" xlink:href=\"#DejaVuSans-53\"/>\r\n      </g>\r\n     </g>\r\n    </g>\r\n    <g id=\"ytick_5\">\r\n     <g id=\"line2d_13\">\r\n      <g>\r\n       <use style=\"stroke:#000000;stroke-width:0.8;\" x=\"36.465625\" xlink:href=\"#m61798c233f\" y=\"26.726208\"/>\r\n      </g>\r\n     </g>\r\n     <g id=\"text_13\">\r\n      <!-- 0.40 -->\r\n      <defs>\r\n       <path d=\"M 37.796875 64.3125 \r\nL 12.890625 25.390625 \r\nL 37.796875 25.390625 \r\nz\r\nM 35.203125 72.90625 \r\nL 47.609375 72.90625 \r\nL 47.609375 25.390625 \r\nL 58.015625 25.390625 \r\nL 58.015625 17.1875 \r\nL 47.609375 17.1875 \r\nL 47.609375 0 \r\nL 37.796875 0 \r\nL 37.796875 17.1875 \r\nL 4.890625 17.1875 \r\nL 4.890625 26.703125 \r\nz\r\n\" id=\"DejaVuSans-52\"/>\r\n      </defs>\r\n      <g transform=\"translate(7.2 30.525427)scale(0.1 -0.1)\">\r\n       <use xlink:href=\"#DejaVuSans-48\"/>\r\n       <use x=\"63.623047\" xlink:href=\"#DejaVuSans-46\"/>\r\n       <use x=\"95.410156\" xlink:href=\"#DejaVuSans-52\"/>\r\n       <use x=\"159.033203\" xlink:href=\"#DejaVuSans-48\"/>\r\n      </g>\r\n     </g>\r\n    </g>\r\n   </g>\r\n   <g id=\"line2d_14\">\r\n    <path clip-path=\"url(#pe6bf964734)\" d=\"M 51.683807 147.258359 \r\nL 51.843956 142.437073 \r\nL 52.324404 142.437073 \r\nL 52.564628 132.794501 \r\nL 52.644702 132.794501 \r\nL 52.965001 118.330643 \r\nL 53.12515 118.330643 \r\nL 53.285299 123.151929 \r\nL 53.365374 123.151929 \r\nL 53.525523 127.973215 \r\nL 53.685672 123.151929 \r\nL 53.765747 127.973215 \r\nL 53.925896 123.151929 \r\nL 54.005971 123.151929 \r\nL 54.246195 113.509357 \r\nL 54.566493 113.509357 \r\nL 54.726642 118.330643 \r\nL 55.046941 118.330643 \r\nL 55.20709 113.509357 \r\nL 55.367239 118.330643 \r\nL 55.447314 118.330643 \r\nL 55.607463 123.151929 \r\nL 55.687538 123.151929 \r\nL 55.767613 127.973215 \r\nL 56.087911 108.688071 \r\nL 56.328135 118.330643 \r\nL 56.408209 118.330643 \r\nL 56.568359 123.151929 \r\nL 56.728508 123.151929 \r\nL 56.968732 132.794501 \r\nL 57.128881 132.794501 \r\nL 57.369105 123.151929 \r\nL 57.44918 123.151929 \r\nL 57.529254 127.973215 \r\nL 57.769478 118.330643 \r\nL 57.929627 118.330643 \r\nL 58.089777 108.688071 \r\nL 58.410075 123.151929 \r\nL 58.49015 123.151929 \r\nL 58.650299 127.973215 \r\nL 58.730374 127.973215 \r\nL 58.810448 123.151929 \r\nL 58.970597 127.973215 \r\nL 59.210821 118.330643 \r\nL 59.451045 118.330643 \r\nL 59.611194 113.509357 \r\nL 60.011567 113.509357 \r\nL 60.091642 108.688071 \r\nL 60.331866 118.330643 \r\nL 60.411941 118.330643 \r\nL 60.652164 127.973215 \r\nL 60.892388 127.973215 \r\nL 61.052538 132.794501 \r\nL 61.212687 132.794501 \r\nL 61.292761 127.973215 \r\nL 61.372836 132.794501 \r\nL 61.532985 123.151929 \r\nL 61.773209 132.794501 \r\nL 61.933358 127.973215 \r\nL 62.093508 127.973215 \r\nL 62.333731 118.330643 \r\nL 62.573955 118.330643 \r\nL 62.734105 113.509357 \r\nL 62.974328 123.151929 \r\nL 63.294627 123.151929 \r\nL 63.454776 118.330643 \r\nL 63.534851 118.330643 \r\nL 63.695 123.151929 \r\nL 63.775075 123.151929 \r\nL 63.935224 118.330643 \r\nL 64.255522 118.330643 \r\nL 64.495746 108.688071 \r\nL 64.655896 113.509357 \r\nL 64.73597 113.509357 \r\nL 64.896119 118.330643 \r\nL 65.056269 118.330643 \r\nL 65.296492 127.973215 \r\nL 65.77694 127.973215 \r\nL 66.017164 137.615787 \r\nL 66.177313 137.615787 \r\nL 66.257388 142.437073 \r\nL 66.337463 137.615787 \r\nL 66.657761 152.079645 \r\nL 66.897985 152.079645 \r\nL 67.058134 156.900931 \r\nL 67.218283 156.900931 \r\nL 67.378433 152.079645 \r\nL 67.618656 152.079645 \r\nL 67.778806 147.258359 \r\nL 68.259253 147.258359 \r\nL 68.339328 142.437073 \r\nL 68.979925 176.186075 \r\nL 69.06 176.186075 \r\nL 69.300224 166.543503 \r\nL 69.540447 166.543503 \r\nL 69.700597 171.364789 \r\nL 69.780671 171.364789 \r\nL 69.940821 176.186075 \r\nL 70.020895 171.364789 \r\nL 70.181044 176.186075 \r\nL 70.261119 176.186075 \r\nL 70.421268 171.364789 \r\nL 70.501343 176.186075 \r\nL 70.821641 161.722217 \r\nL 70.981791 161.722217 \r\nL 71.061865 156.900931 \r\nL 71.14194 161.722217 \r\nL 71.382164 152.079645 \r\nL 71.622388 152.079645 \r\nL 72.022761 171.364789 \r\nL 72.102835 171.364789 \r\nL 72.262985 166.543503 \r\nL 72.583283 166.543503 \r\nL 72.823507 156.900931 \r\nL 72.903582 156.900931 \r\nL 72.983656 161.722217 \r\nL 73.143805 156.900931 \r\nL 73.464104 171.364789 \r\nL 73.784402 171.364789 \r\nL 73.944552 166.543503 \r\nL 74.104701 171.364789 \r\nL 74.26485 171.364789 \r\nL 74.424999 166.543503 \r\nL 74.585149 171.364789 \r\nL 74.745298 171.364789 \r\nL 74.905447 176.186075 \r\nL 74.985522 171.364789 \r\nL 75.065596 176.186075 \r\nL 75.145671 171.364789 \r\nL 75.30582 176.186075 \r\nL 75.465969 171.364789 \r\nL 75.626119 176.186075 \r\nL 75.786268 171.364789 \r\nL 75.946417 171.364789 \r\nL 76.026492 166.543503 \r\nL 76.106566 171.364789 \r\nL 76.34679 161.722217 \r\nL 76.506939 161.722217 \r\nL 76.667089 156.900931 \r\nL 76.747163 161.722217 \r\nL 76.827238 156.900931 \r\nL 76.987387 161.722217 \r\nL 77.067462 161.722217 \r\nL 77.227611 152.079645 \r\nL 77.467835 161.722217 \r\nL 77.627984 161.722217 \r\nL 77.788133 156.900931 \r\nL 77.948283 161.722217 \r\nL 78.108432 161.722217 \r\nL 78.268581 166.543503 \r\nL 78.348656 166.543503 \r\nL 78.508805 161.722217 \r\nL 79.149402 161.722217 \r\nL 79.309551 166.543503 \r\nL 79.549775 166.543503 \r\nL 79.709924 161.722217 \r\nL 80.190372 161.722217 \r\nL 80.270447 156.900931 \r\nL 80.510671 166.543503 \r\nL 80.590745 166.543503 \r\nL 81.071193 142.437073 \r\nL 81.151268 142.437073 \r\nL 81.391491 132.794501 \r\nL 81.471566 132.794501 \r\nL 81.551641 127.973215 \r\nL 81.71179 132.794501 \r\nL 81.952014 132.794501 \r\nL 82.272312 113.509357 \r\nL 82.432461 118.330643 \r\nL 82.592611 113.509357 \r\nL 82.672685 113.509357 \r\nL 82.75276 108.688071 \r\nL 82.912909 113.509357 \r\nL 83.233208 113.509357 \r\nL 83.393357 118.330643 \r\nL 83.473432 118.330643 \r\nL 83.553506 113.509357 \r\nL 83.713655 118.330643 \r\nL 83.79373 118.330643 \r\nL 84.033954 108.688071 \r\nL 84.434327 108.688071 \r\nL 84.594476 103.866785 \r\nL 84.674551 103.866785 \r\nL 84.914775 94.224213 \r\nL 85.074924 94.224213 \r\nL 85.235073 99.045499 \r\nL 85.475297 99.045499 \r\nL 85.635446 94.224213 \r\nL 85.87567 94.224213 \r\nL 86.035819 89.402927 \r\nL 86.195969 89.402927 \r\nL 86.276043 84.581641 \r\nL 86.436193 89.402927 \r\nL 86.516267 89.402927 \r\nL 86.676416 94.224213 \r\nL 86.756491 94.224213 \r\nL 86.996715 84.581641 \r\nL 87.07679 89.402927 \r\nL 87.156864 84.581641 \r\nL 87.317013 89.402927 \r\nL 87.397088 89.402927 \r\nL 87.557237 84.581641 \r\nL 87.717386 84.581641 \r\nL 87.877536 79.760355 \r\nL 88.037685 79.760355 \r\nL 88.197834 89.402927 \r\nL 88.598207 70.117783 \r\nL 88.758357 70.117783 \r\nL 88.918506 74.939069 \r\nL 89.479028 46.011353 \r\nL 89.639177 46.011353 \r\nL 89.879401 55.653925 \r\nL 90.039551 55.653925 \r\nL 90.1997 60.475211 \r\nL 90.279774 60.475211 \r\nL 90.439924 65.296497 \r\nL 90.600073 60.475211 \r\nL 90.920371 60.475211 \r\nL 91.000446 65.296497 \r\nL 91.160595 60.475211 \r\nL 91.320744 60.475211 \r\nL 91.400819 65.296497 \r\nL 91.560968 60.475211 \r\nL 91.801192 60.475211 \r\nL 91.961341 50.832639 \r\nL 92.201565 60.475211 \r\nL 92.28164 55.653925 \r\nL 92.361715 60.475211 \r\nL 92.521864 55.653925 \r\nL 92.682013 60.475211 \r\nL 92.842162 55.653925 \r\nL 93.002312 55.653925 \r\nL 93.162461 50.832639 \r\nL 93.242535 55.653925 \r\nL 93.482759 41.190067 \r\nL 93.722983 50.832639 \r\nL 93.963207 41.190067 \r\nL 94.36358 41.190067 \r\nL 94.523729 46.011353 \r\nL 94.603804 41.190067 \r\nL 94.763953 46.011353 \r\nL 95.004177 36.36878 \r\nL 95.324476 36.36878 \r\nL 95.40455 41.190067 \r\nL 95.564699 36.36878 \r\nL 95.724849 41.190067 \r\nL 95.804923 36.36878 \r\nL 95.965073 41.190067 \r\nL 96.205296 41.190067 \r\nL 96.285371 46.011353 \r\nL 96.605669 31.547494 \r\nL 96.685744 31.547494 \r\nL 96.925968 41.190067 \r\nL 97.006043 41.190067 \r\nL 97.166192 31.547494 \r\nL 97.326341 36.36878 \r\nL 97.48649 36.36878 \r\nL 97.566565 41.190067 \r\nL 97.966938 21.904922 \r\nL 98.047013 21.904922 \r\nL 98.367311 36.36878 \r\nL 98.52746 36.36878 \r\nL 98.68761 31.547494 \r\nL 99.007908 31.547494 \r\nL 99.168057 21.904922 \r\nL 99.248132 26.726208 \r\nL 99.408281 17.083636 \r\nL 99.808654 36.36878 \r\nL 100.369177 36.36878 \r\nL 100.689475 21.904922 \r\nL 100.849624 26.726208 \r\nL 100.929699 26.726208 \r\nL 101.169923 17.083636 \r\nL 101.330072 21.904922 \r\nL 101.490221 21.904922 \r\nL 101.650371 26.726208 \r\nL 101.890595 26.726208 \r\nL 102.130818 36.36878 \r\nL 102.210893 36.36878 \r\nL 102.371042 41.190067 \r\nL 102.531191 41.190067 \r\nL 102.691341 36.36878 \r\nL 102.931565 50.832639 \r\nL 103.091714 46.011353 \r\nL 103.251863 50.832639 \r\nL 103.732311 50.832639 \r\nL 103.89246 55.653925 \r\nL 104.212759 55.653925 \r\nL 104.452982 65.296497 \r\nL 104.533057 65.296497 \r\nL 104.693206 70.117783 \r\nL 104.773281 70.117783 \r\nL 104.93343 60.475211 \r\nL 105.413878 84.581641 \r\nL 105.493952 84.581641 \r\nL 105.574027 79.760355 \r\nL 105.734176 84.581641 \r\nL 106.294699 84.581641 \r\nL 106.454848 79.760355 \r\nL 107.01537 79.760355 \r\nL 107.17552 84.581641 \r\nL 107.415743 84.581641 \r\nL 107.575893 89.402927 \r\nL 107.816116 89.402927 \r\nL 107.976266 94.224213 \r\nL 108.21649 84.581641 \r\nL 108.456713 94.224213 \r\nL 108.777012 94.224213 \r\nL 108.937161 99.045499 \r\nL 109.017236 99.045499 \r\nL 109.177385 108.688071 \r\nL 109.337534 103.866785 \r\nL 109.577758 113.509357 \r\nL 109.657833 113.509357 \r\nL 109.737907 108.688071 \r\nL 109.898057 113.509357 \r\nL 109.978131 113.509357 \r\nL 110.138281 108.688071 \r\nL 110.218355 108.688071 \r\nL 110.378504 113.509357 \r\nL 110.458579 113.509357 \r\nL 110.538654 108.688071 \r\nL 110.618728 113.509357 \r\nL 110.778877 103.866785 \r\nL 111.019101 113.509357 \r\nL 111.3394 113.509357 \r\nL 111.419474 108.688071 \r\nL 111.579624 113.509357 \r\nL 111.659698 113.509357 \r\nL 111.979997 99.045499 \r\nL 112.060071 99.045499 \r\nL 112.220221 94.224213 \r\nL 112.300295 94.224213 \r\nL 112.700668 113.509357 \r\nL 112.860818 113.509357 \r\nL 113.181116 132.794501 \r\nL 113.341265 123.151929 \r\nL 113.501415 127.973215 \r\nL 113.581489 123.151929 \r\nL 113.741638 127.973215 \r\nL 113.821713 127.973215 \r\nL 114.061937 142.437073 \r\nL 114.382235 127.973215 \r\nL 114.46231 127.973215 \r\nL 114.782609 142.437073 \r\nL 114.942758 137.615787 \r\nL 115.022832 137.615787 \r\nL 115.423206 156.900931 \r\nL 115.823579 156.900931 \r\nL 116.063803 166.543503 \r\nL 116.304026 166.543503 \r\nL 116.624325 181.007361 \r\nL 116.864549 181.007361 \r\nL 117.184847 195.47122 \r\nL 117.344996 190.649933 \r\nL 118.065668 190.649933 \r\nL 118.305892 181.007361 \r\nL 118.466041 181.007361 \r\nL 118.546116 176.186075 \r\nL 118.706265 181.007361 \r\nL 118.946489 181.007361 \r\nL 119.106638 185.828647 \r\nL 119.186713 185.828647 \r\nL 119.346862 176.186075 \r\nL 119.507011 185.828647 \r\nL 119.66716 181.007361 \r\nL 119.987459 181.007361 \r\nL 120.147608 176.186075 \r\nL 120.387832 176.186075 \r\nL 120.547981 181.007361 \r\nL 120.788205 181.007361 \r\nL 120.948354 190.649933 \r\nL 121.028429 185.828647 \r\nL 121.108504 190.649933 \r\nL 121.268653 185.828647 \r\nL 121.428802 185.828647 \r\nL 121.588951 195.47122 \r\nL 121.829175 185.828647 \r\nL 122.229548 185.828647 \r\nL 122.309623 181.007361 \r\nL 122.549847 190.649933 \r\nL 122.790071 181.007361 \r\nL 123.030295 181.007361 \r\nL 123.270518 171.364789 \r\nL 123.350593 171.364789 \r\nL 123.590817 161.722217 \r\nL 123.670892 161.722217 \r\nL 123.750966 166.543503 \r\nL 123.911115 161.722217 \r\nL 124.231414 176.186075 \r\nL 124.311489 176.186075 \r\nL 124.471638 171.364789 \r\nL 124.711862 171.364789 \r\nL 124.872011 176.186075 \r\nL 125.112235 176.186075 \r\nL 125.192309 171.364789 \r\nL 125.352459 176.186075 \r\nL 125.432533 176.186075 \r\nL 125.592682 171.364789 \r\nL 125.672757 171.364789 \r\nL 125.752832 176.186075 \r\nL 125.912981 171.364789 \r\nL 126.153205 181.007361 \r\nL 126.233279 181.007361 \r\nL 126.393429 176.186075 \r\nL 126.553578 176.186075 \r\nL 126.633653 171.364789 \r\nL 126.793802 181.007361 \r\nL 127.27425 156.900931 \r\nL 127.354324 156.900931 \r\nL 127.514473 161.722217 \r\nL 127.594548 161.722217 \r\nL 127.674623 156.900931 \r\nL 127.994921 171.364789 \r\nL 128.074996 166.543503 \r\nL 128.235145 171.364789 \r\nL 128.31522 171.364789 \r\nL 128.635518 156.900931 \r\nL 128.955817 156.900931 \r\nL 129.115966 152.079645 \r\nL 129.19604 152.079645 \r\nL 129.436264 161.722217 \r\nL 129.596414 161.722217 \r\nL 129.676488 156.900931 \r\nL 129.836637 161.722217 \r\nL 129.916712 161.722217 \r\nL 130.076861 152.079645 \r\nL 130.39716 166.543503 \r\nL 130.637384 156.900931 \r\nL 130.797533 156.900931 \r\nL 130.877607 161.722217 \r\nL 131.117831 152.079645 \r\nL 131.358055 152.079645 \r\nL 131.518204 147.258359 \r\nL 132.238876 147.258359 \r\nL 132.399025 142.437073 \r\nL 132.4791 147.258359 \r\nL 132.639249 137.615787 \r\nL 132.799398 142.437073 \r\nL 132.879473 142.437073 \r\nL 133.039622 137.615787 \r\nL 133.199772 137.615787 \r\nL 133.359921 142.437073 \r\nL 133.600145 132.794501 \r\nL 134.080592 132.794501 \r\nL 134.320816 142.437073 \r\nL 134.400891 142.437073 \r\nL 134.56104 137.615787 \r\nL 134.641115 137.615787 \r\nL 134.801264 142.437073 \r\nL 134.881339 142.437073 \r\nL 135.041488 137.615787 \r\nL 135.121562 137.615787 \r\nL 135.201637 132.794501 \r\nL 135.441861 142.437073 \r\nL 135.762159 142.437073 \r\nL 136.002383 127.973215 \r\nL 136.162533 132.794501 \r\nL 136.402756 123.151929 \r\nL 136.64298 123.151929 \r\nL 136.723055 127.973215 \r\nL 136.963279 118.330643 \r\nL 137.043353 118.330643 \r\nL 137.123428 113.509357 \r\nL 137.283577 118.330643 \r\nL 137.443726 113.509357 \r\nL 137.764025 113.509357 \r\nL 137.924174 118.330643 \r\nL 138.164398 108.688071 \r\nL 138.324547 108.688071 \r\nL 138.564771 99.045499 \r\nL 138.804995 108.688071 \r\nL 138.965144 103.866785 \r\nL 139.365517 103.866785 \r\nL 139.605741 113.509357 \r\nL 139.76589 103.866785 \r\nL 139.92604 108.688071 \r\nL 140.246338 108.688071 \r\nL 140.326413 103.866785 \r\nL 140.486562 108.688071 \r\nL 141.047084 108.688071 \r\nL 141.127159 103.866785 \r\nL 141.207234 108.688071 \r\nL 141.287308 103.866785 \r\nL 141.527532 113.509357 \r\nL 141.687681 108.688071 \r\nL 141.767756 108.688071 \r\nL 141.927905 113.509357 \r\nL 142.088055 108.688071 \r\nL 142.728651 108.688071 \r\nL 142.888801 103.866785 \r\nL 143.04895 103.866785 \r\nL 143.209099 108.688071 \r\nL 143.289174 108.688071 \r\nL 143.529398 99.045499 \r\nL 143.609472 99.045499 \r\nL 143.689547 103.866785 \r\nL 143.849696 99.045499 \r\nL 144.08992 108.688071 \r\nL 144.250069 108.688071 \r\nL 144.330144 103.866785 \r\nL 144.570368 113.509357 \r\nL 144.730517 108.688071 \r\nL 144.810592 108.688071 \r\nL 144.970741 99.045499 \r\nL 145.13089 103.866785 \r\nL 145.531263 103.866785 \r\nL 145.771487 113.509357 \r\nL 145.851562 113.509357 \r\nL 145.931636 108.688071 \r\nL 146.17186 118.330643 \r\nL 146.332009 118.330643 \r\nL 146.572233 108.688071 \r\nL 146.732383 113.509357 \r\nL 146.892532 108.688071 \r\nL 147.052681 118.330643 \r\nL 147.21283 113.509357 \r\nL 147.292905 113.509357 \r\nL 147.37298 108.688071 \r\nL 147.533129 113.509357 \r\nL 147.773353 113.509357 \r\nL 147.933502 108.688071 \r\nL 148.013576 108.688071 \r\nL 148.2538 94.224213 \r\nL 148.333875 99.045499 \r\nL 148.494024 89.402927 \r\nL 148.654173 94.224213 \r\nL 148.894397 94.224213 \r\nL 149.054547 99.045499 \r\nL 149.29477 89.402927 \r\nL 149.45492 89.402927 \r\nL 149.615069 94.224213 \r\nL 149.775218 94.224213 \r\nL 149.935367 89.402927 \r\nL 150.175591 89.402927 \r\nL 150.255666 84.581641 \r\nL 150.335741 89.402927 \r\nL 150.415815 84.581641 \r\nL 150.656039 94.224213 \r\nL 150.816188 89.402927 \r\nL 150.896263 89.402927 \r\nL 151.056412 94.224213 \r\nL 151.136487 94.224213 \r\nL 151.296636 99.045499 \r\nL 151.456785 94.224213 \r\nL 151.53686 94.224213 \r\nL 151.697009 99.045499 \r\nL 151.937233 99.045499 \r\nL 152.017308 103.866785 \r\nL 152.177457 99.045499 \r\nL 152.257531 103.866785 \r\nL 152.337606 99.045499 \r\nL 152.417681 103.866785 \r\nL 152.657905 94.224213 \r\nL 152.818054 94.224213 \r\nL 153.138352 108.688071 \r\nL 153.218427 108.688071 \r\nL 153.378576 103.866785 \r\nL 153.538725 103.866785 \r\nL 153.6188 99.045499 \r\nL 153.698875 103.866785 \r\nL 153.859024 99.045499 \r\nL 153.939098 99.045499 \r\nL 154.099248 108.688071 \r\nL 154.259397 103.866785 \r\nL 154.339472 103.866785 \r\nL 154.579695 113.509357 \r\nL 154.739845 108.688071 \r\nL 154.819919 108.688071 \r\nL 154.980069 113.509357 \r\nL 155.060143 113.509357 \r\nL 155.300367 123.151929 \r\nL 155.620666 108.688071 \r\nL 155.780815 113.509357 \r\nL 155.940964 108.688071 \r\nL 156.261263 108.688071 \r\nL 156.421412 113.509357 \r\nL 156.501486 113.509357 \r\nL 156.74171 103.866785 \r\nL 156.901859 103.866785 \r\nL 157.062009 99.045499 \r\nL 157.302233 108.688071 \r\nL 157.542456 99.045499 \r\nL 157.702606 103.866785 \r\nL 157.862755 103.866785 \r\nL 157.94283 99.045499 \r\nL 158.102979 103.866785 \r\nL 158.263128 94.224213 \r\nL 158.343203 99.045499 \r\nL 158.503352 94.224213 \r\nL 158.82365 94.224213 \r\nL 159.063874 103.866785 \r\nL 159.143949 99.045499 \r\nL 159.384173 113.509357 \r\nL 159.544322 108.688071 \r\nL 160.425143 108.688071 \r\nL 160.505217 113.509357 \r\nL 160.825516 99.045499 \r\nL 161.06574 108.688071 \r\nL 161.305964 99.045499 \r\nL 161.466113 99.045499 \r\nL 161.626262 94.224213 \r\nL 161.866486 94.224213 \r\nL 162.026635 99.045499 \r\nL 162.346934 99.045499 \r\nL 162.587158 108.688071 \r\nL 162.747307 103.866785 \r\nL 162.827381 108.688071 \r\nL 163.067605 99.045499 \r\nL 163.14768 103.866785 \r\nL 163.307829 94.224213 \r\nL 163.467978 99.045499 \r\nL 163.788277 84.581641 \r\nL 163.948426 89.402927 \r\nL 164.028501 89.402927 \r\nL 164.268725 103.866785 \r\nL 164.348799 99.045499 \r\nL 164.508949 108.688071 \r\nL 164.589023 103.866785 \r\nL 164.669098 108.688071 \r\nL 164.829247 103.866785 \r\nL 164.989396 103.866785 \r\nL 165.149545 99.045499 \r\nL 165.22962 103.866785 \r\nL 165.389769 99.045499 \r\nL 165.549919 103.866785 \r\nL 165.629993 103.866785 \r\nL 165.790142 99.045499 \r\nL 165.950292 103.866785 \r\nL 166.190516 103.866785 \r\nL 166.27059 108.688071 \r\nL 166.350665 103.866785 \r\nL 166.510814 108.688071 \r\nL 166.670963 99.045499 \r\nL 166.831113 103.866785 \r\nL 166.911187 103.866785 \r\nL 167.071336 99.045499 \r\nL 167.31156 99.045499 \r\nL 167.47171 103.866785 \r\nL 167.551784 103.866785 \r\nL 167.711933 99.045499 \r\nL 167.792008 99.045499 \r\nL 167.952157 103.866785 \r\nL 168.032232 99.045499 \r\nL 168.192381 103.866785 \r\nL 168.272456 99.045499 \r\nL 168.35253 103.866785 \r\nL 168.51268 99.045499 \r\nL 168.592754 103.866785 \r\nL 168.752903 94.224213 \r\nL 168.832978 99.045499 \r\nL 169.233351 79.760355 \r\nL 169.3935 84.581641 \r\nL 169.55365 84.581641 \r\nL 169.793874 94.224213 \r\nL 170.034097 84.581641 \r\nL 170.114172 84.581641 \r\nL 170.354396 94.224213 \r\nL 170.59462 84.581641 \r\nL 170.674694 89.402927 \r\nL 170.834844 84.581641 \r\nL 170.994993 84.581641 \r\nL 171.155142 79.760355 \r\nL 171.235217 84.581641 \r\nL 171.315291 79.760355 \r\nL 171.555515 89.402927 \r\nL 171.715664 89.402927 \r\nL 171.875814 94.224213 \r\nL 172.516411 94.224213 \r\nL 172.596485 99.045499 \r\nL 172.67656 94.224213 \r\nL 172.836709 99.045499 \r\nL 172.916784 94.224213 \r\nL 173.076933 99.045499 \r\nL 173.317157 99.045499 \r\nL 173.477306 108.688071 \r\nL 173.71753 99.045499 \r\nL 173.797605 99.045499 \r\nL 173.877679 94.224213 \r\nL 174.037828 99.045499 \r\nL 174.117903 99.045499 \r\nL 174.278052 103.866785 \r\nL 174.518276 103.866785 \r\nL 174.838575 118.330643 \r\nL 174.998724 113.509357 \r\nL 175.078799 113.509357 \r\nL 175.158873 118.330643 \r\nL 175.399097 108.688071 \r\nL 175.559246 113.509357 \r\nL 175.719396 113.509357 \r\nL 175.879545 118.330643 \r\nL 176.039694 113.509357 \r\nL 176.279918 113.509357 \r\nL 176.359993 118.330643 \r\nL 176.520142 113.509357 \r\nL 176.84044 127.973215 \r\nL 177.160739 127.973215 \r\nL 177.320888 132.794501 \r\nL 177.561112 132.794501 \r\nL 177.961485 113.509357 \r\nL 178.201709 113.509357 \r\nL 178.441933 103.866785 \r\nL 178.522007 108.688071 \r\nL 178.682157 103.866785 \r\nL 178.842306 103.866785 \r\nL 178.92238 108.688071 \r\nL 179.002455 103.866785 \r\nL 179.08253 108.688071 \r\nL 179.162604 103.866785 \r\nL 179.322754 108.688071 \r\nL 179.402828 108.688071 \r\nL 179.482903 103.866785 \r\nL 179.562977 108.688071 \r\nL 179.643052 103.866785 \r\nL 179.803201 108.688071 \r\nL 179.96335 108.688071 \r\nL 180.1235 103.866785 \r\nL 180.283649 103.866785 \r\nL 180.443798 108.688071 \r\nL 180.523873 103.866785 \r\nL 180.764097 113.509357 \r\nL 180.924246 108.688071 \r\nL 181.484768 108.688071 \r\nL 181.644918 103.866785 \r\nL 181.805067 108.688071 \r\nL 182.045291 99.045499 \r\nL 182.20544 99.045499 \r\nL 182.285515 94.224213 \r\nL 182.445664 99.045499 \r\nL 182.525738 94.224213 \r\nL 182.765962 103.866785 \r\nL 182.926111 99.045499 \r\nL 183.006186 103.866785 \r\nL 183.24641 94.224213 \r\nL 183.406559 94.224213 \r\nL 183.566708 89.402927 \r\nL 183.887007 89.402927 \r\nL 184.127231 99.045499 \r\nL 184.28738 94.224213 \r\nL 184.367455 94.224213 \r\nL 184.767828 113.509357 \r\nL 184.927977 108.688071 \r\nL 185.088126 108.688071 \r\nL 185.248275 118.330643 \r\nL 185.32835 113.509357 \r\nL 185.408425 118.330643 \r\nL 185.808798 99.045499 \r\nL 186.049022 108.688071 \r\nL 186.36932 94.224213 \r\nL 186.529469 103.866785 \r\nL 186.689619 94.224213 \r\nL 186.769693 99.045499 \r\nL 187.009917 89.402927 \r\nL 187.170066 94.224213 \r\nL 187.250141 89.402927 \r\nL 187.41029 94.224213 \r\nL 187.57044 94.224213 \r\nL 187.730589 99.045499 \r\nL 187.810663 94.224213 \r\nL 187.970813 99.045499 \r\nL 188.130962 94.224213 \r\nL 188.371186 94.224213 \r\nL 188.61141 84.581641 \r\nL 188.771559 89.402927 \r\nL 188.851633 89.402927 \r\nL 189.011783 94.224213 \r\nL 189.332081 79.760355 \r\nL 189.49223 79.760355 \r\nL 189.732454 89.402927 \r\nL 189.812529 84.581641 \r\nL 189.972678 89.402927 \r\nL 190.052753 89.402927 \r\nL 190.212902 84.581641 \r\nL 190.292977 89.402927 \r\nL 190.373051 84.581641 \r\nL 190.453126 89.402927 \r\nL 190.69335 79.760355 \r\nL 190.853499 79.760355 \r\nL 191.013648 84.581641 \r\nL 191.093723 84.581641 \r\nL 191.173797 79.760355 \r\nL 191.414021 89.402927 \r\nL 191.894469 89.402927 \r\nL 192.054618 94.224213 \r\nL 192.535066 94.224213 \r\nL 192.935439 74.939069 \r\nL 193.255738 74.939069 \r\nL 193.415887 70.117783 \r\nL 193.576036 70.117783 \r\nL 193.976409 89.402927 \r\nL 194.216633 89.402927 \r\nL 194.376782 94.224213 \r\nL 194.536932 94.224213 \r\nL 194.697081 103.866785 \r\nL 194.85723 99.045499 \r\nL 195.097454 99.045499 \r\nL 195.177529 103.866785 \r\nL 195.337678 99.045499 \r\nL 195.497827 99.045499 \r\nL 195.577902 94.224213 \r\nL 195.818126 103.866785 \r\nL 196.138424 89.402927 \r\nL 196.298573 89.402927 \r\nL 196.458723 84.581641 \r\nL 196.618872 89.402927 \r\nL 196.779021 84.581641 \r\nL 196.859096 84.581641 \r\nL 197.019245 79.760355 \r\nL 197.179394 84.581641 \r\nL 197.259469 79.760355 \r\nL 197.419618 84.581641 \r\nL 197.499693 84.581641 \r\nL 197.659842 89.402927 \r\nL 197.900066 79.760355 \r\nL 197.98014 84.581641 \r\nL 198.14029 79.760355 \r\nL 198.620737 79.760355 \r\nL 198.780887 74.939069 \r\nL 198.941036 79.760355 \r\nL 199.02111 74.939069 \r\nL 199.261334 84.581641 \r\nL 199.421484 79.760355 \r\nL 199.661707 89.402927 \r\nL 200.22223 89.402927 \r\nL 200.382379 94.224213 \r\nL 200.542528 94.224213 \r\nL 200.702677 89.402927 \r\nL 200.782752 89.402927 \r\nL 200.942901 99.045499 \r\nL 201.103051 94.224213 \r\nL 201.183125 94.224213 \r\nL 201.2632 89.402927 \r\nL 201.423349 94.224213 \r\nL 201.503424 94.224213 \r\nL 201.823722 108.688071 \r\nL 202.063946 108.688071 \r\nL 202.30417 118.330643 \r\nL 202.784618 118.330643 \r\nL 202.944767 123.151929 \r\nL 203.024841 123.151929 \r\nL 203.184991 113.509357 \r\nL 203.265065 118.330643 \r\nL 203.425215 113.509357 \r\nL 203.665438 113.509357 \r\nL 203.825588 108.688071 \r\nL 203.905662 108.688071 \r\nL 203.985737 103.866785 \r\nL 204.065812 108.688071 \r\nL 204.225961 103.866785 \r\nL 204.38611 103.866785 \r\nL 204.626334 113.509357 \r\nL 204.866558 113.509357 \r\nL 205.026707 103.866785 \r\nL 205.347005 118.330643 \r\nL 205.667304 103.866785 \r\nL 205.747379 103.866785 \r\nL 205.827453 108.688071 \r\nL 205.987602 103.866785 \r\nL 206.067677 103.866785 \r\nL 206.227826 108.688071 \r\nL 206.307901 108.688071 \r\nL 206.387976 113.509357 \r\nL 206.46805 108.688071 \r\nL 206.628199 113.509357 \r\nL 206.708274 113.509357 \r\nL 206.868423 108.688071 \r\nL 207.028573 108.688071 \r\nL 207.108647 103.866785 \r\nL 207.268796 108.688071 \r\nL 207.428946 103.866785 \r\nL 207.50902 103.866785 \r\nL 207.66917 108.688071 \r\nL 207.829319 108.688071 \r\nL 208.149617 94.224213 \r\nL 208.229692 94.224213 \r\nL 208.389841 84.581641 \r\nL 208.630065 94.224213 \r\nL 208.71014 94.224213 \r\nL 208.950363 103.866785 \r\nL 209.110513 99.045499 \r\nL 209.190587 99.045499 \r\nL 209.430811 89.402927 \r\nL 209.510886 89.402927 \r\nL 209.671035 94.224213 \r\nL 209.991334 94.224213 \r\nL 210.231557 84.581641 \r\nL 210.712005 84.581641 \r\nL 210.872154 89.402927 \r\nL 210.952229 89.402927 \r\nL 211.032304 94.224213 \r\nL 211.272527 84.581641 \r\nL 211.352602 89.402927 \r\nL 211.512751 84.581641 \r\nL 211.752975 84.581641 \r\nL 211.913124 79.760355 \r\nL 212.153348 94.224213 \r\nL 212.313498 89.402927 \r\nL 212.473647 94.224213 \r\nL 212.553721 94.224213 \r\nL 212.713871 89.402927 \r\nL 212.793945 89.402927 \r\nL 212.954095 94.224213 \r\nL 213.114244 94.224213 \r\nL 213.274393 99.045499 \r\nL 213.754841 99.045499 \r\nL 214.075139 113.509357 \r\nL 214.155214 113.509357 \r\nL 214.235288 108.688071 \r\nL 214.395438 113.509357 \r\nL 214.635662 113.509357 \r\nL 214.795811 118.330643 \r\nL 214.95596 113.509357 \r\nL 215.036035 118.330643 \r\nL 215.196184 113.509357 \r\nL 215.356333 113.509357 \r\nL 215.836781 89.402927 \r\nL 216.797676 89.402927 \r\nL 216.957826 79.760355 \r\nL 217.117975 84.581641 \r\nL 217.198049 84.581641 \r\nL 217.358199 89.402927 \r\nL 217.518348 89.402927 \r\nL 217.678497 84.581641 \r\nL 218.07887 84.581641 \r\nL 218.319094 74.939069 \r\nL 218.399169 79.760355 \r\nL 218.559318 74.939069 \r\nL 218.639393 74.939069 \r\nL 218.799542 79.760355 \r\nL 218.959691 79.760355 \r\nL 219.199915 89.402927 \r\nL 219.360064 84.581641 \r\nL 219.680363 84.581641 \r\nL 220.000661 99.045499 \r\nL 220.080736 94.224213 \r\nL 220.240885 99.045499 \r\nL 220.481109 99.045499 \r\nL 220.641258 94.224213 \r\nL 220.881482 94.224213 \r\nL 221.041631 103.866785 \r\nL 221.36193 89.402927 \r\nL 221.522079 94.224213 \r\nL 221.842378 94.224213 \r\nL 222.002527 99.045499 \r\nL 222.162676 99.045499 \r\nL 222.4029 89.402927 \r\nL 222.482975 94.224213 \r\nL 222.643124 84.581641 \r\nL 222.803273 94.224213 \r\nL 222.963422 89.402927 \r\nL 223.043497 89.402927 \r\nL 223.203646 94.224213 \r\nL 223.283721 89.402927 \r\nL 223.44387 94.224213 \r\nL 224.004392 94.224213 \r\nL 224.164542 103.866785 \r\nL 224.324691 99.045499 \r\nL 224.404765 103.866785 \r\nL 224.564915 99.045499 \r\nL 224.965288 99.045499 \r\nL 225.125437 103.866785 \r\nL 225.285586 103.866785 \r\nL 225.52581 113.509357 \r\nL 225.685959 108.688071 \r\nL 226.086332 108.688071 \r\nL 226.246482 113.509357 \r\nL 226.406631 108.688071 \r\nL 226.486706 113.509357 \r\nL 226.646855 108.688071 \r\nL 226.967153 108.688071 \r\nL 227.047228 103.866785 \r\nL 227.287452 113.509357 \r\nL 227.367526 113.509357 \r\nL 227.60775 123.151929 \r\nL 228.168273 123.151929 \r\nL 228.248347 127.973215 \r\nL 228.408496 123.151929 \r\nL 228.568646 123.151929 \r\nL 228.80887 132.794501 \r\nL 228.888944 132.794501 \r\nL 228.969019 137.615787 \r\nL 229.209243 127.973215 \r\nL 229.609616 127.973215 \r\nL 229.68969 123.151929 \r\nL 229.84984 127.973215 \r\nL 229.929914 127.973215 \r\nL 230.090064 123.151929 \r\nL 230.170138 123.151929 \r\nL 230.330287 127.973215 \r\nL 230.490437 127.973215 \r\nL 230.650586 132.794501 \r\nL 230.810735 132.794501 \r\nL 230.970884 137.615787 \r\nL 231.131034 132.794501 \r\nL 231.291183 132.794501 \r\nL 231.611481 147.258359 \r\nL 231.691556 147.258359 \r\nL 231.93178 156.900931 \r\nL 232.172004 156.900931 \r\nL 232.332153 161.722217 \r\nL 232.572377 161.722217 \r\nL 232.732526 166.543503 \r\nL 232.812601 166.543503 \r\nL 233.052825 176.186075 \r\nL 233.212974 176.186075 \r\nL 233.453198 166.543503 \r\nL 233.693422 176.186075 \r\nL 233.853571 171.364789 \r\nL 234.093795 171.364789 \r\nL 234.334018 181.007361 \r\nL 234.494168 176.186075 \r\nL 235.05469 176.186075 \r\nL 235.374989 190.649933 \r\nL 235.855436 190.649933 \r\nL 236.015586 185.828647 \r\nL 236.175735 190.649933 \r\nL 236.496033 190.649933 \r\nL 236.576108 195.47122 \r\nL 236.816332 185.828647 \r\nL 236.976481 185.828647 \r\nL 237.056556 181.007361 \r\nL 237.376854 195.47122 \r\nL 237.456929 195.47122 \r\nL 237.697153 205.113792 \r\nL 238.017451 190.649933 \r\nL 238.1776 190.649933 \r\nL 238.417824 200.292506 \r\nL 238.577973 200.292506 \r\nL 238.738123 205.113792 \r\nL 238.978347 205.113792 \r\nL 239.138496 200.292506 \r\nL 239.21857 200.292506 \r\nL 239.37872 205.113792 \r\nL 239.538869 205.113792 \r\nL 239.779093 195.47122 \r\nL 239.859167 195.47122 \r\nL 239.939242 200.292506 \r\nL 240.179466 190.649933 \r\nL 240.41969 200.292506 \r\nL 240.499764 200.292506 \r\nL 240.659914 190.649933 \r\nL 240.820063 195.47122 \r\nL 240.900137 190.649933 \r\nL 241.060287 195.47122 \r\nL 241.140361 190.649933 \r\nL 241.380585 200.292506 \r\nL 241.540734 195.47122 \r\nL 241.620809 200.292506 \r\nL 241.941108 185.828647 \r\nL 242.021182 185.828647 \r\nL 242.101257 190.649933 \r\nL 242.261406 181.007361 \r\nL 242.421555 185.828647 \r\nL 242.50163 185.828647 \r\nL 242.661779 190.649933 \r\nL 242.902003 190.649933 \r\nL 242.982078 185.828647 \r\nL 243.222301 195.47122 \r\nL 243.302376 195.47122 \r\nL 243.5426 185.828647 \r\nL 243.782824 185.828647 \r\nL 243.942973 190.649933 \r\nL 244.103122 190.649933 \r\nL 244.263272 185.828647 \r\nL 244.423421 190.649933 \r\nL 244.663645 181.007361 \r\nL 244.743719 181.007361 \r\nL 244.903869 176.186075 \r\nL 244.983943 176.186075 \r\nL 245.144092 185.828647 \r\nL 245.224167 181.007361 \r\nL 245.384316 185.828647 \r\nL 245.544465 185.828647 \r\nL 245.62454 181.007361 \r\nL 245.784689 185.828647 \r\nL 245.944839 181.007361 \r\nL 246.104988 185.828647 \r\nL 246.185062 185.828647 \r\nL 246.505361 171.364789 \r\nL 246.585436 171.364789 \r\nL 246.825659 161.722217 \r\nL 246.985809 161.722217 \r\nL 247.145958 171.364789 \r\nL 247.386182 161.722217 \r\nL 247.786555 161.722217 \r\nL 247.946704 156.900931 \r\nL 248.186928 156.900931 \r\nL 248.347077 152.079645 \r\nL 248.507226 152.079645 \r\nL 248.667376 147.258359 \r\nL 248.827525 147.258359 \r\nL 248.987674 142.437073 \r\nL 249.227898 142.437073 \r\nL 249.388047 152.079645 \r\nL 249.628271 142.437073 \r\nL 249.708346 142.437073 \r\nL 249.868495 147.258359 \r\nL 250.028644 142.437073 \r\nL 250.829391 142.437073 \r\nL 250.98954 137.615787 \r\nL 251.389913 137.615787 \r\nL 251.630137 127.973215 \r\nL 251.870361 127.973215 \r\nL 252.03051 132.794501 \r\nL 252.110584 132.794501 \r\nL 252.270734 127.973215 \r\nL 252.350808 127.973215 \r\nL 252.591032 118.330643 \r\nL 252.831256 127.973215 \r\nL 252.991405 123.151929 \r\nL 253.151555 127.973215 \r\nL 253.792152 127.973215 \r\nL 253.952301 123.151929 \r\nL 254.11245 127.973215 \r\nL 254.512823 127.973215 \r\nL 254.592898 132.794501 \r\nL 254.833122 123.151929 \r\nL 254.913196 127.973215 \r\nL 255.073345 123.151929 \r\nL 255.15342 123.151929 \r\nL 255.313569 118.330643 \r\nL 255.553793 118.330643 \r\nL 255.794017 127.973215 \r\nL 255.954166 127.973215 \r\nL 256.114316 132.794501 \r\nL 256.274465 127.973215 \r\nL 256.354539 127.973215 \r\nL 256.514689 123.151929 \r\nL 256.674838 127.973215 \r\nL 256.834987 123.151929 \r\nL 256.995136 127.973215 \r\nL 257.155286 123.151929 \r\nL 257.395509 123.151929 \r\nL 257.555659 127.973215 \r\nL 257.715808 123.151929 \r\nL 257.875957 123.151929 \r\nL 257.956032 127.973215 \r\nL 258.116181 123.151929 \r\nL 258.27633 132.794501 \r\nL 258.43648 127.973215 \r\nL 258.916927 127.973215 \r\nL 258.997002 132.794501 \r\nL 259.157151 127.973215 \r\nL 259.557524 127.973215 \r\nL 259.717674 132.794501 \r\nL 259.877823 123.151929 \r\nL 260.037972 127.973215 \r\nL 260.118047 123.151929 \r\nL 260.278196 127.973215 \r\nL 260.438345 127.973215 \r\nL 260.598494 132.794501 \r\nL 260.838718 123.151929 \r\nL 261.078942 123.151929 \r\nL 261.159017 118.330643 \r\nL 261.319166 123.151929 \r\nL 261.399241 123.151929 \r\nL 261.55939 118.330643 \r\nL 261.639464 123.151929 \r\nL 261.799614 118.330643 \r\nL 261.879688 123.151929 \r\nL 262.039838 118.330643 \r\nL 262.199987 118.330643 \r\nL 262.440211 127.973215 \r\nL 262.520285 127.973215 \r\nL 262.760509 118.330643 \r\nL 262.920658 118.330643 \r\nL 263.080808 113.509357 \r\nL 263.160882 113.509357 \r\nL 263.321031 123.151929 \r\nL 263.481181 118.330643 \r\nL 263.561255 118.330643 \r\nL 263.64133 123.151929 \r\nL 263.801479 118.330643 \r\nL 263.961628 123.151929 \r\nL 264.121778 118.330643 \r\nL 264.201852 118.330643 \r\nL 264.362002 123.151929 \r\nL 264.522151 123.151929 \r\nL 264.602225 127.973215 \r\nL 264.842449 118.330643 \r\nL 265.002599 123.151929 \r\nL 265.162748 123.151929 \r\nL 265.322897 118.330643 \r\nL 265.402972 118.330643 \r\nL 265.563121 123.151929 \r\nL 265.72327 118.330643 \r\nL 265.963494 118.330643 \r\nL 266.123643 113.509357 \r\nL 266.604091 113.509357 \r\nL 266.76424 118.330643 \r\nL 266.844315 113.509357 \r\nL 267.004464 118.330643 \r\nL 267.244688 118.330643 \r\nL 267.404837 113.509357 \r\nL 267.564986 113.509357 \r\nL 267.725136 118.330643 \r\nL 267.96536 118.330643 \r\nL 268.125509 108.688071 \r\nL 268.285658 113.509357 \r\nL 268.365733 113.509357 \r\nL 268.525882 118.330643 \r\nL 268.84618 118.330643 \r\nL 269.00633 123.151929 \r\nL 269.646927 123.151929 \r\nL 269.727001 118.330643 \r\nL 269.88715 123.151929 \r\nL 270.527747 123.151929 \r\nL 270.607822 118.330643 \r\nL 270.848046 127.973215 \r\nL 271.008195 127.973215 \r\nL 271.08827 132.794501 \r\nL 271.168344 127.973215 \r\nL 271.248419 132.794501 \r\nL 271.408568 127.973215 \r\nL 271.488643 127.973215 \r\nL 271.728867 118.330643 \r\nL 271.889016 118.330643 \r\nL 272.049165 113.509357 \r\nL 272.289389 123.151929 \r\nL 272.369464 123.151929 \r\nL 272.529613 132.794501 \r\nL 272.609688 127.973215 \r\nL 272.769837 132.794501 \r\nL 272.929986 127.973215 \r\nL 273.17021 127.973215 \r\nL 273.490508 113.509357 \r\nL 273.570583 113.509357 \r\nL 273.890882 127.973215 \r\nL 273.970956 127.973215 \r\nL 274.051031 132.794501 \r\nL 274.291255 118.330643 \r\nL 274.451404 123.151929 \r\nL 274.931852 123.151929 \r\nL 275.092001 118.330643 \r\nL 275.732598 118.330643 \r\nL 275.972822 127.973215 \r\nL 276.052896 127.973215 \r\nL 276.213046 132.794501 \r\nL 276.29312 132.794501 \r\nL 276.453269 127.973215 \r\nL 276.533344 127.973215 \r\nL 276.853643 147.258359 \r\nL 277.013792 142.437073 \r\nL 277.173941 142.437073 \r\nL 277.414165 132.794501 \r\nL 277.494239 132.794501 \r\nL 277.654389 127.973215 \r\nL 277.814538 127.973215 \r\nL 277.894613 123.151929 \r\nL 278.054762 127.973215 \r\nL 278.214911 123.151929 \r\nL 278.53521 123.151929 \r\nL 278.855508 137.615787 \r\nL 279.175807 137.615787 \r\nL 279.335956 132.794501 \r\nL 279.496105 132.794501 \r\nL 279.656254 127.973215 \r\nL 279.736329 127.973215 \r\nL 279.976553 113.509357 \r\nL 280.136702 118.330643 \r\nL 280.216777 118.330643 \r\nL 280.376926 113.509357 \r\nL 280.61715 113.509357 \r\nL 280.777299 118.330643 \r\nL 280.937448 118.330643 \r\nL 281.097597 113.509357 \r\nL 281.257747 118.330643 \r\nL 281.417896 113.509357 \r\nL 281.497971 113.509357 \r\nL 281.65812 123.151929 \r\nL 281.818269 118.330643 \r\nL 281.898344 118.330643 \r\nL 282.058493 123.151929 \r\nL 282.458866 123.151929 \r\nL 282.619015 127.973215 \r\nL 282.939314 113.509357 \r\nL 283.099463 113.509357 \r\nL 283.259612 108.688071 \r\nL 283.339687 113.509357 \r\nL 283.499836 108.688071 \r\nL 283.659985 108.688071 \r\nL 283.900209 99.045499 \r\nL 283.980284 99.045499 \r\nL 284.140433 108.688071 \r\nL 284.300582 103.866785 \r\nL 284.460732 103.866785 \r\nL 284.620881 99.045499 \r\nL 285.021254 99.045499 \r\nL 285.341552 84.581641 \r\nL 285.581776 84.581641 \r\nL 285.661851 79.760355 \r\nL 285.741925 84.581641 \r\nL 285.822 79.760355 \r\nL 285.982149 89.402927 \r\nL 286.142299 84.581641 \r\nL 286.542672 84.581641 \r\nL 286.702821 89.402927 \r\nL 286.943045 89.402927 \r\nL 287.183269 99.045499 \r\nL 287.343418 99.045499 \r\nL 287.503567 94.224213 \r\nL 287.743791 103.866785 \r\nL 287.823866 103.866785 \r\nL 287.984015 99.045499 \r\nL 288.304313 99.045499 \r\nL 288.464463 94.224213 \r\nL 288.784761 94.224213 \r\nL 288.864836 99.045499 \r\nL 289.024985 94.224213 \r\nL 289.265209 103.866785 \r\nL 289.345283 99.045499 \r\nL 289.505433 103.866785 \r\nL 289.665582 99.045499 \r\nL 289.825731 99.045499 \r\nL 289.98588 94.224213 \r\nL 290.14603 94.224213 \r\nL 290.386254 103.866785 \r\nL 290.626477 103.866785 \r\nL 290.786627 99.045499 \r\nL 290.946776 99.045499 \r\nL 291.187 108.688071 \r\nL 291.267074 108.688071 \r\nL 291.347149 103.866785 \r\nL 291.587373 113.509357 \r\nL 291.747522 113.509357 \r\nL 291.987746 103.866785 \r\nL 292.067821 103.866785 \r\nL 292.308044 94.224213 \r\nL 292.468194 99.045499 \r\nL 293.028716 99.045499 \r\nL 293.108791 94.224213 \r\nL 293.589238 118.330643 \r\nL 293.669313 118.330643 \r\nL 293.909537 127.973215 \r\nL 293.989612 127.973215 \r\nL 294.069686 123.151929 \r\nL 294.149761 127.973215 \r\nL 294.30991 123.151929 \r\nL 294.389985 123.151929 \r\nL 294.470059 118.330643 \r\nL 294.550134 123.151929 \r\nL 294.710283 118.330643 \r\nL 294.870432 123.151929 \r\nL 294.950507 118.330643 \r\nL 295.030582 123.151929 \r\nL 295.190731 118.330643 \r\nL 295.430955 127.973215 \r\nL 295.671179 127.973215 \r\nL 295.991477 142.437073 \r\nL 296.151626 142.437073 \r\nL 296.231701 137.615787 \r\nL 296.39185 142.437073 \r\nL 296.792223 142.437073 \r\nL 296.872298 147.258359 \r\nL 297.112522 137.615787 \r\nL 297.192596 137.615787 \r\nL 297.352746 147.258359 \r\nL 297.592969 137.615787 \r\nL 297.673044 137.615787 \r\nL 297.833193 142.437073 \r\nL 297.993343 137.615787 \r\nL 298.393716 137.615787 \r\nL 298.553865 142.437073 \r\nL 298.794089 142.437073 \r\nL 298.954238 147.258359 \r\nL 299.194462 137.615787 \r\nL 299.354611 137.615787 \r\nL 299.51476 142.437073 \r\nL 299.67491 142.437073 \r\nL 299.915134 152.079645 \r\nL 300.155357 152.079645 \r\nL 300.315507 156.900931 \r\nL 300.475656 152.079645 \r\nL 300.71588 161.722217 \r\nL 300.876029 156.900931 \r\nL 300.956104 156.900931 \r\nL 301.036178 152.079645 \r\nL 301.356477 166.543503 \r\nL 301.596701 156.900931 \r\nL 301.676775 156.900931 \r\nL 301.75685 152.079645 \r\nL 301.916999 156.900931 \r\nL 301.997074 156.900931 \r\nL 302.157223 161.722217 \r\nL 303.118118 161.722217 \r\nL 303.278268 156.900931 \r\nL 303.518491 166.543503 \r\nL 303.758715 166.543503 \r\nL 303.83879 161.722217 \r\nL 303.998939 171.364789 \r\nL 304.159088 166.543503 \r\nL 304.399312 166.543503 \r\nL 304.559462 161.722217 \r\nL 304.799685 171.364789 \r\nL 304.87976 166.543503 \r\nL 305.039909 171.364789 \r\nL 305.360208 171.364789 \r\nL 305.440282 166.543503 \r\nL 305.680506 176.186075 \r\nL 305.840655 176.186075 \r\nL 306.000805 181.007361 \r\nL 306.080879 181.007361 \r\nL 306.241029 185.828647 \r\nL 306.401178 185.828647 \r\nL 306.721476 171.364789 \r\nL 307.121849 171.364789 \r\nL 307.281999 166.543503 \r\nL 307.442148 171.364789 \r\nL 307.922596 171.364789 \r\nL 308.16282 181.007361 \r\nL 308.242894 181.007361 \r\nL 308.322969 185.828647 \r\nL 308.483118 181.007361 \r\nL 308.723342 181.007361 \r\nL 308.883491 176.186075 \r\nL 309.04364 181.007361 \r\nL 309.20379 181.007361 \r\nL 309.684237 156.900931 \r\nL 310.004536 156.900931 \r\nL 310.24476 166.543503 \r\nL 310.324834 166.543503 \r\nL 310.404909 161.722217 \r\nL 310.645133 171.364789 \r\nL 310.805282 166.543503 \r\nL 310.885357 166.543503 \r\nL 311.125581 176.186075 \r\nL 311.205655 176.186075 \r\nL 311.365804 171.364789 \r\nL 311.525954 171.364789 \r\nL 311.686103 176.186075 \r\nL 311.926327 176.186075 \r\nL 312.086476 171.364789 \r\nL 312.166551 171.364789 \r\nL 312.3267 176.186075 \r\nL 312.727073 176.186075 \r\nL 312.887222 171.364789 \r\nL 313.127446 181.007361 \r\nL 313.36767 181.007361 \r\nL 313.527819 190.649933 \r\nL 313.768043 181.007361 \r\nL 313.848118 181.007361 \r\nL 314.008267 185.828647 \r\nL 314.40864 185.828647 \r\nL 314.568789 181.007361 \r\nL 314.648864 181.007361 \r\nL 315.209386 209.935078 \r\nL 315.289461 209.935078 \r\nL 315.44961 205.113792 \r\nL 315.529685 209.935078 \r\nL 315.930058 190.649933 \r\nL 316.250356 190.649933 \r\nL 316.410506 185.828647 \r\nL 316.570655 185.828647 \r\nL 316.730804 176.186075 \r\nL 316.890953 181.007361 \r\nL 316.971028 181.007361 \r\nL 317.051103 185.828647 \r\nL 317.211252 181.007361 \r\nL 317.291326 181.007361 \r\nL 317.371401 176.186075 \r\nL 317.451476 181.007361 \r\nL 317.53155 176.186075 \r\nL 317.771774 185.828647 \r\nL 317.931923 181.007361 \r\nL 318.172147 181.007361 \r\nL 318.492446 166.543503 \r\nL 318.892819 166.543503 \r\nL 319.052968 161.722217 \r\nL 319.133043 161.722217 \r\nL 319.293192 166.543503 \r\nL 319.77364 166.543503 \r\nL 319.933789 171.364789 \r\nL 320.013864 171.364789 \r\nL 320.093938 176.186075 \r\nL 320.254087 171.364789 \r\nL 320.414237 171.364789 \r\nL 320.574386 176.186075 \r\nL 320.81461 176.186075 \r\nL 320.894684 181.007361 \r\nL 321.054834 176.186075 \r\nL 321.214983 176.186075 \r\nL 321.455207 185.828647 \r\nL 321.695431 176.186075 \r\nL 321.775505 176.186075 \r\nL 321.935654 171.364789 \r\nL 322.336028 171.364789 \r\nL 322.416102 166.543503 \r\nL 322.736401 181.007361 \r\nL 323.296923 181.007361 \r\nL 323.537147 171.364789 \r\nL 323.617221 171.364789 \r\nL 323.777371 166.543503 \r\nL 323.93752 171.364789 \r\nL 324.097669 171.364789 \r\nL 324.257818 166.543503 \r\nL 324.337893 166.543503 \r\nL 324.498042 171.364789 \r\nL 324.578117 171.364789 \r\nL 324.738266 166.543503 \r\nL 325.058565 166.543503 \r\nL 325.298789 176.186075 \r\nL 325.458938 176.186075 \r\nL 325.699162 185.828647 \r\nL 325.859311 185.828647 \r\nL 326.099535 176.186075 \r\nL 326.660057 176.186075 \r\nL 326.820206 181.007361 \r\nL 326.980356 176.186075 \r\nL 327.06043 176.186075 \r\nL 327.220579 171.364789 \r\nL 327.300654 176.186075 \r\nL 327.620953 161.722217 \r\nL 327.941251 161.722217 \r\nL 328.021326 166.543503 \r\nL 328.26155 156.900931 \r\nL 328.661923 156.900931 \r\nL 328.822072 152.079645 \r\nL 328.982221 152.079645 \r\nL 329.14237 156.900931 \r\nL 329.30252 152.079645 \r\nL 329.382594 152.079645 \r\nL 329.542743 147.258359 \r\nL 329.702893 147.258359 \r\nL 329.863042 152.079645 \r\nL 330.023191 152.079645 \r\nL 330.18334 156.900931 \r\nL 330.503639 156.900931 \r\nL 330.743863 147.258359 \r\nL 330.823937 147.258359 \r\nL 330.984087 142.437073 \r\nL 331.144236 142.437073 \r\nL 331.304385 132.794501 \r\nL 331.464534 137.615787 \r\nL 331.544609 137.615787 \r\nL 331.864907 156.900931 \r\nL 332.185206 142.437073 \r\nL 332.265281 142.437073 \r\nL 332.505504 152.079645 \r\nL 332.585579 147.258359 \r\nL 332.825803 156.900931 \r\nL 332.905878 156.900931 \r\nL 333.066027 147.258359 \r\nL 333.226176 152.079645 \r\nL 333.386325 152.079645 \r\nL 333.4664 147.258359 \r\nL 333.546475 152.079645 \r\nL 333.706624 142.437073 \r\nL 333.946848 152.079645 \r\nL 334.187072 152.079645 \r\nL 334.347221 161.722217 \r\nL 334.427295 156.900931 \r\nL 334.587445 161.722217 \r\nL 334.747594 156.900931 \r\nL 334.907743 156.900931 \r\nL 335.067892 161.722217 \r\nL 335.308116 161.722217 \r\nL 335.468265 156.900931 \r\nL 335.788564 156.900931 \r\nL 335.948713 152.079645 \r\nL 336.349086 152.079645 \r\nL 336.509236 156.900931 \r\nL 336.669385 156.900931 \r\nL 336.829534 152.079645 \r\nL 336.989683 152.079645 \r\nL 337.149833 147.258359 \r\nL 337.229907 147.258359 \r\nL 337.309982 142.437073 \r\nL 337.63028 156.900931 \r\nL 337.950579 156.900931 \r\nL 338.190803 147.258359 \r\nL 338.350952 147.258359 \r\nL 338.591176 156.900931 \r\nL 338.67125 156.900931 \r\nL 338.911474 147.258359 \r\nL 339.071623 147.258359 \r\nL 339.151698 142.437073 \r\nL 339.231773 147.258359 \r\nL 339.391922 142.437073 \r\nL 339.552071 147.258359 \r\nL 339.632146 142.437073 \r\nL 339.792295 147.258359 \r\nL 339.952444 142.437073 \r\nL 340.432892 142.437073 \r\nL 340.593041 137.615787 \r\nL 340.833265 147.258359 \r\nL 340.91334 147.258359 \r\nL 341.153564 137.615787 \r\nL 341.313713 137.615787 \r\nL 341.553937 147.258359 \r\nL 341.714086 147.258359 \r\nL 341.874235 142.437073 \r\nL 342.034384 147.258359 \r\nL 342.114459 147.258359 \r\nL 342.274608 142.437073 \r\nL 343.075354 142.437073 \r\nL 343.235504 147.258359 \r\nL 343.315578 147.258359 \r\nL 343.395653 152.079645 \r\nL 343.555802 147.258359 \r\nL 343.715951 152.079645 \r\nL 343.796026 152.079645 \r\nL 343.956175 156.900931 \r\nL 344.03625 156.900931 \r\nL 344.276474 166.543503 \r\nL 344.676847 166.543503 \r\nL 344.917071 176.186075 \r\nL 344.997145 176.186075 \r\nL 345.157295 171.364789 \r\nL 345.397519 171.364789 \r\nL 345.637742 181.007361 \r\nL 346.438489 181.007361 \r\nL 346.758787 195.47122 \r\nL 346.838862 195.47122 \r\nL 346.999011 200.292506 \r\nL 347.15916 200.292506 \r\nL 347.319309 209.935078 \r\nL 347.479459 205.113792 \r\nL 347.879832 205.113792 \r\nL 348.039981 214.756364 \r\nL 348.120056 209.935078 \r\nL 348.20013 214.756364 \r\nL 348.520429 200.292506 \r\nL 348.600503 200.292506 \r\nL 348.840727 190.649933 \r\nL 348.920802 190.649933 \r\nL 349.080951 195.47122 \r\nL 349.161026 195.47122 \r\nL 349.321175 185.828647 \r\nL 349.481324 190.649933 \r\nL 349.561399 190.649933 \r\nL 349.721548 200.292506 \r\nL 350.041847 185.828647 \r\nL 350.362145 185.828647 \r\nL 350.44222 190.649933 \r\nL 350.602369 185.828647 \r\nL 350.762518 190.649933 \r\nL 351.002742 181.007361 \r\nL 351.082817 181.007361 \r\nL 351.242966 176.186075 \r\nL 351.323041 176.186075 \r\nL 351.48319 181.007361 \r\nL 351.803488 181.007361 \r\nL 351.963637 185.828647 \r\nL 352.123787 185.828647 \r\nL 352.203861 190.649933 \r\nL 352.444085 181.007361 \r\nL 352.52416 181.007361 \r\nL 352.684309 176.186075 \r\nL 352.844458 181.007361 \r\nL 353.004608 181.007361 \r\nL 353.164757 185.828647 \r\nL 353.324906 185.828647 \r\nL 353.485055 181.007361 \r\nL 353.645205 181.007361 \r\nL 353.885428 171.364789 \r\nL 354.125652 171.364789 \r\nL 354.285802 166.543503 \r\nL 354.365876 166.543503 \r\nL 354.526025 161.722217 \r\nL 354.686175 161.722217 \r\nL 354.766249 166.543503 \r\nL 354.846324 161.722217 \r\nL 355.006473 166.543503 \r\nL 355.086548 166.543503 \r\nL 355.406846 181.007361 \r\nL 355.566995 181.007361 \r\nL 355.727145 185.828647 \r\nL 355.807219 185.828647 \r\nL 355.887294 190.649933 \r\nL 356.047443 181.007361 \r\nL 356.047443 181.007361 \r\n\" style=\"fill:none;stroke:#1f77b4;stroke-linecap:square;stroke-width:1.5;\"/>\r\n   </g>\r\n   <g id=\"patch_3\">\r\n    <path d=\"M 36.465625 224.64 \r\nL 36.465625 7.2 \r\n\" style=\"fill:none;stroke:#000000;stroke-linecap:square;stroke-linejoin:miter;stroke-width:0.8;\"/>\r\n   </g>\r\n   <g id=\"patch_4\">\r\n    <path d=\"M 371.265625 224.64 \r\nL 371.265625 7.2 \r\n\" style=\"fill:none;stroke:#000000;stroke-linecap:square;stroke-linejoin:miter;stroke-width:0.8;\"/>\r\n   </g>\r\n   <g id=\"patch_5\">\r\n    <path d=\"M 36.465625 224.64 \r\nL 371.265625 224.64 \r\n\" style=\"fill:none;stroke:#000000;stroke-linecap:square;stroke-linejoin:miter;stroke-width:0.8;\"/>\r\n   </g>\r\n   <g id=\"patch_6\">\r\n    <path d=\"M 36.465625 7.2 \r\nL 371.265625 7.2 \r\n\" style=\"fill:none;stroke:#000000;stroke-linecap:square;stroke-linejoin:miter;stroke-width:0.8;\"/>\r\n   </g>\r\n  </g>\r\n </g>\r\n <defs>\r\n  <clipPath id=\"pe6bf964734\">\r\n   <rect height=\"217.44\" width=\"334.8\" x=\"36.465625\" y=\"7.2\"/>\r\n  </clipPath>\r\n </defs>\r\n</svg>\r\n",
      "image/png": "[encoded data removed]"
     },
     "metadata": {
      "needs_background": "light"
     }
    }
   ],
   "source": [
    "def moving_average(x, w):\n",
    "    return np.convolve(x, np.ones(w), 'valid') / w\n",
    "\n",
    "avg = moving_average(scores[:,1], 200)\n",
    "\n",
    "plt.plot(avg)\n",
    "plt.show\n"
   ]
  },
  {
   "cell_type": "code",
   "execution_count": null,
   "metadata": {},
   "outputs": [],
   "source": []
  }
 ]
}