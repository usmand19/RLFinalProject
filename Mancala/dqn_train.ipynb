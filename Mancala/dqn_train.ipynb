{
 "metadata": {
  "language_info": {
   "codemirror_mode": {
    "name": "ipython",
    "version": 3
   },
   "file_extension": ".py",
   "mimetype": "text/x-python",
   "name": "python",
   "nbconvert_exporter": "python",
   "pygments_lexer": "ipython3",
   "version": "3.8.3-final"
  },
  "orig_nbformat": 2,
  "kernelspec": {
   "name": "python383jvsc74a57bd0cbd785d33d8314b66158c604fc5ce4796ebc7b68ddf4a41ff3c1dd69f0fbd16d",
   "display_name": "Python 3.8.3 64-bit ('Python': virtualenv)"
  }
 },
 "nbformat": 4,
 "nbformat_minor": 2,
 "cells": [
  {
   "cell_type": "code",
   "execution_count": 1,
   "metadata": {},
   "outputs": [],
   "source": [
    "import math\n",
    "import statistics\n",
    "import random\n",
    "import numpy as np\n",
    "\n",
    "import matplotlib.pyplot as plt\n",
    "\n",
    "from collections import namedtuple\n",
    "from itertools import count\n",
    "from PIL import Image\n",
    "from tqdm import tqdm\n",
    "import pandas as pd\n",
    "\n",
    "import torch\n",
    "import torch.nn as nn\n",
    "import numpy as np\n",
    "from collections import deque\n",
    "import random\n",
    "from itertools import count\n",
    "import torch.nn.functional as F\n",
    "from tensorboardX import SummaryWriter\n",
    "\n",
    "#from env import MancalaEnv\n",
    "from game import Game\n",
    "from randomagent import AgentRandom\n",
    "from exactagent import AgentExact"
   ]
  },
  {
   "cell_type": "code",
   "execution_count": 2,
   "metadata": {},
   "outputs": [],
   "source": [
    "device = torch.device(\"cuda:0\" if torch.cuda.is_available() else \"cpu\")"
   ]
  },
  {
   "cell_type": "code",
   "execution_count": 3,
   "metadata": {},
   "outputs": [],
   "source": [
    "class QNetwork(nn.Module):\n",
    "    def __init__(self):\n",
    "        super(QNetwork, self).__init__()\n",
    "\n",
    "        self.fc1 = nn.Linear(14, 64)\n",
    "        self.relu = nn.ReLU()\n",
    "        self.fc2 = nn.Linear(64, 256)\n",
    "        self.fc3 = nn.Linear(256, 6)\n",
    "\n",
    "    def forward(self, state):\n",
    "        y = self.relu(self.fc1(state))\n",
    "        y = self.relu(self.fc2(y))\n",
    "        Q = self.fc3(y)\n",
    "\n",
    "        return Q\n",
    "\n",
    "    def select_action(self, state):\n",
    "        with torch.no_grad():\n",
    "            Q = self.forward(state)\n",
    "            action_index = torch.argmax(Q, dim=1)\n",
    "        return action_index.item()\n",
    "\n",
    "\n",
    "class Memory(object):\n",
    "    def __init__(self, memory_size: int) -> None:\n",
    "        self.memory_size = memory_size\n",
    "        self.buffer = deque(maxlen=self.memory_size)\n",
    "\n",
    "    def add(self, experience) -> None:\n",
    "        self.buffer.append(experience)\n",
    "\n",
    "    def size(self):\n",
    "        return len(self.buffer)\n",
    "\n",
    "    def sample(self, batch_size: int, continuous: bool = True):\n",
    "        if batch_size > len(self.buffer):\n",
    "            batch_size = len(self.buffer)\n",
    "        if continuous:\n",
    "            rand = random.randint(0, len(self.buffer) - batch_size)\n",
    "            return [self.buffer[i] for i in range(rand, rand + batch_size)]\n",
    "        else:\n",
    "            indexes = np.random.choice(np.arange(len(self.buffer)), size=batch_size, replace=False)\n",
    "            return [self.buffer[i] for i in indexes]\n",
    "\n",
    "    def clear(self):\n",
    "        self.buffer.clear()"
   ]
  },
  {
   "cell_type": "code",
   "execution_count": 4,
   "metadata": {},
   "outputs": [
    {
     "output_type": "stream",
     "name": "stderr",
     "text": [
      "  0%|          | 0/1000 [00:00<?, ?it/s]\n",
      "learn begin!\n",
      "100%|██████████| 1000/1000 [06:13<00:00,  2.68it/s]\n"
     ]
    }
   ],
   "source": [
    "#env = gym.make('CartPole-v0')\n",
    "game = Game()\n",
    "TEST_AGENT = AgentRandom()\n",
    "#n_state = env.observation_space.shape[0]\n",
    "n_state = 14\n",
    "#n_action = env.action_space.n\n",
    "n_action = 6\n",
    "onlineQNetwork = QNetwork().to(device)\n",
    "targetQNetwork = QNetwork().to(device)\n",
    "targetQNetwork.load_state_dict(onlineQNetwork.state_dict())\n",
    "\n",
    "optimizer = torch.optim.Adam(onlineQNetwork.parameters(), lr=1e-4)\n",
    "\n",
    "GAMMA = 0.99\n",
    "EXPLORE = 20000\n",
    "INITIAL_EPSILON = 0.1\n",
    "FINAL_EPSILON = 0.0001\n",
    "REPLAY_MEMORY = 4096\n",
    "BATCH = 1000\n",
    "\n",
    "num_episodes = 1000\n",
    "\n",
    "UPDATE_STEPS = 4\n",
    "\n",
    "memory_replay = Memory(REPLAY_MEMORY)\n",
    "\n",
    "epsilon = INITIAL_EPSILON\n",
    "learn_steps = 0\n",
    "writer = SummaryWriter('logs/dqn')\n",
    "begin_learn = False\n",
    "\n",
    "episode_reward = 0\n",
    "wins = []\n",
    "winsarray = np.zeros(shape = (num_episodes,3))\n",
    "losses = []\n",
    "for epoch in tqdm(range(num_episodes)):\n",
    "\n",
    "    game = Game()\n",
    "    #state = env.reset()\n",
    "    state = game.board()\n",
    "    episode_reward = 0\n",
    "    done = False\n",
    "    num_steps = 0\n",
    "    while not done:\n",
    "        p = random.random()\n",
    "        if p < epsilon:\n",
    "            action = random.randint(0, 1)\n",
    "        else:\n",
    "            tensor_state = torch.FloatTensor(state).unsqueeze(0).to(device)\n",
    "            action = onlineQNetwork.select_action(tensor_state)\n",
    "        #next_state, reward, done, _ = env.step(action)\n",
    "        score_dqn = np.asarray(game.move(action))\n",
    "        next_state = game.board()\n",
    "        if not done:\n",
    "            game._player_one = False\n",
    "            score_agent = score_dqn = np.asarray(game.move(TEST_AGENT._move(game)))\n",
    "            game._player_one = True\n",
    "            done = game.over()\n",
    "        \n",
    "        if done:\n",
    "            # IF DQN LOST\n",
    "            if score_dqn[0] < score_dqn[1]:\n",
    "                reward = -1\n",
    "                winsarray[epoch,:] = [epoch, num_steps, 0]\n",
    "            else:\n",
    "                reward = 1\n",
    "                #wins.append((epoch,1))\n",
    "                winsarray[epoch,:] = [epoch, num_steps, 1]\n",
    "        else:\n",
    "            reward = 0\n",
    "        \n",
    "        num_steps += 1\n",
    "        \n",
    "        episode_reward += reward\n",
    "        memory_replay.add((state, next_state, action, reward, done))\n",
    "        if memory_replay.size() > 128:\n",
    "            if begin_learn is False:\n",
    "                print('\\nlearn begin!')\n",
    "                begin_learn = True\n",
    "            learn_steps += 1\n",
    "            if learn_steps % UPDATE_STEPS == 0:\n",
    "                targetQNetwork.load_state_dict(onlineQNetwork.state_dict())\n",
    "            batch = memory_replay.sample(BATCH, False)\n",
    "            batch_state, batch_next_state, batch_action, batch_reward, batch_done = zip(*batch)\n",
    "\n",
    "            batch_state = torch.FloatTensor(batch_state).to(device)\n",
    "            batch_next_state = torch.FloatTensor(batch_next_state).to(device)\n",
    "            batch_action = torch.FloatTensor(batch_action).unsqueeze(1).to(device)\n",
    "            batch_reward = torch.FloatTensor(batch_reward).unsqueeze(1).to(device)\n",
    "            batch_done = torch.FloatTensor(batch_done).unsqueeze(1).to(device)\n",
    "\n",
    "            with torch.no_grad():\n",
    "                targetQ_next = targetQNetwork(batch_next_state)\n",
    "                y = batch_reward + (1 - batch_done) * GAMMA * torch.max(targetQ_next, dim=1, keepdim=True)[0]\n",
    "\n",
    "            loss = F.mse_loss(onlineQNetwork(batch_state).gather(1, batch_action.long()), y)\n",
    "            optimizer.zero_grad()\n",
    "            loss.backward()\n",
    "            optimizer.step()\n",
    "            writer.add_scalar('loss', loss.item(), global_step=learn_steps)\n",
    "\n",
    "            if epsilon > FINAL_EPSILON:\n",
    "                epsilon -= (INITIAL_EPSILON - FINAL_EPSILON) / EXPLORE\n",
    "\n",
    "        if done:\n",
    "            break\n",
    "        state = next_state"
   ]
  },
  {
   "cell_type": "code",
   "execution_count": 7,
   "metadata": {},
   "outputs": [
    {
     "output_type": "stream",
     "name": "stdout",
     "text": [
      "0.309\n"
     ]
    }
   ],
   "source": [
    "print(np.mean(winsarray[:,2]))"
   ]
  },
  {
   "cell_type": "code",
   "execution_count": 11,
   "metadata": {},
   "outputs": [
    {
     "output_type": "display_data",
     "data": {
      "text/plain": "<Figure size 432x288 with 1 Axes>",
      "image/svg+xml": "<?xml version=\"1.0\" encoding=\"utf-8\" standalone=\"no\"?>\r\n<!DOCTYPE svg PUBLIC \"-//W3C//DTD SVG 1.1//EN\"\r\n  \"http://www.w3.org/Graphics/SVG/1.1/DTD/svg11.dtd\">\r\n<!-- Created with matplotlib (https://matplotlib.org/) -->\r\n<svg height=\"248.518125pt\" version=\"1.1\" viewBox=\"0 0 375.2875 248.518125\" width=\"375.2875pt\" xmlns=\"http://www.w3.org/2000/svg\" xmlns:xlink=\"http://www.w3.org/1999/xlink\">\r\n <defs>\r\n  <style type=\"text/css\">\r\n*{stroke-linecap:butt;stroke-linejoin:round;}\r\n  </style>\r\n </defs>\r\n <g id=\"figure_1\">\r\n  <g id=\"patch_1\">\r\n   <path d=\"M 0 248.518125 \r\nL 375.2875 248.518125 \r\nL 375.2875 0 \r\nL 0 0 \r\nz\r\n\" style=\"fill:none;\"/>\r\n  </g>\r\n  <g id=\"axes_1\">\r\n   <g id=\"patch_2\">\r\n    <path d=\"M 33.2875 224.64 \r\nL 368.0875 224.64 \r\nL 368.0875 7.2 \r\nL 33.2875 7.2 \r\nz\r\n\" style=\"fill:#ffffff;\"/>\r\n   </g>\r\n   <g id=\"matplotlib.axis_1\">\r\n    <g id=\"xtick_1\">\r\n     <g id=\"line2d_1\">\r\n      <defs>\r\n       <path d=\"M 0 0 \r\nL 0 3.5 \r\n\" id=\"m58a1a8545d\" style=\"stroke:#000000;stroke-width:0.8;\"/>\r\n      </defs>\r\n      <g>\r\n       <use style=\"stroke:#000000;stroke-width:0.8;\" x=\"48.505682\" xlink:href=\"#m58a1a8545d\" y=\"224.64\"/>\r\n      </g>\r\n     </g>\r\n     <g id=\"text_1\">\r\n      <!-- 0 -->\r\n      <defs>\r\n       <path d=\"M 31.78125 66.40625 \r\nQ 24.171875 66.40625 20.328125 58.90625 \r\nQ 16.5 51.421875 16.5 36.375 \r\nQ 16.5 21.390625 20.328125 13.890625 \r\nQ 24.171875 6.390625 31.78125 6.390625 \r\nQ 39.453125 6.390625 43.28125 13.890625 \r\nQ 47.125 21.390625 47.125 36.375 \r\nQ 47.125 51.421875 43.28125 58.90625 \r\nQ 39.453125 66.40625 31.78125 66.40625 \r\nz\r\nM 31.78125 74.21875 \r\nQ 44.046875 74.21875 50.515625 64.515625 \r\nQ 56.984375 54.828125 56.984375 36.375 \r\nQ 56.984375 17.96875 50.515625 8.265625 \r\nQ 44.046875 -1.421875 31.78125 -1.421875 \r\nQ 19.53125 -1.421875 13.0625 8.265625 \r\nQ 6.59375 17.96875 6.59375 36.375 \r\nQ 6.59375 54.828125 13.0625 64.515625 \r\nQ 19.53125 74.21875 31.78125 74.21875 \r\nz\r\n\" id=\"DejaVuSans-48\"/>\r\n      </defs>\r\n      <g transform=\"translate(45.324432 239.238437)scale(0.1 -0.1)\">\r\n       <use xlink:href=\"#DejaVuSans-48\"/>\r\n      </g>\r\n     </g>\r\n    </g>\r\n    <g id=\"xtick_2\">\r\n     <g id=\"line2d_2\">\r\n      <g>\r\n       <use style=\"stroke:#000000;stroke-width:0.8;\" x=\"109.439343\" xlink:href=\"#m58a1a8545d\" y=\"224.64\"/>\r\n      </g>\r\n     </g>\r\n     <g id=\"text_2\">\r\n      <!-- 200 -->\r\n      <defs>\r\n       <path d=\"M 19.1875 8.296875 \r\nL 53.609375 8.296875 \r\nL 53.609375 0 \r\nL 7.328125 0 \r\nL 7.328125 8.296875 \r\nQ 12.9375 14.109375 22.625 23.890625 \r\nQ 32.328125 33.6875 34.8125 36.53125 \r\nQ 39.546875 41.84375 41.421875 45.53125 \r\nQ 43.3125 49.21875 43.3125 52.78125 \r\nQ 43.3125 58.59375 39.234375 62.25 \r\nQ 35.15625 65.921875 28.609375 65.921875 \r\nQ 23.96875 65.921875 18.8125 64.3125 \r\nQ 13.671875 62.703125 7.8125 59.421875 \r\nL 7.8125 69.390625 \r\nQ 13.765625 71.78125 18.9375 73 \r\nQ 24.125 74.21875 28.421875 74.21875 \r\nQ 39.75 74.21875 46.484375 68.546875 \r\nQ 53.21875 62.890625 53.21875 53.421875 \r\nQ 53.21875 48.921875 51.53125 44.890625 \r\nQ 49.859375 40.875 45.40625 35.40625 \r\nQ 44.1875 33.984375 37.640625 27.21875 \r\nQ 31.109375 20.453125 19.1875 8.296875 \r\nz\r\n\" id=\"DejaVuSans-50\"/>\r\n      </defs>\r\n      <g transform=\"translate(99.895593 239.238437)scale(0.1 -0.1)\">\r\n       <use xlink:href=\"#DejaVuSans-50\"/>\r\n       <use x=\"63.623047\" xlink:href=\"#DejaVuSans-48\"/>\r\n       <use x=\"127.246094\" xlink:href=\"#DejaVuSans-48\"/>\r\n      </g>\r\n     </g>\r\n    </g>\r\n    <g id=\"xtick_3\">\r\n     <g id=\"line2d_3\">\r\n      <g>\r\n       <use style=\"stroke:#000000;stroke-width:0.8;\" x=\"170.373004\" xlink:href=\"#m58a1a8545d\" y=\"224.64\"/>\r\n      </g>\r\n     </g>\r\n     <g id=\"text_3\">\r\n      <!-- 400 -->\r\n      <defs>\r\n       <path d=\"M 37.796875 64.3125 \r\nL 12.890625 25.390625 \r\nL 37.796875 25.390625 \r\nz\r\nM 35.203125 72.90625 \r\nL 47.609375 72.90625 \r\nL 47.609375 25.390625 \r\nL 58.015625 25.390625 \r\nL 58.015625 17.1875 \r\nL 47.609375 17.1875 \r\nL 47.609375 0 \r\nL 37.796875 0 \r\nL 37.796875 17.1875 \r\nL 4.890625 17.1875 \r\nL 4.890625 26.703125 \r\nz\r\n\" id=\"DejaVuSans-52\"/>\r\n      </defs>\r\n      <g transform=\"translate(160.829254 239.238437)scale(0.1 -0.1)\">\r\n       <use xlink:href=\"#DejaVuSans-52\"/>\r\n       <use x=\"63.623047\" xlink:href=\"#DejaVuSans-48\"/>\r\n       <use x=\"127.246094\" xlink:href=\"#DejaVuSans-48\"/>\r\n      </g>\r\n     </g>\r\n    </g>\r\n    <g id=\"xtick_4\">\r\n     <g id=\"line2d_4\">\r\n      <g>\r\n       <use style=\"stroke:#000000;stroke-width:0.8;\" x=\"231.306665\" xlink:href=\"#m58a1a8545d\" y=\"224.64\"/>\r\n      </g>\r\n     </g>\r\n     <g id=\"text_4\">\r\n      <!-- 600 -->\r\n      <defs>\r\n       <path d=\"M 33.015625 40.375 \r\nQ 26.375 40.375 22.484375 35.828125 \r\nQ 18.609375 31.296875 18.609375 23.390625 \r\nQ 18.609375 15.53125 22.484375 10.953125 \r\nQ 26.375 6.390625 33.015625 6.390625 \r\nQ 39.65625 6.390625 43.53125 10.953125 \r\nQ 47.40625 15.53125 47.40625 23.390625 \r\nQ 47.40625 31.296875 43.53125 35.828125 \r\nQ 39.65625 40.375 33.015625 40.375 \r\nz\r\nM 52.59375 71.296875 \r\nL 52.59375 62.3125 \r\nQ 48.875 64.0625 45.09375 64.984375 \r\nQ 41.3125 65.921875 37.59375 65.921875 \r\nQ 27.828125 65.921875 22.671875 59.328125 \r\nQ 17.53125 52.734375 16.796875 39.40625 \r\nQ 19.671875 43.65625 24.015625 45.921875 \r\nQ 28.375 48.1875 33.59375 48.1875 \r\nQ 44.578125 48.1875 50.953125 41.515625 \r\nQ 57.328125 34.859375 57.328125 23.390625 \r\nQ 57.328125 12.15625 50.6875 5.359375 \r\nQ 44.046875 -1.421875 33.015625 -1.421875 \r\nQ 20.359375 -1.421875 13.671875 8.265625 \r\nQ 6.984375 17.96875 6.984375 36.375 \r\nQ 6.984375 53.65625 15.1875 63.9375 \r\nQ 23.390625 74.21875 37.203125 74.21875 \r\nQ 40.921875 74.21875 44.703125 73.484375 \r\nQ 48.484375 72.75 52.59375 71.296875 \r\nz\r\n\" id=\"DejaVuSans-54\"/>\r\n      </defs>\r\n      <g transform=\"translate(221.762915 239.238437)scale(0.1 -0.1)\">\r\n       <use xlink:href=\"#DejaVuSans-54\"/>\r\n       <use x=\"63.623047\" xlink:href=\"#DejaVuSans-48\"/>\r\n       <use x=\"127.246094\" xlink:href=\"#DejaVuSans-48\"/>\r\n      </g>\r\n     </g>\r\n    </g>\r\n    <g id=\"xtick_5\">\r\n     <g id=\"line2d_5\">\r\n      <g>\r\n       <use style=\"stroke:#000000;stroke-width:0.8;\" x=\"292.240326\" xlink:href=\"#m58a1a8545d\" y=\"224.64\"/>\r\n      </g>\r\n     </g>\r\n     <g id=\"text_5\">\r\n      <!-- 800 -->\r\n      <defs>\r\n       <path d=\"M 31.78125 34.625 \r\nQ 24.75 34.625 20.71875 30.859375 \r\nQ 16.703125 27.09375 16.703125 20.515625 \r\nQ 16.703125 13.921875 20.71875 10.15625 \r\nQ 24.75 6.390625 31.78125 6.390625 \r\nQ 38.8125 6.390625 42.859375 10.171875 \r\nQ 46.921875 13.96875 46.921875 20.515625 \r\nQ 46.921875 27.09375 42.890625 30.859375 \r\nQ 38.875 34.625 31.78125 34.625 \r\nz\r\nM 21.921875 38.8125 \r\nQ 15.578125 40.375 12.03125 44.71875 \r\nQ 8.5 49.078125 8.5 55.328125 \r\nQ 8.5 64.0625 14.71875 69.140625 \r\nQ 20.953125 74.21875 31.78125 74.21875 \r\nQ 42.671875 74.21875 48.875 69.140625 \r\nQ 55.078125 64.0625 55.078125 55.328125 \r\nQ 55.078125 49.078125 51.53125 44.71875 \r\nQ 48 40.375 41.703125 38.8125 \r\nQ 48.828125 37.15625 52.796875 32.3125 \r\nQ 56.78125 27.484375 56.78125 20.515625 \r\nQ 56.78125 9.90625 50.3125 4.234375 \r\nQ 43.84375 -1.421875 31.78125 -1.421875 \r\nQ 19.734375 -1.421875 13.25 4.234375 \r\nQ 6.78125 9.90625 6.78125 20.515625 \r\nQ 6.78125 27.484375 10.78125 32.3125 \r\nQ 14.796875 37.15625 21.921875 38.8125 \r\nz\r\nM 18.3125 54.390625 \r\nQ 18.3125 48.734375 21.84375 45.5625 \r\nQ 25.390625 42.390625 31.78125 42.390625 \r\nQ 38.140625 42.390625 41.71875 45.5625 \r\nQ 45.3125 48.734375 45.3125 54.390625 \r\nQ 45.3125 60.0625 41.71875 63.234375 \r\nQ 38.140625 66.40625 31.78125 66.40625 \r\nQ 25.390625 66.40625 21.84375 63.234375 \r\nQ 18.3125 60.0625 18.3125 54.390625 \r\nz\r\n\" id=\"DejaVuSans-56\"/>\r\n      </defs>\r\n      <g transform=\"translate(282.696576 239.238437)scale(0.1 -0.1)\">\r\n       <use xlink:href=\"#DejaVuSans-56\"/>\r\n       <use x=\"63.623047\" xlink:href=\"#DejaVuSans-48\"/>\r\n       <use x=\"127.246094\" xlink:href=\"#DejaVuSans-48\"/>\r\n      </g>\r\n     </g>\r\n    </g>\r\n    <g id=\"xtick_6\">\r\n     <g id=\"line2d_6\">\r\n      <g>\r\n       <use style=\"stroke:#000000;stroke-width:0.8;\" x=\"353.173986\" xlink:href=\"#m58a1a8545d\" y=\"224.64\"/>\r\n      </g>\r\n     </g>\r\n     <g id=\"text_6\">\r\n      <!-- 1000 -->\r\n      <defs>\r\n       <path d=\"M 12.40625 8.296875 \r\nL 28.515625 8.296875 \r\nL 28.515625 63.921875 \r\nL 10.984375 60.40625 \r\nL 10.984375 69.390625 \r\nL 28.421875 72.90625 \r\nL 38.28125 72.90625 \r\nL 38.28125 8.296875 \r\nL 54.390625 8.296875 \r\nL 54.390625 0 \r\nL 12.40625 0 \r\nz\r\n\" id=\"DejaVuSans-49\"/>\r\n      </defs>\r\n      <g transform=\"translate(340.448986 239.238437)scale(0.1 -0.1)\">\r\n       <use xlink:href=\"#DejaVuSans-49\"/>\r\n       <use x=\"63.623047\" xlink:href=\"#DejaVuSans-48\"/>\r\n       <use x=\"127.246094\" xlink:href=\"#DejaVuSans-48\"/>\r\n       <use x=\"190.869141\" xlink:href=\"#DejaVuSans-48\"/>\r\n      </g>\r\n     </g>\r\n    </g>\r\n   </g>\r\n   <g id=\"matplotlib.axis_2\">\r\n    <g id=\"ytick_1\">\r\n     <g id=\"line2d_7\">\r\n      <defs>\r\n       <path d=\"M 0 0 \r\nL -3.5 0 \r\n\" id=\"mb4289690a8\" style=\"stroke:#000000;stroke-width:0.8;\"/>\r\n      </defs>\r\n      <g>\r\n       <use style=\"stroke:#000000;stroke-width:0.8;\" x=\"33.2875\" xlink:href=\"#mb4289690a8\" y=\"214.756364\"/>\r\n      </g>\r\n     </g>\r\n     <g id=\"text_7\">\r\n      <!-- 0 -->\r\n      <g transform=\"translate(19.925 218.555582)scale(0.1 -0.1)\">\r\n       <use xlink:href=\"#DejaVuSans-48\"/>\r\n      </g>\r\n     </g>\r\n    </g>\r\n    <g id=\"ytick_2\">\r\n     <g id=\"line2d_8\">\r\n      <g>\r\n       <use style=\"stroke:#000000;stroke-width:0.8;\" x=\"33.2875\" xlink:href=\"#mb4289690a8\" y=\"182.770485\"/>\r\n      </g>\r\n     </g>\r\n     <g id=\"text_8\">\r\n      <!-- 50 -->\r\n      <defs>\r\n       <path d=\"M 10.796875 72.90625 \r\nL 49.515625 72.90625 \r\nL 49.515625 64.59375 \r\nL 19.828125 64.59375 \r\nL 19.828125 46.734375 \r\nQ 21.96875 47.46875 24.109375 47.828125 \r\nQ 26.265625 48.1875 28.421875 48.1875 \r\nQ 40.625 48.1875 47.75 41.5 \r\nQ 54.890625 34.8125 54.890625 23.390625 \r\nQ 54.890625 11.625 47.5625 5.09375 \r\nQ 40.234375 -1.421875 26.90625 -1.421875 \r\nQ 22.3125 -1.421875 17.546875 -0.640625 \r\nQ 12.796875 0.140625 7.71875 1.703125 \r\nL 7.71875 11.625 \r\nQ 12.109375 9.234375 16.796875 8.0625 \r\nQ 21.484375 6.890625 26.703125 6.890625 \r\nQ 35.15625 6.890625 40.078125 11.328125 \r\nQ 45.015625 15.765625 45.015625 23.390625 \r\nQ 45.015625 31 40.078125 35.4375 \r\nQ 35.15625 39.890625 26.703125 39.890625 \r\nQ 22.75 39.890625 18.8125 39.015625 \r\nQ 14.890625 38.140625 10.796875 36.28125 \r\nz\r\n\" id=\"DejaVuSans-53\"/>\r\n      </defs>\r\n      <g transform=\"translate(13.5625 186.569704)scale(0.1 -0.1)\">\r\n       <use xlink:href=\"#DejaVuSans-53\"/>\r\n       <use x=\"63.623047\" xlink:href=\"#DejaVuSans-48\"/>\r\n      </g>\r\n     </g>\r\n    </g>\r\n    <g id=\"ytick_3\">\r\n     <g id=\"line2d_9\">\r\n      <g>\r\n       <use style=\"stroke:#000000;stroke-width:0.8;\" x=\"33.2875\" xlink:href=\"#mb4289690a8\" y=\"150.784607\"/>\r\n      </g>\r\n     </g>\r\n     <g id=\"text_9\">\r\n      <!-- 100 -->\r\n      <g transform=\"translate(7.2 154.583826)scale(0.1 -0.1)\">\r\n       <use xlink:href=\"#DejaVuSans-49\"/>\r\n       <use x=\"63.623047\" xlink:href=\"#DejaVuSans-48\"/>\r\n       <use x=\"127.246094\" xlink:href=\"#DejaVuSans-48\"/>\r\n      </g>\r\n     </g>\r\n    </g>\r\n    <g id=\"ytick_4\">\r\n     <g id=\"line2d_10\">\r\n      <g>\r\n       <use style=\"stroke:#000000;stroke-width:0.8;\" x=\"33.2875\" xlink:href=\"#mb4289690a8\" y=\"118.798729\"/>\r\n      </g>\r\n     </g>\r\n     <g id=\"text_10\">\r\n      <!-- 150 -->\r\n      <g transform=\"translate(7.2 122.597948)scale(0.1 -0.1)\">\r\n       <use xlink:href=\"#DejaVuSans-49\"/>\r\n       <use x=\"63.623047\" xlink:href=\"#DejaVuSans-53\"/>\r\n       <use x=\"127.246094\" xlink:href=\"#DejaVuSans-48\"/>\r\n      </g>\r\n     </g>\r\n    </g>\r\n    <g id=\"ytick_5\">\r\n     <g id=\"line2d_11\">\r\n      <g>\r\n       <use style=\"stroke:#000000;stroke-width:0.8;\" x=\"33.2875\" xlink:href=\"#mb4289690a8\" y=\"86.812851\"/>\r\n      </g>\r\n     </g>\r\n     <g id=\"text_11\">\r\n      <!-- 200 -->\r\n      <g transform=\"translate(7.2 90.61207)scale(0.1 -0.1)\">\r\n       <use xlink:href=\"#DejaVuSans-50\"/>\r\n       <use x=\"63.623047\" xlink:href=\"#DejaVuSans-48\"/>\r\n       <use x=\"127.246094\" xlink:href=\"#DejaVuSans-48\"/>\r\n      </g>\r\n     </g>\r\n    </g>\r\n    <g id=\"ytick_6\">\r\n     <g id=\"line2d_12\">\r\n      <g>\r\n       <use style=\"stroke:#000000;stroke-width:0.8;\" x=\"33.2875\" xlink:href=\"#mb4289690a8\" y=\"54.826973\"/>\r\n      </g>\r\n     </g>\r\n     <g id=\"text_12\">\r\n      <!-- 250 -->\r\n      <g transform=\"translate(7.2 58.626191)scale(0.1 -0.1)\">\r\n       <use xlink:href=\"#DejaVuSans-50\"/>\r\n       <use x=\"63.623047\" xlink:href=\"#DejaVuSans-53\"/>\r\n       <use x=\"127.246094\" xlink:href=\"#DejaVuSans-48\"/>\r\n      </g>\r\n     </g>\r\n    </g>\r\n    <g id=\"ytick_7\">\r\n     <g id=\"line2d_13\">\r\n      <g>\r\n       <use style=\"stroke:#000000;stroke-width:0.8;\" x=\"33.2875\" xlink:href=\"#mb4289690a8\" y=\"22.841094\"/>\r\n      </g>\r\n     </g>\r\n     <g id=\"text_13\">\r\n      <!-- 300 -->\r\n      <defs>\r\n       <path d=\"M 40.578125 39.3125 \r\nQ 47.65625 37.796875 51.625 33 \r\nQ 55.609375 28.21875 55.609375 21.1875 \r\nQ 55.609375 10.40625 48.1875 4.484375 \r\nQ 40.765625 -1.421875 27.09375 -1.421875 \r\nQ 22.515625 -1.421875 17.65625 -0.515625 \r\nQ 12.796875 0.390625 7.625 2.203125 \r\nL 7.625 11.71875 \r\nQ 11.71875 9.328125 16.59375 8.109375 \r\nQ 21.484375 6.890625 26.8125 6.890625 \r\nQ 36.078125 6.890625 40.9375 10.546875 \r\nQ 45.796875 14.203125 45.796875 21.1875 \r\nQ 45.796875 27.640625 41.28125 31.265625 \r\nQ 36.765625 34.90625 28.71875 34.90625 \r\nL 20.21875 34.90625 \r\nL 20.21875 43.015625 \r\nL 29.109375 43.015625 \r\nQ 36.375 43.015625 40.234375 45.921875 \r\nQ 44.09375 48.828125 44.09375 54.296875 \r\nQ 44.09375 59.90625 40.109375 62.90625 \r\nQ 36.140625 65.921875 28.71875 65.921875 \r\nQ 24.65625 65.921875 20.015625 65.03125 \r\nQ 15.375 64.15625 9.8125 62.3125 \r\nL 9.8125 71.09375 \r\nQ 15.4375 72.65625 20.34375 73.4375 \r\nQ 25.25 74.21875 29.59375 74.21875 \r\nQ 40.828125 74.21875 47.359375 69.109375 \r\nQ 53.90625 64.015625 53.90625 55.328125 \r\nQ 53.90625 49.265625 50.4375 45.09375 \r\nQ 46.96875 40.921875 40.578125 39.3125 \r\nz\r\n\" id=\"DejaVuSans-51\"/>\r\n      </defs>\r\n      <g transform=\"translate(7.2 26.640313)scale(0.1 -0.1)\">\r\n       <use xlink:href=\"#DejaVuSans-51\"/>\r\n       <use x=\"63.623047\" xlink:href=\"#DejaVuSans-48\"/>\r\n       <use x=\"127.246094\" xlink:href=\"#DejaVuSans-48\"/>\r\n      </g>\r\n     </g>\r\n    </g>\r\n   </g>\r\n   <g id=\"line2d_14\">\r\n    <path clip-path=\"url(#p814e1b9322)\" d=\"M 48.505682 214.756364 \r\nL 49.419687 214.756364 \r\nL 49.724355 214.116646 \r\nL 51.247697 214.116646 \r\nL 51.552365 213.476929 \r\nL 52.771038 213.476929 \r\nL 53.075706 212.837211 \r\nL 54.599048 212.837211 \r\nL 55.208385 211.557776 \r\nL 55.513053 211.557776 \r\nL 55.817721 210.918058 \r\nL 56.122389 210.918058 \r\nL 57.036394 208.998906 \r\nL 60.387746 208.998906 \r\nL 60.997082 207.71947 \r\nL 64.95777 207.71947 \r\nL 65.262439 207.079753 \r\nL 66.78578 207.079753 \r\nL 67.395117 205.800318 \r\nL 67.699785 205.800318 \r\nL 68.309122 204.520883 \r\nL 69.527795 204.520883 \r\nL 69.832463 203.881165 \r\nL 70.4418 203.881165 \r\nL 70.746468 203.241447 \r\nL 71.051136 203.241447 \r\nL 71.355805 202.60173 \r\nL 71.965141 202.60173 \r\nL 72.26981 201.962012 \r\nL 73.488483 201.962012 \r\nL 73.793151 201.322295 \r\nL 74.707156 201.322295 \r\nL 75.011824 200.682577 \r\nL 78.058507 200.682577 \r\nL 78.667844 199.403142 \r\nL 79.886517 199.403142 \r\nL 80.191186 198.763425 \r\nL 81.409859 198.763425 \r\nL 81.714527 198.123707 \r\nL 83.542537 198.123707 \r\nL 83.847205 197.483989 \r\nL 84.456542 197.483989 \r\nL 84.76121 196.844272 \r\nL 85.065878 196.844272 \r\nL 85.370547 196.204554 \r\nL 85.675215 196.204554 \r\nL 85.979883 195.564837 \r\nL 86.284552 195.564837 \r\nL 86.58922 194.925119 \r\nL 86.893888 194.925119 \r\nL 87.198557 194.285402 \r\nL 88.721898 194.285402 \r\nL 89.331235 193.005966 \r\nL 89.635903 193.005966 \r\nL 89.940571 192.366249 \r\nL 91.768581 192.366249 \r\nL 92.073249 191.726531 \r\nL 92.377918 191.726531 \r\nL 92.682586 191.086814 \r\nL 93.901259 191.086814 \r\nL 94.510596 189.807379 \r\nL 97.252611 189.807379 \r\nL 97.557279 189.167661 \r\nL 98.775952 189.167661 \r\nL 99.08062 188.527944 \r\nL 103.041308 188.527944 \r\nL 103.345977 187.888226 \r\nL 104.56465 187.888226 \r\nL 104.869318 187.248508 \r\nL 105.783323 187.248508 \r\nL 106.39266 185.969073 \r\nL 106.697328 185.969073 \r\nL 107.001996 185.329356 \r\nL 107.306665 185.329356 \r\nL 107.916001 184.049921 \r\nL 110.658016 184.049921 \r\nL 111.572021 182.130768 \r\nL 112.181357 182.130768 \r\nL 112.486026 181.49105 \r\nL 113.095362 181.49105 \r\nL 113.400031 180.851333 \r\nL 114.314036 180.851333 \r\nL 114.618704 180.211615 \r\nL 115.837377 180.211615 \r\nL 116.142045 179.571898 \r\nL 116.446714 179.571898 \r\nL 116.751382 178.93218 \r\nL 117.970055 178.93218 \r\nL 118.579392 177.652745 \r\nL 118.88406 177.652745 \r\nL 119.188729 177.013027 \r\nL 119.493397 177.013027 \r\nL 120.102733 175.733592 \r\nL 123.149416 175.733592 \r\nL 123.758753 174.454157 \r\nL 124.672758 174.454157 \r\nL 124.977426 173.81444 \r\nL 125.282095 173.81444 \r\nL 125.586763 173.174722 \r\nL 126.805436 173.174722 \r\nL 127.110104 172.535004 \r\nL 127.719441 172.535004 \r\nL 128.024109 171.895287 \r\nL 128.633446 171.895287 \r\nL 129.242783 170.615852 \r\nL 129.547451 170.615852 \r\nL 129.852119 169.976134 \r\nL 130.766124 169.976134 \r\nL 131.070792 169.336417 \r\nL 132.289466 169.336417 \r\nL 132.594134 168.696699 \r\nL 133.203471 168.696699 \r\nL 133.508139 168.056981 \r\nL 134.726812 168.056981 \r\nL 135.03148 167.417264 \r\nL 136.250154 167.417264 \r\nL 136.554822 166.777546 \r\nL 137.773495 166.777546 \r\nL 138.078163 166.137829 \r\nL 138.382832 166.137829 \r\nL 138.6875 165.498111 \r\nL 140.820178 165.498111 \r\nL 141.429515 164.218676 \r\nL 143.866861 164.218676 \r\nL 144.171529 163.578959 \r\nL 145.999539 163.578959 \r\nL 146.304208 162.939241 \r\nL 147.218213 162.939241 \r\nL 147.827549 161.659806 \r\nL 149.046222 161.659806 \r\nL 149.350891 161.020088 \r\nL 149.960227 161.020088 \r\nL 150.264896 160.380371 \r\nL 151.483569 160.380371 \r\nL 151.788237 159.740653 \r\nL 152.702242 159.740653 \r\nL 153.920915 157.181783 \r\nL 155.444257 157.181783 \r\nL 155.748925 156.542065 \r\nL 156.967598 156.542065 \r\nL 157.272267 155.902348 \r\nL 158.186271 155.902348 \r\nL 158.49094 155.26263 \r\nL 159.100276 155.26263 \r\nL 159.709613 153.983195 \r\nL 160.31895 153.983195 \r\nL 160.623618 153.343477 \r\nL 160.928286 153.343477 \r\nL 161.232955 152.70376 \r\nL 161.842291 152.70376 \r\nL 162.146959 152.064042 \r\nL 162.451628 152.064042 \r\nL 163.060964 150.784607 \r\nL 163.670301 150.784607 \r\nL 164.279638 149.505172 \r\nL 168.544994 149.505172 \r\nL 168.849662 148.865455 \r\nL 170.068335 148.865455 \r\nL 170.373004 148.225737 \r\nL 171.287009 148.225737 \r\nL 172.201014 146.306584 \r\nL 172.81035 146.306584 \r\nL 173.115018 145.666867 \r\nL 174.943028 145.666867 \r\nL 175.247697 145.027149 \r\nL 176.161701 145.027149 \r\nL 176.771038 143.747714 \r\nL 177.380375 143.747714 \r\nL 177.685043 143.107996 \r\nL 179.208385 143.107996 \r\nL 179.817721 141.828561 \r\nL 181.645731 141.828561 \r\nL 182.255068 140.549126 \r\nL 183.778409 140.549126 \r\nL 184.083077 139.909409 \r\nL 184.692414 139.909409 \r\nL 184.997082 139.269691 \r\nL 186.215756 139.269691 \r\nL 186.825092 137.990256 \r\nL 187.12976 137.990256 \r\nL 188.043765 136.071103 \r\nL 188.653102 136.071103 \r\nL 188.95777 135.431386 \r\nL 189.871775 135.431386 \r\nL 190.481112 134.151951 \r\nL 191.395117 134.151951 \r\nL 191.699785 133.512233 \r\nL 192.918458 133.512233 \r\nL 193.223127 132.872515 \r\nL 193.832463 132.872515 \r\nL 194.746468 130.953363 \r\nL 195.355805 130.953363 \r\nL 195.660473 130.313645 \r\nL 195.965141 130.313645 \r\nL 196.26981 129.673928 \r\nL 196.574478 129.673928 \r\nL 196.879146 129.03421 \r\nL 199.925829 129.03421 \r\nL 200.230498 128.394492 \r\nL 201.144502 128.394492 \r\nL 201.449171 127.754775 \r\nL 201.753839 127.754775 \r\nL 202.058507 127.115057 \r\nL 202.667844 127.115057 \r\nL 202.972512 126.47534 \r\nL 203.886517 126.47534 \r\nL 204.191186 125.835622 \r\nL 209.675215 125.835622 \r\nL 209.979883 125.195905 \r\nL 210.284552 125.195905 \r\nL 210.893888 123.91647 \r\nL 211.807893 123.91647 \r\nL 212.112561 123.276752 \r\nL 212.721898 123.276752 \r\nL 214.549908 119.438447 \r\nL 214.854576 119.438447 \r\nL 215.159244 118.798729 \r\nL 216.377918 118.798729 \r\nL 217.291923 116.879576 \r\nL 217.596591 116.879576 \r\nL 218.205928 115.600141 \r\nL 218.510596 115.600141 \r\nL 218.815264 114.960424 \r\nL 219.119932 114.960424 \r\nL 219.424601 114.320706 \r\nL 220.033937 114.320706 \r\nL 220.338606 113.680989 \r\nL 221.557279 113.680989 \r\nL 221.861947 113.041271 \r\nL 223.689957 113.041271 \r\nL 223.994625 112.401553 \r\nL 224.90863 112.401553 \r\nL 225.822635 110.482401 \r\nL 226.127303 110.482401 \r\nL 226.431972 109.842683 \r\nL 226.73664 109.842683 \r\nL 227.345977 108.563248 \r\nL 228.56465 108.563248 \r\nL 229.173986 107.283813 \r\nL 229.478655 107.283813 \r\nL 229.783323 106.644095 \r\nL 230.087991 106.644095 \r\nL 231.001996 104.724943 \r\nL 233.134674 104.724943 \r\nL 233.744011 103.445508 \r\nL 234.048679 103.445508 \r\nL 234.353348 102.80579 \r\nL 234.962684 102.80579 \r\nL 235.572021 101.526355 \r\nL 236.486026 101.526355 \r\nL 236.790694 100.886637 \r\nL 237.704699 100.886637 \r\nL 238.009367 100.24692 \r\nL 238.314036 100.24692 \r\nL 238.618704 99.607202 \r\nL 238.923372 99.607202 \r\nL 239.228041 98.967485 \r\nL 240.751382 98.967485 \r\nL 241.05605 98.327767 \r\nL 241.360719 98.327767 \r\nL 241.665387 97.688049 \r\nL 242.274724 97.688049 \r\nL 242.579392 97.048332 \r\nL 242.88406 97.048332 \r\nL 243.188729 96.408614 \r\nL 243.493397 96.408614 \r\nL 244.407402 94.489462 \r\nL 245.930743 94.489462 \r\nL 247.149416 91.930591 \r\nL 248.672758 91.930591 \r\nL 249.282095 90.651156 \r\nL 251.110104 90.651156 \r\nL 251.719441 89.371721 \r\nL 252.328778 89.371721 \r\nL 252.938114 88.092286 \r\nL 253.547451 88.092286 \r\nL 253.852119 87.452568 \r\nL 254.766124 87.452568 \r\nL 255.070792 86.812851 \r\nL 256.289466 86.812851 \r\nL 256.898802 85.533416 \r\nL 257.203471 85.533416 \r\nL 258.422144 82.974545 \r\nL 260.250154 82.974545 \r\nL 260.554822 82.334828 \r\nL 260.85949 82.334828 \r\nL 261.468827 81.055393 \r\nL 262.992168 81.055393 \r\nL 263.601505 79.775958 \r\nL 263.906173 79.775958 \r\nL 264.51551 78.496523 \r\nL 266.038851 78.496523 \r\nL 266.34352 77.856805 \r\nL 266.648188 77.856805 \r\nL 267.562193 75.937652 \r\nL 268.476198 75.937652 \r\nL 268.780866 75.297935 \r\nL 269.999539 75.297935 \r\nL 270.913544 73.378782 \r\nL 271.522881 73.378782 \r\nL 271.827549 72.739064 \r\nL 272.436886 72.739064 \r\nL 272.741554 72.099347 \r\nL 273.655559 72.099347 \r\nL 273.960227 71.459629 \r\nL 275.788237 71.459629 \r\nL 276.092905 70.819912 \r\nL 276.397574 70.819912 \r\nL 276.702242 70.180194 \r\nL 280.66293 70.180194 \r\nL 280.967598 69.540477 \r\nL 281.576935 69.540477 \r\nL 282.795608 66.981606 \r\nL 285.232955 66.981606 \r\nL 285.537623 66.341889 \r\nL 287.670301 66.341889 \r\nL 287.974969 65.702171 \r\nL 288.279638 65.702171 \r\nL 289.802979 62.503583 \r\nL 290.716984 62.503583 \r\nL 291.021652 61.863866 \r\nL 292.240326 61.863866 \r\nL 292.544994 61.224148 \r\nL 293.763667 61.224148 \r\nL 294.068335 60.584431 \r\nL 297.724355 60.584431 \r\nL 298.029023 59.944713 \r\nL 298.333692 59.944713 \r\nL 298.63836 59.304996 \r\nL 299.857033 59.304996 \r\nL 300.46637 58.02556 \r\nL 300.771038 58.02556 \r\nL 301.380375 56.746125 \r\nL 301.685043 56.746125 \r\nL 301.989711 56.106408 \r\nL 303.817721 56.106408 \r\nL 304.122389 55.46669 \r\nL 305.036394 55.46669 \r\nL 305.645731 54.187255 \r\nL 305.950399 54.187255 \r\nL 306.864404 52.268102 \r\nL 308.692414 52.268102 \r\nL 308.997082 51.628385 \r\nL 310.520424 51.628385 \r\nL 310.825092 50.988667 \r\nL 311.12976 50.988667 \r\nL 311.434429 50.34895 \r\nL 312.043765 50.34895 \r\nL 312.348434 49.709232 \r\nL 312.95777 49.709232 \r\nL 313.262439 49.069515 \r\nL 314.176443 49.069515 \r\nL 314.481112 48.429797 \r\nL 315.090448 48.429797 \r\nL 315.395117 47.790079 \r\nL 316.918458 47.790079 \r\nL 317.223127 47.150362 \r\nL 317.527795 47.150362 \r\nL 317.832463 46.510644 \r\nL 318.137131 46.510644 \r\nL 318.746468 45.231209 \r\nL 319.051136 45.231209 \r\nL 319.355805 44.591492 \r\nL 319.660473 44.591492 \r\nL 320.26981 43.312056 \r\nL 320.879146 43.312056 \r\nL 322.097819 40.753186 \r\nL 322.402488 40.753186 \r\nL 322.707156 40.113469 \r\nL 323.621161 40.113469 \r\nL 324.230498 38.834034 \r\nL 324.839834 38.834034 \r\nL 325.144502 38.194316 \r\nL 326.363176 38.194316 \r\nL 326.667844 37.554598 \r\nL 327.277181 37.554598 \r\nL 327.581849 36.914881 \r\nL 327.886517 36.914881 \r\nL 328.191186 36.275163 \r\nL 328.800522 36.275163 \r\nL 329.409859 34.995728 \r\nL 331.237869 34.995728 \r\nL 331.847205 33.716293 \r\nL 334.58922 33.716293 \r\nL 335.198557 32.436858 \r\nL 335.503225 32.436858 \r\nL 335.807893 31.79714 \r\nL 337.635903 31.79714 \r\nL 338.24524 30.517705 \r\nL 338.549908 30.517705 \r\nL 339.463913 28.598553 \r\nL 339.768581 28.598553 \r\nL 340.073249 27.958835 \r\nL 340.682586 27.958835 \r\nL 341.596591 26.039682 \r\nL 343.119932 26.039682 \r\nL 343.424601 25.399965 \r\nL 344.338606 25.399965 \r\nL 344.643274 24.760247 \r\nL 345.252611 24.760247 \r\nL 345.557279 24.12053 \r\nL 346.166615 24.12053 \r\nL 347.385289 21.561659 \r\nL 349.213299 21.561659 \r\nL 349.517967 20.921942 \r\nL 350.127303 20.921942 \r\nL 351.041308 19.002789 \r\nL 351.345977 19.002789 \r\nL 352.259982 17.083636 \r\nL 352.869318 17.083636 \r\nL 352.869318 17.083636 \r\n\" style=\"fill:none;stroke:#1f77b4;stroke-linecap:square;stroke-width:1.5;\"/>\r\n   </g>\r\n   <g id=\"patch_3\">\r\n    <path d=\"M 33.2875 224.64 \r\nL 33.2875 7.2 \r\n\" style=\"fill:none;stroke:#000000;stroke-linecap:square;stroke-linejoin:miter;stroke-width:0.8;\"/>\r\n   </g>\r\n   <g id=\"patch_4\">\r\n    <path d=\"M 368.0875 224.64 \r\nL 368.0875 7.2 \r\n\" style=\"fill:none;stroke:#000000;stroke-linecap:square;stroke-linejoin:miter;stroke-width:0.8;\"/>\r\n   </g>\r\n   <g id=\"patch_5\">\r\n    <path d=\"M 33.2875 224.64 \r\nL 368.0875 224.64 \r\n\" style=\"fill:none;stroke:#000000;stroke-linecap:square;stroke-linejoin:miter;stroke-width:0.8;\"/>\r\n   </g>\r\n   <g id=\"patch_6\">\r\n    <path d=\"M 33.2875 7.2 \r\nL 368.0875 7.2 \r\n\" style=\"fill:none;stroke:#000000;stroke-linecap:square;stroke-linejoin:miter;stroke-width:0.8;\"/>\r\n   </g>\r\n  </g>\r\n </g>\r\n <defs>\r\n  <clipPath id=\"p814e1b9322\">\r\n   <rect height=\"217.44\" width=\"334.8\" x=\"33.2875\" y=\"7.2\"/>\r\n  </clipPath>\r\n </defs>\r\n</svg>\r\n",
      "image/png": "[encoded data removed]"
     },
     "metadata": {
      "needs_background": "light"
     }
    }
   ],
   "source": [
    "plt.plot(winsarray[:,0],np.cumsum(winsarray[:,2]))\n",
    "plt.show()"
   ]
  },
  {
   "cell_type": "code",
   "execution_count": null,
   "metadata": {},
   "outputs": [],
   "source": []
  }
 ]
}