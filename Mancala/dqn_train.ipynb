{
 "metadata": {
  "language_info": {
   "codemirror_mode": {
    "name": "ipython",
    "version": 3
   },
   "file_extension": ".py",
   "mimetype": "text/x-python",
   "name": "python",
   "nbconvert_exporter": "python",
   "pygments_lexer": "ipython3",
   "version": "3.8.3-final"
  },
  "orig_nbformat": 2,
  "kernelspec": {
   "name": "python383jvsc74a57bd0cbd785d33d8314b66158c604fc5ce4796ebc7b68ddf4a41ff3c1dd69f0fbd16d",
   "display_name": "Python 3.8.3 64-bit (conda)"
  }
 },
 "nbformat": 4,
 "nbformat_minor": 2,
 "cells": [
  {
   "cell_type": "code",
   "execution_count": 24,
   "metadata": {},
   "outputs": [],
   "source": [
    "import math\n",
    "import statistics\n",
    "import random\n",
    "import numpy as np\n",
    "\n",
    "import matplotlib.pyplot as plt\n",
    "\n",
    "from collections import namedtuple, deque\n",
    "from itertools import count\n",
    "from PIL import Image\n",
    "from tqdm import tqdm\n",
    "import pandas as pd\n",
    "\n",
    "import torch\n",
    "import torch.nn as nn\n",
    "import torch.nn.functional as F\n",
    "import torch.optim as optim\n",
    "\n",
    "from itertools import count\n",
    "\n",
    "from tensorboardX import SummaryWriter\n",
    "\n",
    "#from env import MancalaEnv\n",
    "from game import Game\n",
    "from randomagent import AgentRandom\n",
    "from exactagent import AgentExact"
   ]
  },
  {
   "cell_type": "code",
   "execution_count": 25,
   "metadata": {},
   "outputs": [],
   "source": [
    "device = torch.device(\"cuda:0\" if torch.cuda.is_available() else \"cpu\")"
   ]
  },
  {
   "source": [
    "## Model Architecture"
   ],
   "cell_type": "markdown",
   "metadata": {}
  },
  {
   "cell_type": "code",
   "execution_count": 26,
   "metadata": {},
   "outputs": [],
   "source": [
    "class QNetwork(nn.Module):\n",
    "    \"\"\" Actor (Policy) Model.\"\"\"\n",
    "    def __init__(self, state_size,action_size, seed, fc1_unit=512,\n",
    "                 fc2_unit = 512):\n",
    "        \"\"\"\n",
    "        Initialize parameters and build model.\n",
    "        Params\n",
    "        =======\n",
    "            state_size (int): Dimension of each state\n",
    "            action_size (int): Dimension of each action\n",
    "            seed (int): Random seed\n",
    "            fc1_unit (int): Number of nodes in first hidden layer\n",
    "            fc2_unit (int): Number of nodes in second hidden layer\n",
    "        \"\"\"\n",
    "        super(QNetwork,self).__init__() ## calls __init__ method of nn.Module class\n",
    "        self.seed = torch.manual_seed(seed)\n",
    "        self.fc1= nn.Linear(state_size,fc1_unit)\n",
    "        self.fc2 = nn.Linear(fc1_unit,fc2_unit)\n",
    "        self.fc3 = nn.Linear(fc2_unit,action_size)\n",
    "        self.out = nn.Softmax(dim=1)\n",
    "        \n",
    "    def forward(self,x):\n",
    "        # x = state\n",
    "        \"\"\"\n",
    "        Build a network that maps state -> action values.\n",
    "        \"\"\"\n",
    "        x = F.relu(self.fc1(x))\n",
    "        x = F.relu(self.fc2(x))\n",
    "        x = F.relu(self.fc3(x))\n",
    "        x = self.out(x)\n",
    "        return x"
   ]
  },
  {
   "source": [
    "## Environment Variables"
   ],
   "cell_type": "markdown",
   "metadata": {}
  },
  {
   "cell_type": "code",
   "execution_count": 27,
   "metadata": {},
   "outputs": [],
   "source": [
    "BUFFER_SIZE = int(4e5)  #replay buffer size\n",
    "''' TRY AN ARRAY HERE FOR BATCH SIZE EFFECT '''\n",
    "BATCH_SIZE = 1000        # minibatch size\n",
    "GAMMA = 0.99            # discount factor\n",
    "TAU = 1e-3              # for soft update of target parameters\n",
    "LR = 5e-4               # learning rate\n",
    "UPDATE_EVERY = 4        # how often to update the network\n",
    "NUM_STATES = 14\n",
    "NUM_ACTIONS = 6"
   ]
  },
  {
   "source": [
    "## DQN Agent"
   ],
   "cell_type": "markdown",
   "metadata": {}
  },
  {
   "cell_type": "code",
   "execution_count": 28,
   "metadata": {},
   "outputs": [],
   "source": [
    "class DQNAgent():\n",
    "    \"\"\"Interacts with and learns form environment.\"\"\"\n",
    "    \n",
    "    def __init__(self, state_size, action_size, seed):\n",
    "        \"\"\"Initialize an Agent object.\n",
    "        \n",
    "        Params\n",
    "        =======\n",
    "            state_size (int): dimension of each state\n",
    "            action_size (int): dimension of each action\n",
    "            seed (int): random seed\n",
    "        \"\"\"\n",
    "        \n",
    "        self.state_size = state_size\n",
    "        self.action_size = action_size\n",
    "        self.seed = random.seed(seed)\n",
    "        \n",
    "        \n",
    "        #Q- Network\n",
    "        self.qnetwork_local = QNetwork(state_size, action_size, seed).to(device)\n",
    "        self.qnetwork_target = QNetwork(state_size, action_size, seed).to(device)\n",
    "        \n",
    "        self.optimizer = optim.Adam(self.qnetwork_local.parameters(),lr=LR)\n",
    "        \n",
    "        # Replay memory \n",
    "        self.memory = ReplayBuffer(action_size, BUFFER_SIZE,BATCH_SIZE,seed)\n",
    "        # Initialize time step (for updating every UPDATE_EVERY steps)\n",
    "        self.t_step = 0\n",
    "        \n",
    "    def step(self, state, action, reward, next_step, done):\n",
    "        # Save experience in replay memory\n",
    "        self.memory.add(state, action, reward, next_step, done)\n",
    "\n",
    "        # Learn every UPDATE_EVERY time steps.\n",
    "        self.t_step = (self.t_step+1)% UPDATE_EVERY\n",
    "        if self.t_step == 0:\n",
    "            # If enough samples are available in memory, get radom subset and learn\n",
    "\n",
    "            if len(self.memory)>BATCH_SIZE:\n",
    "                experience = self.memory.sample()\n",
    "                self.learn(experience, GAMMA)\n",
    "    def act(self, state, eps = 0):\n",
    "        \"\"\"Returns action for given state as per current policy\n",
    "        Params\n",
    "        =======\n",
    "            state (array_like): current state\n",
    "            eps (float): epsilon, for epsilon-greedy action selection\n",
    "        \"\"\"\n",
    "        state = torch.from_numpy(state).float().unsqueeze(0).to(device)\n",
    "        self.qnetwork_local.eval()\n",
    "        with torch.no_grad():\n",
    "            action_values = self.qnetwork_local(state)\n",
    "        self.qnetwork_local.train()\n",
    "\n",
    "        #Epsilon -greedy action selction\n",
    "        if random.random() > eps:\n",
    "            return np.argmax(action_values.cpu().data.numpy())\n",
    "        else:\n",
    "            return random.choice(np.arange(self.action_size))\n",
    "            \n",
    "    def learn(self, experiences, gamma):\n",
    "        \"\"\"Update value parameters using given batch of experience tuples.\n",
    "        Params\n",
    "        =======\n",
    "            experiences (Tuple[torch.Variable]): tuple of (s, a, r, s', done) tuples\n",
    "            gamma (float): discount factor\n",
    "        \"\"\"\n",
    "        states, actions, rewards, next_states, dones = experiences\n",
    "        ## TODO: compute and minimize the loss\n",
    "        criterion = torch.nn.MSELoss()\n",
    "        self.qnetwork_local.train()\n",
    "        self.qnetwork_target.eval()\n",
    "        #shape of output from the model (batch_size,action_dim) = (64,4)\n",
    "        predicted_targets = self.qnetwork_local(states).gather(1,actions)\n",
    "    \n",
    "        with torch.no_grad():\n",
    "            labels_next = self.qnetwork_target(next_states).detach().max(1)[0].unsqueeze(1)\n",
    "\n",
    "        # .detach() ->  Returns a new Tensor, detached from the current graph.\n",
    "        labels = rewards + (gamma* labels_next*(1-dones))\n",
    "        \n",
    "        loss = criterion(predicted_targets,labels).to(device)\n",
    "        self.optimizer.zero_grad()\n",
    "        loss.backward()\n",
    "        self.optimizer.step()\n",
    "\n",
    "        # ------------------- update target network ------------------- #\n",
    "        self.soft_update(self.qnetwork_local,self.qnetwork_target,TAU)\n",
    "            \n",
    "    def soft_update(self, local_model, target_model, tau):\n",
    "        \"\"\"Soft update model parameters.\n",
    "        θ_target = τ*θ_local + (1 - τ)*θ_target\n",
    "        Params\n",
    "        =======\n",
    "            local model (PyTorch model): weights will be copied from\n",
    "            target model (PyTorch model): weights will be copied to\n",
    "            tau (float): interpolation parameter\n",
    "        \"\"\"\n",
    "        for target_param, local_param in zip(target_model.parameters(),\n",
    "                                           local_model.parameters()):\n",
    "            target_param.data.copy_(tau*local_param.data + (1-tau)*target_param.data)\n",
    "            \n",
    "class ReplayBuffer:\n",
    "    \"\"\"Fixed -size buffe to store experience tuples.\"\"\"\n",
    "    \n",
    "    def __init__(self, action_size, buffer_size, batch_size, seed):\n",
    "        \"\"\"Initialize a ReplayBuffer object.\n",
    "        \n",
    "        Params\n",
    "        ======\n",
    "            action_size (int): dimension of each action\n",
    "            buffer_size (int): maximum size of buffer\n",
    "            batch_size (int): size of each training batch\n",
    "            seed (int): random seed\n",
    "        \"\"\"\n",
    "        \n",
    "        self.action_size = action_size\n",
    "        self.memory = deque(maxlen=buffer_size)\n",
    "        self.batch_size = batch_size\n",
    "        self.experiences = namedtuple(\"Experience\", field_names=[\"state\",\n",
    "                                                               \"action\",\n",
    "                                                               \"reward\",\n",
    "                                                               \"next_state\",\n",
    "                                                               \"done\"])\n",
    "        self.seed = random.seed(seed)\n",
    "        \n",
    "    def add(self,state, action, reward, next_state,done):\n",
    "        \"\"\"Add a new experience to memory.\"\"\"\n",
    "        e = self.experiences(state,action,reward,next_state,done)\n",
    "        self.memory.append(e)\n",
    "        \n",
    "    def sample(self):\n",
    "        \"\"\"Randomly sample a batch of experiences from memory\"\"\"\n",
    "        experiences = random.sample(self.memory,k=self.batch_size)\n",
    "        \n",
    "        states = torch.from_numpy(np.vstack([e.state for e in experiences if e is not None])).float().to(device)\n",
    "        actions = torch.from_numpy(np.vstack([e.action for e in experiences if e is not None])).long().to(device)\n",
    "        rewards = torch.from_numpy(np.vstack([e.reward for e in experiences if e is not None])).float().to(device)\n",
    "        next_states = torch.from_numpy(np.vstack([e.next_state for e in experiences if e is not None])).float().to(device)\n",
    "        dones = torch.from_numpy(np.vstack([e.done for e in experiences if e is not None]).astype(np.uint8)).float().to(device)\n",
    "        \n",
    "        return (states,actions,rewards,next_states,dones)\n",
    "    def __len__(self):\n",
    "        \"\"\"Return the current size of internal memory.\"\"\"\n",
    "        return len(self.memory)"
   ]
  },
  {
   "source": [
    "## Reward Functions"
   ],
   "cell_type": "markdown",
   "metadata": {}
  },
  {
   "cell_type": "code",
   "execution_count": 29,
   "metadata": {},
   "outputs": [],
   "source": [
    "def sparse_reward(game, idx):\n",
    "    done = game.over()\n",
    "    next_state = np.array(game.board())\n",
    "    dqn_score, agent_score = game.score()\n",
    "    win = False\n",
    "    if((dqn_score > agent_score) and done):\n",
    "        reward = 10\n",
    "        win = True \n",
    "    else:\n",
    "        reward = -10\n",
    "    return(next_state, reward, done, win)\n",
    "\n",
    "def keep_ahead_reward(game, idx):\n",
    "    done = game.over()\n",
    "    next_state = np.array(game.board())\n",
    "    dqn_score, agent_score = game.score()\n",
    "    win = False\n",
    "\n",
    "    if((dqn_score - agent_score) > 0):\n",
    "        reward = 1\n",
    "    else:\n",
    "        reward = 0\n",
    "    \n",
    "    if((dqn_score > agent_score) and done):\n",
    "        win = True\n",
    "\n",
    "    return(next_state, reward, done, win)\n",
    "\n",
    "def dont_fall_behind_reward(game, idx):\n",
    "    done = game.over()\n",
    "    next_state = np.array(game.board())\n",
    "    dqn_score, agent_score = game.score()\n",
    "    win = False\n",
    "    if((dqn_score - agent_score) < 0):\n",
    "        reward = -1\n",
    "    else:\n",
    "        reward = 0\n",
    "\n",
    "    if((dqn_score > agent_score) and done):\n",
    "        win = True \n",
    "\n",
    "    return(next_state, reward, done, win)"
   ]
  },
  {
   "source": [
    "## Train The agent"
   ],
   "cell_type": "markdown",
   "metadata": {}
  },
  {
   "cell_type": "code",
   "execution_count": 30,
   "metadata": {},
   "outputs": [],
   "source": [
    "agent = DQNAgent(state_size=NUM_STATES, action_size=NUM_ACTIONS, seed=0)\n",
    "opponent = AgentRandom()\n",
    "'''\n",
    "Take a Look at Epsilons\n",
    "'''\n",
    "def dqn(n_episodes= 100, max_t = 1000, eps_start=0.4, eps_end = 0.01,\n",
    "       eps_decay=0.99):\n",
    "    \"\"\"Deep Q-Learning\n",
    "    \n",
    "    Params\n",
    "    ======\n",
    "        n_episodes (int): maximum number of training epsiodes\n",
    "        max_t (int): maximum number of timesteps per episode\n",
    "        eps_start (float): starting value of epsilon, for epsilon-greedy action selection\n",
    "        eps_end (float): minimum value of epsilon \n",
    "        eps_decay (float): mutiplicative factor (per episode) for decreasing epsilon\n",
    "        \n",
    "    \"\"\"\n",
    "    scores = [] # list containing score from each episode\n",
    "    winsarray = np.zeros(shape = (1,2)) # Story which episode saw wins\n",
    "\n",
    "    scores_window = deque(maxlen=100) # last 100 scores\n",
    "    eps = eps_start\n",
    "    for i_episode in tqdm(range(1, n_episodes+1)):\n",
    "        game = Game() # Reset Env\n",
    "        score = 0       # Reset Score\n",
    "        done = False    # Reset finished (done) flag\n",
    "        win = False\n",
    "        state = np.array(game.board()) # Reset State and convert it to numpy array\n",
    "\n",
    "        while not done:\n",
    "            action = agent.act(state,eps) # Select an action\n",
    "            ''' TAKING AN ACTION '''\n",
    "            game.move(action) # Take the action on the Game board\n",
    "            game._player_one = False\n",
    "            game.move(opponent._move(game))\n",
    "            game._player_one = True\n",
    "            next_state, reward, done, win = dont_fall_behind_reward(game, i_episode) # Get next state, reward and if game is done as result of action\n",
    "            #next_state, reward, done, win = keep_ahead_reward(game)\n",
    "            agent.step(state,action,reward,next_state,done)\n",
    "\n",
    "            \n",
    "\n",
    "            \n",
    "            ## above step decides whether we will train(learn) the network\n",
    "            ## actor (local_qnetwork) or we will fill the replay buffer\n",
    "            ## if len replay buffer is equal to the batch size then we will\n",
    "            ## train the network or otherwise we will add experience tuple in our \n",
    "            ## replay buffer.\n",
    "            state = next_state\n",
    "            score += reward\n",
    "\n",
    "            if done:\n",
    "                if win:\n",
    "                    winsarray = np.append(winsarray, [[i_episode,1]], axis = 0)\n",
    "                    break\n",
    "                else:\n",
    "                    winsarray = np.append(winsarray, [[i_episode,0]], axis = 0)\n",
    "                    break\n",
    "            scores_window.append(score) ## save the most recent score\n",
    "            scores.append(score) ## sae the most recent score\n",
    "            eps = max(eps*eps_decay,eps_end)## decrease the epsilon\n",
    "            '''\n",
    "            print('\\rEpisode {}\\tAverage Score {:.2f}'.format(i_episode,np.mean(scores_window)), end=\"\")\n",
    "            if i_episode %100==0:\n",
    "                print('\\rEpisode {}\\tAverage Score {:.2f}'.format(i_episode,np.mean(scores_window)))\n",
    "\n",
    "            SAVE ENVIRONMENT IF SOLVED (WE DON'T KNOW WHAT SOLVED IS JUST YET)\n",
    "            if np.mean(scores_window)>=200.0:\n",
    "                print('\\nEnvironment solve in {:d} epsiodes!\\tAverage score: {:.2f}'.format(i_episode-100,\n",
    "                                                                                           np.mean(scores_window)))\n",
    "                torch.save(agent.qnetwork_local.state_dict(),'checkpoint.pth')\n",
    "           \n",
    "                break\n",
    "            '''\n",
    "    return winsarray"
   ]
  },
  {
   "source": [
    "print(\"Compiled\")"
   ],
   "cell_type": "code",
   "metadata": {},
   "execution_count": 31,
   "outputs": [
    {
     "output_type": "stream",
     "name": "stdout",
     "text": [
      "Compiled\n"
     ]
    }
   ]
  },
  {
   "cell_type": "code",
   "execution_count": 32,
   "metadata": {
    "tags": []
   },
   "outputs": [
    {
     "output_type": "stream",
     "name": "stderr",
     "text": [
      "100%|██████████| 2500/2500 [14:25<00:00,  2.89it/s]\n"
     ]
    },
    {
     "output_type": "execute_result",
     "data": {
      "text/plain": [
       "2501"
      ]
     },
     "metadata": {},
     "execution_count": 32
    }
   ],
   "source": [
    "N_EPISDOES = 2500\n",
    "scores = dqn(n_episodes = N_EPISDOES)\n",
    "len(scores)"
   ]
  },
  {
   "source": [
    "## Moving Average"
   ],
   "cell_type": "markdown",
   "metadata": {}
  },
  {
   "cell_type": "code",
   "execution_count": 33,
   "metadata": {},
   "outputs": [
    {
     "output_type": "execute_result",
     "data": {
      "text/plain": [
       "<function matplotlib.pyplot.show(*args, **kw)>"
      ]
     },
     "metadata": {},
     "execution_count": 33
    },
    {
     "output_type": "display_data",
     "data": {
      "text/plain": "<Figure size 432x288 with 1 Axes>",
      "image/svg+xml": "<?xml version=\"1.0\" encoding=\"utf-8\" standalone=\"no\"?>\r\n<!DOCTYPE svg PUBLIC \"-//W3C//DTD SVG 1.1//EN\"\r\n  \"http://www.w3.org/Graphics/SVG/1.1/DTD/svg11.dtd\">\r\n<!-- Created with matplotlib (https://matplotlib.org/) -->\r\n<svg height=\"248.518125pt\" version=\"1.1\" viewBox=\"0 0 372.103125 248.518125\" width=\"372.103125pt\" xmlns=\"http://www.w3.org/2000/svg\" xmlns:xlink=\"http://www.w3.org/1999/xlink\">\r\n <defs>\r\n  <style type=\"text/css\">\r\n*{stroke-linecap:butt;stroke-linejoin:round;}\r\n  </style>\r\n </defs>\r\n <g id=\"figure_1\">\r\n  <g id=\"patch_1\">\r\n   <path d=\"M 0 248.518125 \r\nL 372.103125 248.518125 \r\nL 372.103125 0 \r\nL 0 0 \r\nz\r\n\" style=\"fill:none;\"/>\r\n  </g>\r\n  <g id=\"axes_1\">\r\n   <g id=\"patch_2\">\r\n    <path d=\"M 30.103125 224.64 \r\nL 364.903125 224.64 \r\nL 364.903125 7.2 \r\nL 30.103125 7.2 \r\nz\r\n\" style=\"fill:#ffffff;\"/>\r\n   </g>\r\n   <g id=\"matplotlib.axis_1\">\r\n    <g id=\"xtick_1\">\r\n     <g id=\"line2d_1\">\r\n      <defs>\r\n       <path d=\"M 0 0 \r\nL 0 3.5 \r\n\" id=\"ma626197a8e\" style=\"stroke:#000000;stroke-width:0.8;\"/>\r\n      </defs>\r\n      <g>\r\n       <use style=\"stroke:#000000;stroke-width:0.8;\" x=\"45.321307\" xlink:href=\"#ma626197a8e\" y=\"224.64\"/>\r\n      </g>\r\n     </g>\r\n     <g id=\"text_1\">\r\n      <!-- 0 -->\r\n      <defs>\r\n       <path d=\"M 31.78125 66.40625 \r\nQ 24.171875 66.40625 20.328125 58.90625 \r\nQ 16.5 51.421875 16.5 36.375 \r\nQ 16.5 21.390625 20.328125 13.890625 \r\nQ 24.171875 6.390625 31.78125 6.390625 \r\nQ 39.453125 6.390625 43.28125 13.890625 \r\nQ 47.125 21.390625 47.125 36.375 \r\nQ 47.125 51.421875 43.28125 58.90625 \r\nQ 39.453125 66.40625 31.78125 66.40625 \r\nz\r\nM 31.78125 74.21875 \r\nQ 44.046875 74.21875 50.515625 64.515625 \r\nQ 56.984375 54.828125 56.984375 36.375 \r\nQ 56.984375 17.96875 50.515625 8.265625 \r\nQ 44.046875 -1.421875 31.78125 -1.421875 \r\nQ 19.53125 -1.421875 13.0625 8.265625 \r\nQ 6.59375 17.96875 6.59375 36.375 \r\nQ 6.59375 54.828125 13.0625 64.515625 \r\nQ 19.53125 74.21875 31.78125 74.21875 \r\nz\r\n\" id=\"DejaVuSans-48\"/>\r\n      </defs>\r\n      <g transform=\"translate(42.140057 239.238437)scale(0.1 -0.1)\">\r\n       <use xlink:href=\"#DejaVuSans-48\"/>\r\n      </g>\r\n     </g>\r\n    </g>\r\n    <g id=\"xtick_2\">\r\n     <g id=\"line2d_2\">\r\n      <g>\r\n       <use style=\"stroke:#000000;stroke-width:0.8;\" x=\"106.66021\" xlink:href=\"#ma626197a8e\" y=\"224.64\"/>\r\n      </g>\r\n     </g>\r\n     <g id=\"text_2\">\r\n      <!-- 500 -->\r\n      <defs>\r\n       <path d=\"M 10.796875 72.90625 \r\nL 49.515625 72.90625 \r\nL 49.515625 64.59375 \r\nL 19.828125 64.59375 \r\nL 19.828125 46.734375 \r\nQ 21.96875 47.46875 24.109375 47.828125 \r\nQ 26.265625 48.1875 28.421875 48.1875 \r\nQ 40.625 48.1875 47.75 41.5 \r\nQ 54.890625 34.8125 54.890625 23.390625 \r\nQ 54.890625 11.625 47.5625 5.09375 \r\nQ 40.234375 -1.421875 26.90625 -1.421875 \r\nQ 22.3125 -1.421875 17.546875 -0.640625 \r\nQ 12.796875 0.140625 7.71875 1.703125 \r\nL 7.71875 11.625 \r\nQ 12.109375 9.234375 16.796875 8.0625 \r\nQ 21.484375 6.890625 26.703125 6.890625 \r\nQ 35.15625 6.890625 40.078125 11.328125 \r\nQ 45.015625 15.765625 45.015625 23.390625 \r\nQ 45.015625 31 40.078125 35.4375 \r\nQ 35.15625 39.890625 26.703125 39.890625 \r\nQ 22.75 39.890625 18.8125 39.015625 \r\nQ 14.890625 38.140625 10.796875 36.28125 \r\nz\r\n\" id=\"DejaVuSans-53\"/>\r\n      </defs>\r\n      <g transform=\"translate(97.11646 239.238437)scale(0.1 -0.1)\">\r\n       <use xlink:href=\"#DejaVuSans-53\"/>\r\n       <use x=\"63.623047\" xlink:href=\"#DejaVuSans-48\"/>\r\n       <use x=\"127.246094\" xlink:href=\"#DejaVuSans-48\"/>\r\n      </g>\r\n     </g>\r\n    </g>\r\n    <g id=\"xtick_3\">\r\n     <g id=\"line2d_3\">\r\n      <g>\r\n       <use style=\"stroke:#000000;stroke-width:0.8;\" x=\"167.999113\" xlink:href=\"#ma626197a8e\" y=\"224.64\"/>\r\n      </g>\r\n     </g>\r\n     <g id=\"text_3\">\r\n      <!-- 1000 -->\r\n      <defs>\r\n       <path d=\"M 12.40625 8.296875 \r\nL 28.515625 8.296875 \r\nL 28.515625 63.921875 \r\nL 10.984375 60.40625 \r\nL 10.984375 69.390625 \r\nL 28.421875 72.90625 \r\nL 38.28125 72.90625 \r\nL 38.28125 8.296875 \r\nL 54.390625 8.296875 \r\nL 54.390625 0 \r\nL 12.40625 0 \r\nz\r\n\" id=\"DejaVuSans-49\"/>\r\n      </defs>\r\n      <g transform=\"translate(155.274113 239.238437)scale(0.1 -0.1)\">\r\n       <use xlink:href=\"#DejaVuSans-49\"/>\r\n       <use x=\"63.623047\" xlink:href=\"#DejaVuSans-48\"/>\r\n       <use x=\"127.246094\" xlink:href=\"#DejaVuSans-48\"/>\r\n       <use x=\"190.869141\" xlink:href=\"#DejaVuSans-48\"/>\r\n      </g>\r\n     </g>\r\n    </g>\r\n    <g id=\"xtick_4\">\r\n     <g id=\"line2d_4\">\r\n      <g>\r\n       <use style=\"stroke:#000000;stroke-width:0.8;\" x=\"229.338016\" xlink:href=\"#ma626197a8e\" y=\"224.64\"/>\r\n      </g>\r\n     </g>\r\n     <g id=\"text_4\">\r\n      <!-- 1500 -->\r\n      <g transform=\"translate(216.613016 239.238437)scale(0.1 -0.1)\">\r\n       <use xlink:href=\"#DejaVuSans-49\"/>\r\n       <use x=\"63.623047\" xlink:href=\"#DejaVuSans-53\"/>\r\n       <use x=\"127.246094\" xlink:href=\"#DejaVuSans-48\"/>\r\n       <use x=\"190.869141\" xlink:href=\"#DejaVuSans-48\"/>\r\n      </g>\r\n     </g>\r\n    </g>\r\n    <g id=\"xtick_5\">\r\n     <g id=\"line2d_5\">\r\n      <g>\r\n       <use style=\"stroke:#000000;stroke-width:0.8;\" x=\"290.676919\" xlink:href=\"#ma626197a8e\" y=\"224.64\"/>\r\n      </g>\r\n     </g>\r\n     <g id=\"text_5\">\r\n      <!-- 2000 -->\r\n      <defs>\r\n       <path d=\"M 19.1875 8.296875 \r\nL 53.609375 8.296875 \r\nL 53.609375 0 \r\nL 7.328125 0 \r\nL 7.328125 8.296875 \r\nQ 12.9375 14.109375 22.625 23.890625 \r\nQ 32.328125 33.6875 34.8125 36.53125 \r\nQ 39.546875 41.84375 41.421875 45.53125 \r\nQ 43.3125 49.21875 43.3125 52.78125 \r\nQ 43.3125 58.59375 39.234375 62.25 \r\nQ 35.15625 65.921875 28.609375 65.921875 \r\nQ 23.96875 65.921875 18.8125 64.3125 \r\nQ 13.671875 62.703125 7.8125 59.421875 \r\nL 7.8125 69.390625 \r\nQ 13.765625 71.78125 18.9375 73 \r\nQ 24.125 74.21875 28.421875 74.21875 \r\nQ 39.75 74.21875 46.484375 68.546875 \r\nQ 53.21875 62.890625 53.21875 53.421875 \r\nQ 53.21875 48.921875 51.53125 44.890625 \r\nQ 49.859375 40.875 45.40625 35.40625 \r\nQ 44.1875 33.984375 37.640625 27.21875 \r\nQ 31.109375 20.453125 19.1875 8.296875 \r\nz\r\n\" id=\"DejaVuSans-50\"/>\r\n      </defs>\r\n      <g transform=\"translate(277.951919 239.238437)scale(0.1 -0.1)\">\r\n       <use xlink:href=\"#DejaVuSans-50\"/>\r\n       <use x=\"63.623047\" xlink:href=\"#DejaVuSans-48\"/>\r\n       <use x=\"127.246094\" xlink:href=\"#DejaVuSans-48\"/>\r\n       <use x=\"190.869141\" xlink:href=\"#DejaVuSans-48\"/>\r\n      </g>\r\n     </g>\r\n    </g>\r\n    <g id=\"xtick_6\">\r\n     <g id=\"line2d_6\">\r\n      <g>\r\n       <use style=\"stroke:#000000;stroke-width:0.8;\" x=\"352.015821\" xlink:href=\"#ma626197a8e\" y=\"224.64\"/>\r\n      </g>\r\n     </g>\r\n     <g id=\"text_6\">\r\n      <!-- 2500 -->\r\n      <g transform=\"translate(339.290821 239.238437)scale(0.1 -0.1)\">\r\n       <use xlink:href=\"#DejaVuSans-50\"/>\r\n       <use x=\"63.623047\" xlink:href=\"#DejaVuSans-53\"/>\r\n       <use x=\"127.246094\" xlink:href=\"#DejaVuSans-48\"/>\r\n       <use x=\"190.869141\" xlink:href=\"#DejaVuSans-48\"/>\r\n      </g>\r\n     </g>\r\n    </g>\r\n   </g>\r\n   <g id=\"matplotlib.axis_2\">\r\n    <g id=\"ytick_1\">\r\n     <g id=\"line2d_7\">\r\n      <defs>\r\n       <path d=\"M 0 0 \r\nL -3.5 0 \r\n\" id=\"m8cf76a976c\" style=\"stroke:#000000;stroke-width:0.8;\"/>\r\n      </defs>\r\n      <g>\r\n       <use style=\"stroke:#000000;stroke-width:0.8;\" x=\"30.103125\" xlink:href=\"#m8cf76a976c\" y=\"199.550769\"/>\r\n      </g>\r\n     </g>\r\n     <g id=\"text_7\">\r\n      <!-- 0.1 -->\r\n      <defs>\r\n       <path d=\"M 10.6875 12.40625 \r\nL 21 12.40625 \r\nL 21 0 \r\nL 10.6875 0 \r\nz\r\n\" id=\"DejaVuSans-46\"/>\r\n      </defs>\r\n      <g transform=\"translate(7.2 203.349988)scale(0.1 -0.1)\">\r\n       <use xlink:href=\"#DejaVuSans-48\"/>\r\n       <use x=\"63.623047\" xlink:href=\"#DejaVuSans-46\"/>\r\n       <use x=\"95.410156\" xlink:href=\"#DejaVuSans-49\"/>\r\n      </g>\r\n     </g>\r\n    </g>\r\n    <g id=\"ytick_2\">\r\n     <g id=\"line2d_8\">\r\n      <g>\r\n       <use style=\"stroke:#000000;stroke-width:0.8;\" x=\"30.103125\" xlink:href=\"#m8cf76a976c\" y=\"169.13958\"/>\r\n      </g>\r\n     </g>\r\n     <g id=\"text_8\">\r\n      <!-- 0.2 -->\r\n      <g transform=\"translate(7.2 172.938799)scale(0.1 -0.1)\">\r\n       <use xlink:href=\"#DejaVuSans-48\"/>\r\n       <use x=\"63.623047\" xlink:href=\"#DejaVuSans-46\"/>\r\n       <use x=\"95.410156\" xlink:href=\"#DejaVuSans-50\"/>\r\n      </g>\r\n     </g>\r\n    </g>\r\n    <g id=\"ytick_3\">\r\n     <g id=\"line2d_9\">\r\n      <g>\r\n       <use style=\"stroke:#000000;stroke-width:0.8;\" x=\"30.103125\" xlink:href=\"#m8cf76a976c\" y=\"138.728392\"/>\r\n      </g>\r\n     </g>\r\n     <g id=\"text_9\">\r\n      <!-- 0.3 -->\r\n      <defs>\r\n       <path d=\"M 40.578125 39.3125 \r\nQ 47.65625 37.796875 51.625 33 \r\nQ 55.609375 28.21875 55.609375 21.1875 \r\nQ 55.609375 10.40625 48.1875 4.484375 \r\nQ 40.765625 -1.421875 27.09375 -1.421875 \r\nQ 22.515625 -1.421875 17.65625 -0.515625 \r\nQ 12.796875 0.390625 7.625 2.203125 \r\nL 7.625 11.71875 \r\nQ 11.71875 9.328125 16.59375 8.109375 \r\nQ 21.484375 6.890625 26.8125 6.890625 \r\nQ 36.078125 6.890625 40.9375 10.546875 \r\nQ 45.796875 14.203125 45.796875 21.1875 \r\nQ 45.796875 27.640625 41.28125 31.265625 \r\nQ 36.765625 34.90625 28.71875 34.90625 \r\nL 20.21875 34.90625 \r\nL 20.21875 43.015625 \r\nL 29.109375 43.015625 \r\nQ 36.375 43.015625 40.234375 45.921875 \r\nQ 44.09375 48.828125 44.09375 54.296875 \r\nQ 44.09375 59.90625 40.109375 62.90625 \r\nQ 36.140625 65.921875 28.71875 65.921875 \r\nQ 24.65625 65.921875 20.015625 65.03125 \r\nQ 15.375 64.15625 9.8125 62.3125 \r\nL 9.8125 71.09375 \r\nQ 15.4375 72.65625 20.34375 73.4375 \r\nQ 25.25 74.21875 29.59375 74.21875 \r\nQ 40.828125 74.21875 47.359375 69.109375 \r\nQ 53.90625 64.015625 53.90625 55.328125 \r\nQ 53.90625 49.265625 50.4375 45.09375 \r\nQ 46.96875 40.921875 40.578125 39.3125 \r\nz\r\n\" id=\"DejaVuSans-51\"/>\r\n      </defs>\r\n      <g transform=\"translate(7.2 142.52761)scale(0.1 -0.1)\">\r\n       <use xlink:href=\"#DejaVuSans-48\"/>\r\n       <use x=\"63.623047\" xlink:href=\"#DejaVuSans-46\"/>\r\n       <use x=\"95.410156\" xlink:href=\"#DejaVuSans-51\"/>\r\n      </g>\r\n     </g>\r\n    </g>\r\n    <g id=\"ytick_4\">\r\n     <g id=\"line2d_10\">\r\n      <g>\r\n       <use style=\"stroke:#000000;stroke-width:0.8;\" x=\"30.103125\" xlink:href=\"#m8cf76a976c\" y=\"108.317203\"/>\r\n      </g>\r\n     </g>\r\n     <g id=\"text_10\">\r\n      <!-- 0.4 -->\r\n      <defs>\r\n       <path d=\"M 37.796875 64.3125 \r\nL 12.890625 25.390625 \r\nL 37.796875 25.390625 \r\nz\r\nM 35.203125 72.90625 \r\nL 47.609375 72.90625 \r\nL 47.609375 25.390625 \r\nL 58.015625 25.390625 \r\nL 58.015625 17.1875 \r\nL 47.609375 17.1875 \r\nL 47.609375 0 \r\nL 37.796875 0 \r\nL 37.796875 17.1875 \r\nL 4.890625 17.1875 \r\nL 4.890625 26.703125 \r\nz\r\n\" id=\"DejaVuSans-52\"/>\r\n      </defs>\r\n      <g transform=\"translate(7.2 112.116422)scale(0.1 -0.1)\">\r\n       <use xlink:href=\"#DejaVuSans-48\"/>\r\n       <use x=\"63.623047\" xlink:href=\"#DejaVuSans-46\"/>\r\n       <use x=\"95.410156\" xlink:href=\"#DejaVuSans-52\"/>\r\n      </g>\r\n     </g>\r\n    </g>\r\n    <g id=\"ytick_5\">\r\n     <g id=\"line2d_11\">\r\n      <g>\r\n       <use style=\"stroke:#000000;stroke-width:0.8;\" x=\"30.103125\" xlink:href=\"#m8cf76a976c\" y=\"77.906014\"/>\r\n      </g>\r\n     </g>\r\n     <g id=\"text_11\">\r\n      <!-- 0.5 -->\r\n      <g transform=\"translate(7.2 81.705233)scale(0.1 -0.1)\">\r\n       <use xlink:href=\"#DejaVuSans-48\"/>\r\n       <use x=\"63.623047\" xlink:href=\"#DejaVuSans-46\"/>\r\n       <use x=\"95.410156\" xlink:href=\"#DejaVuSans-53\"/>\r\n      </g>\r\n     </g>\r\n    </g>\r\n    <g id=\"ytick_6\">\r\n     <g id=\"line2d_12\">\r\n      <g>\r\n       <use style=\"stroke:#000000;stroke-width:0.8;\" x=\"30.103125\" xlink:href=\"#m8cf76a976c\" y=\"47.494825\"/>\r\n      </g>\r\n     </g>\r\n     <g id=\"text_12\">\r\n      <!-- 0.6 -->\r\n      <defs>\r\n       <path d=\"M 33.015625 40.375 \r\nQ 26.375 40.375 22.484375 35.828125 \r\nQ 18.609375 31.296875 18.609375 23.390625 \r\nQ 18.609375 15.53125 22.484375 10.953125 \r\nQ 26.375 6.390625 33.015625 6.390625 \r\nQ 39.65625 6.390625 43.53125 10.953125 \r\nQ 47.40625 15.53125 47.40625 23.390625 \r\nQ 47.40625 31.296875 43.53125 35.828125 \r\nQ 39.65625 40.375 33.015625 40.375 \r\nz\r\nM 52.59375 71.296875 \r\nL 52.59375 62.3125 \r\nQ 48.875 64.0625 45.09375 64.984375 \r\nQ 41.3125 65.921875 37.59375 65.921875 \r\nQ 27.828125 65.921875 22.671875 59.328125 \r\nQ 17.53125 52.734375 16.796875 39.40625 \r\nQ 19.671875 43.65625 24.015625 45.921875 \r\nQ 28.375 48.1875 33.59375 48.1875 \r\nQ 44.578125 48.1875 50.953125 41.515625 \r\nQ 57.328125 34.859375 57.328125 23.390625 \r\nQ 57.328125 12.15625 50.6875 5.359375 \r\nQ 44.046875 -1.421875 33.015625 -1.421875 \r\nQ 20.359375 -1.421875 13.671875 8.265625 \r\nQ 6.984375 17.96875 6.984375 36.375 \r\nQ 6.984375 53.65625 15.1875 63.9375 \r\nQ 23.390625 74.21875 37.203125 74.21875 \r\nQ 40.921875 74.21875 44.703125 73.484375 \r\nQ 48.484375 72.75 52.59375 71.296875 \r\nz\r\n\" id=\"DejaVuSans-54\"/>\r\n      </defs>\r\n      <g transform=\"translate(7.2 51.294044)scale(0.1 -0.1)\">\r\n       <use xlink:href=\"#DejaVuSans-48\"/>\r\n       <use x=\"63.623047\" xlink:href=\"#DejaVuSans-46\"/>\r\n       <use x=\"95.410156\" xlink:href=\"#DejaVuSans-54\"/>\r\n      </g>\r\n     </g>\r\n    </g>\r\n    <g id=\"ytick_7\">\r\n     <g id=\"line2d_13\">\r\n      <g>\r\n       <use style=\"stroke:#000000;stroke-width:0.8;\" x=\"30.103125\" xlink:href=\"#m8cf76a976c\" y=\"17.083636\"/>\r\n      </g>\r\n     </g>\r\n     <g id=\"text_13\">\r\n      <!-- 0.7 -->\r\n      <defs>\r\n       <path d=\"M 8.203125 72.90625 \r\nL 55.078125 72.90625 \r\nL 55.078125 68.703125 \r\nL 28.609375 0 \r\nL 18.3125 0 \r\nL 43.21875 64.59375 \r\nL 8.203125 64.59375 \r\nz\r\n\" id=\"DejaVuSans-55\"/>\r\n      </defs>\r\n      <g transform=\"translate(7.2 20.882855)scale(0.1 -0.1)\">\r\n       <use xlink:href=\"#DejaVuSans-48\"/>\r\n       <use x=\"63.623047\" xlink:href=\"#DejaVuSans-46\"/>\r\n       <use x=\"95.410156\" xlink:href=\"#DejaVuSans-55\"/>\r\n      </g>\r\n     </g>\r\n    </g>\r\n   </g>\r\n   <g id=\"line2d_14\">\r\n    <path clip-path=\"url(#p18cd0d13f5)\" d=\"M 45.321307 199.550769 \r\nL 45.443985 199.550769 \r\nL 45.566662 214.756364 \r\nL 45.68934 199.550769 \r\nL 46.180051 199.550769 \r\nL 46.302729 184.345175 \r\nL 46.79344 184.345175 \r\nL 46.916118 169.13958 \r\nL 47.161474 169.13958 \r\nL 47.284152 184.345175 \r\nL 47.40683 184.345175 \r\nL 47.529507 169.13958 \r\nL 48.020219 169.13958 \r\nL 48.142896 184.345175 \r\nL 48.51093 184.345175 \r\nL 48.633608 169.13958 \r\nL 48.756285 184.345175 \r\nL 49.246997 184.345175 \r\nL 49.369674 199.550769 \r\nL 50.71913 199.550769 \r\nL 50.964486 169.13958 \r\nL 51.087164 184.345175 \r\nL 51.209841 169.13958 \r\nL 51.700553 169.13958 \r\nL 51.823231 153.933986 \r\nL 52.191264 153.933986 \r\nL 52.313942 138.728392 \r\nL 52.43662 138.728392 \r\nL 52.559297 123.522797 \r\nL 52.927331 123.522797 \r\nL 53.050009 108.317203 \r\nL 53.172686 108.317203 \r\nL 53.418042 138.728392 \r\nL 53.54072 138.728392 \r\nL 53.663398 153.933986 \r\nL 54.154109 153.933986 \r\nL 54.276787 169.13958 \r\nL 54.522142 169.13958 \r\nL 54.64482 153.933986 \r\nL 55.012853 199.550769 \r\nL 55.626243 199.550769 \r\nL 55.74892 184.345175 \r\nL 55.871598 184.345175 \r\nL 55.994276 169.13958 \r\nL 56.362309 169.13958 \r\nL 56.484987 153.933986 \r\nL 56.607665 153.933986 \r\nL 56.730343 138.728392 \r\nL 56.853021 138.728392 \r\nL 56.975698 123.522797 \r\nL 57.098376 138.728392 \r\nL 57.46641 138.728392 \r\nL 57.711765 108.317203 \r\nL 57.834443 108.317203 \r\nL 57.957121 123.522797 \r\nL 58.325154 123.522797 \r\nL 58.447832 138.728392 \r\nL 58.815865 93.111608 \r\nL 58.938543 108.317203 \r\nL 59.061221 93.111608 \r\nL 59.919966 93.111608 \r\nL 60.165321 123.522797 \r\nL 60.533355 123.522797 \r\nL 60.656033 138.728392 \r\nL 60.77871 138.728392 \r\nL 60.901388 123.522797 \r\nL 61.269422 169.13958 \r\nL 61.392099 169.13958 \r\nL 61.637455 199.550769 \r\nL 61.760133 199.550769 \r\nL 61.882811 214.756364 \r\nL 62.005488 199.550769 \r\nL 62.128166 199.550769 \r\nL 62.373522 169.13958 \r\nL 62.4962 169.13958 \r\nL 62.618877 153.933986 \r\nL 62.741555 153.933986 \r\nL 62.864233 138.728392 \r\nL 62.986911 138.728392 \r\nL 63.109589 123.522797 \r\nL 63.722978 123.522797 \r\nL 64.091011 77.906014 \r\nL 64.581722 77.906014 \r\nL 64.7044 93.111608 \r\nL 64.827078 93.111608 \r\nL 64.949756 77.906014 \r\nL 65.072434 77.906014 \r\nL 65.195111 62.70042 \r\nL 65.685823 62.70042 \r\nL 65.8085 77.906014 \r\nL 66.176534 77.906014 \r\nL 66.421889 108.317203 \r\nL 66.544567 108.317203 \r\nL 66.667245 93.111608 \r\nL 66.912601 93.111608 \r\nL 67.157956 62.70042 \r\nL 67.52599 62.70042 \r\nL 67.648667 77.906014 \r\nL 67.771345 77.906014 \r\nL 67.894023 62.70042 \r\nL 68.016701 62.70042 \r\nL 68.262057 32.289231 \r\nL 68.384734 32.289231 \r\nL 68.507412 17.083636 \r\nL 68.875446 17.083636 \r\nL 69.120801 47.494825 \r\nL 69.243479 32.289231 \r\nL 69.366157 32.289231 \r\nL 69.979546 108.317203 \r\nL 70.347579 108.317203 \r\nL 70.470257 123.522797 \r\nL 70.592935 123.522797 \r\nL 70.715613 138.728392 \r\nL 70.83829 138.728392 \r\nL 70.960968 153.933986 \r\nL 71.083646 153.933986 \r\nL 71.206324 138.728392 \r\nL 71.329002 138.728392 \r\nL 71.451679 123.522797 \r\nL 71.697035 123.522797 \r\nL 71.819713 138.728392 \r\nL 71.942391 138.728392 \r\nL 72.065068 123.522797 \r\nL 72.187746 123.522797 \r\nL 72.55578 77.906014 \r\nL 72.801135 108.317203 \r\nL 73.537202 108.317203 \r\nL 73.65988 123.522797 \r\nL 73.782558 123.522797 \r\nL 73.905236 138.728392 \r\nL 74.027913 123.522797 \r\nL 74.518625 123.522797 \r\nL 74.641302 108.317203 \r\nL 74.76398 123.522797 \r\nL 74.886658 123.522797 \r\nL 75.009336 138.728392 \r\nL 75.254691 108.317203 \r\nL 75.377369 108.317203 \r\nL 75.500047 123.522797 \r\nL 75.622725 108.317203 \r\nL 76.48147 108.317203 \r\nL 76.604147 123.522797 \r\nL 76.726825 108.317203 \r\nL 77.217536 108.317203 \r\nL 77.340214 123.522797 \r\nL 77.462892 123.522797 \r\nL 77.58557 138.728392 \r\nL 77.953603 138.728392 \r\nL 78.076281 153.933986 \r\nL 78.68967 153.933986 \r\nL 78.812348 138.728392 \r\nL 78.935026 153.933986 \r\nL 79.425737 153.933986 \r\nL 79.548415 169.13958 \r\nL 80.039126 108.317203 \r\nL 80.161804 123.522797 \r\nL 80.407159 123.522797 \r\nL 80.529837 108.317203 \r\nL 81.020548 108.317203 \r\nL 81.143226 93.111608 \r\nL 81.265904 93.111608 \r\nL 81.388582 77.906014 \r\nL 81.51126 77.906014 \r\nL 81.633937 93.111608 \r\nL 81.756615 93.111608 \r\nL 81.879293 108.317203 \r\nL 82.001971 108.317203 \r\nL 82.247326 138.728392 \r\nL 82.370004 138.728392 \r\nL 82.492682 153.933986 \r\nL 82.61536 138.728392 \r\nL 82.738038 138.728392 \r\nL 82.860715 123.522797 \r\nL 83.228749 123.522797 \r\nL 83.474104 93.111608 \r\nL 83.842138 138.728392 \r\nL 84.087493 138.728392 \r\nL 84.210171 123.522797 \r\nL 84.455527 123.522797 \r\nL 84.578205 108.317203 \r\nL 84.82356 108.317203 \r\nL 84.946238 93.111608 \r\nL 85.191594 93.111608 \r\nL 85.436949 123.522797 \r\nL 85.682305 93.111608 \r\nL 85.804983 93.111608 \r\nL 85.927661 108.317203 \r\nL 86.173016 108.317203 \r\nL 86.295694 93.111608 \r\nL 86.663727 93.111608 \r\nL 86.786405 77.906014 \r\nL 86.909083 77.906014 \r\nL 87.031761 93.111608 \r\nL 87.154439 93.111608 \r\nL 87.277116 108.317203 \r\nL 87.399794 108.317203 \r\nL 87.522472 123.522797 \r\nL 87.64515 108.317203 \r\nL 87.890505 108.317203 \r\nL 88.258539 153.933986 \r\nL 88.626572 153.933986 \r\nL 88.74925 169.13958 \r\nL 88.871928 153.933986 \r\nL 88.994606 153.933986 \r\nL 89.239961 184.345175 \r\nL 89.362639 184.345175 \r\nL 89.485317 169.13958 \r\nL 89.607995 169.13958 \r\nL 89.730673 153.933986 \r\nL 89.85335 169.13958 \r\nL 90.957451 169.13958 \r\nL 91.202806 138.728392 \r\nL 92.061551 138.728392 \r\nL 92.184229 153.933986 \r\nL 92.429584 153.933986 \r\nL 92.552262 169.13958 \r\nL 92.67494 169.13958 \r\nL 92.797618 153.933986 \r\nL 93.165651 153.933986 \r\nL 93.288329 138.728392 \r\nL 93.411007 138.728392 \r\nL 93.656362 169.13958 \r\nL 94.269751 169.13958 \r\nL 94.392429 184.345175 \r\nL 94.515107 184.345175 \r\nL 94.760463 153.933986 \r\nL 94.88314 153.933986 \r\nL 95.128496 123.522797 \r\nL 95.619207 123.522797 \r\nL 95.741885 138.728392 \r\nL 95.864563 138.728392 \r\nL 95.987241 123.522797 \r\nL 96.232596 123.522797 \r\nL 96.355274 108.317203 \r\nL 96.968663 108.317203 \r\nL 97.214019 138.728392 \r\nL 97.336697 138.728392 \r\nL 97.459374 153.933986 \r\nL 97.582052 153.933986 \r\nL 97.70473 169.13958 \r\nL 98.072763 169.13958 \r\nL 98.318119 138.728392 \r\nL 98.563475 138.728392 \r\nL 98.80883 169.13958 \r\nL 99.054186 169.13958 \r\nL 99.176864 153.933986 \r\nL 99.422219 153.933986 \r\nL 99.544897 138.728392 \r\nL 99.667575 138.728392 \r\nL 99.91293 108.317203 \r\nL 100.035608 123.522797 \r\nL 100.158286 123.522797 \r\nL 100.280964 108.317203 \r\nL 100.403642 108.317203 \r\nL 100.526319 93.111608 \r\nL 100.894353 93.111608 \r\nL 101.017031 77.906014 \r\nL 101.139708 77.906014 \r\nL 101.262386 62.70042 \r\nL 101.507742 62.70042 \r\nL 101.63042 77.906014 \r\nL 101.875775 77.906014 \r\nL 101.998453 93.111608 \r\nL 102.121131 77.906014 \r\nL 102.366487 108.317203 \r\nL 102.611842 108.317203 \r\nL 102.73452 123.522797 \r\nL 102.979876 123.522797 \r\nL 103.102553 138.728392 \r\nL 103.347909 138.728392 \r\nL 103.470587 153.933986 \r\nL 103.593265 153.933986 \r\nL 103.715942 169.13958 \r\nL 103.83862 169.13958 \r\nL 103.961298 153.933986 \r\nL 104.329331 153.933986 \r\nL 104.452009 138.728392 \r\nL 105.310754 138.728392 \r\nL 105.433432 153.933986 \r\nL 105.55611 153.933986 \r\nL 105.801465 184.345175 \r\nL 106.169499 138.728392 \r\nL 106.292176 138.728392 \r\nL 106.414854 153.933986 \r\nL 106.537532 153.933986 \r\nL 106.66021 138.728392 \r\nL 106.782888 138.728392 \r\nL 107.028243 169.13958 \r\nL 108.132343 169.13958 \r\nL 108.255021 153.933986 \r\nL 108.377699 169.13958 \r\nL 108.500377 169.13958 \r\nL 108.623055 184.345175 \r\nL 108.745732 184.345175 \r\nL 108.991088 153.933986 \r\nL 109.113766 153.933986 \r\nL 109.604477 93.111608 \r\nL 109.972511 93.111608 \r\nL 110.217866 62.70042 \r\nL 110.463222 62.70042 \r\nL 110.5859 47.494825 \r\nL 110.708577 62.70042 \r\nL 110.953933 62.70042 \r\nL 111.076611 47.494825 \r\nL 111.567322 47.494825 \r\nL 111.812678 77.906014 \r\nL 112.303389 77.906014 \r\nL 112.426067 62.70042 \r\nL 112.671422 62.70042 \r\nL 112.916778 32.289231 \r\nL 113.039456 47.494825 \r\nL 113.162133 32.289231 \r\nL 113.652845 32.289231 \r\nL 113.8982 62.70042 \r\nL 114.143556 62.70042 \r\nL 114.266234 47.494825 \r\nL 114.511589 77.906014 \r\nL 114.879623 77.906014 \r\nL 115.370334 138.728392 \r\nL 115.61569 138.728392 \r\nL 115.738367 123.522797 \r\nL 115.861045 123.522797 \r\nL 115.983723 138.728392 \r\nL 116.229079 138.728392 \r\nL 116.351756 123.522797 \r\nL 116.474434 123.522797 \r\nL 116.597112 108.317203 \r\nL 116.71979 123.522797 \r\nL 116.842468 108.317203 \r\nL 117.087823 108.317203 \r\nL 117.210501 93.111608 \r\nL 117.578534 93.111608 \r\nL 117.946568 47.494825 \r\nL 118.069246 62.70042 \r\nL 118.191924 62.70042 \r\nL 118.314601 77.906014 \r\nL 118.437279 77.906014 \r\nL 118.682635 47.494825 \r\nL 118.805313 47.494825 \r\nL 119.050668 77.906014 \r\nL 119.664057 77.906014 \r\nL 119.786735 93.111608 \r\nL 120.277446 93.111608 \r\nL 120.400124 108.317203 \r\nL 120.64548 108.317203 \r\nL 120.768157 93.111608 \r\nL 120.890835 93.111608 \r\nL 121.136191 123.522797 \r\nL 121.258869 123.522797 \r\nL 121.381546 108.317203 \r\nL 121.626902 108.317203 \r\nL 121.74958 123.522797 \r\nL 122.117613 123.522797 \r\nL 122.240291 108.317203 \r\nL 122.485647 108.317203 \r\nL 122.731002 138.728392 \r\nL 122.85368 123.522797 \r\nL 123.344391 123.522797 \r\nL 123.467069 108.317203 \r\nL 123.835103 108.317203 \r\nL 123.95778 93.111608 \r\nL 124.080458 93.111608 \r\nL 124.203136 77.906014 \r\nL 124.325814 77.906014 \r\nL 124.448492 62.70042 \r\nL 125.061881 62.70042 \r\nL 125.184558 47.494825 \r\nL 125.307236 62.70042 \r\nL 125.552592 62.70042 \r\nL 125.67527 77.906014 \r\nL 125.797947 62.70042 \r\nL 125.920625 77.906014 \r\nL 126.043303 62.70042 \r\nL 126.165981 62.70042 \r\nL 126.288659 77.906014 \r\nL 126.411336 77.906014 \r\nL 126.534014 62.70042 \r\nL 126.656692 77.906014 \r\nL 126.77937 62.70042 \r\nL 127.147403 108.317203 \r\nL 127.270081 93.111608 \r\nL 127.515437 93.111608 \r\nL 127.638115 108.317203 \r\nL 127.760792 93.111608 \r\nL 127.88347 93.111608 \r\nL 128.006148 108.317203 \r\nL 128.128826 108.317203 \r\nL 128.251504 123.522797 \r\nL 128.374181 108.317203 \r\nL 128.864893 108.317203 \r\nL 128.98757 123.522797 \r\nL 129.110248 108.317203 \r\nL 129.232926 123.522797 \r\nL 129.355604 108.317203 \r\nL 129.478282 108.317203 \r\nL 129.600959 93.111608 \r\nL 129.723637 108.317203 \r\nL 129.846315 93.111608 \r\nL 130.091671 93.111608 \r\nL 130.214348 108.317203 \r\nL 130.459704 108.317203 \r\nL 130.70506 77.906014 \r\nL 131.073093 123.522797 \r\nL 131.195771 123.522797 \r\nL 131.318449 138.728392 \r\nL 131.441127 123.522797 \r\nL 131.563804 138.728392 \r\nL 131.686482 123.522797 \r\nL 131.80916 138.728392 \r\nL 131.931838 138.728392 \r\nL 132.054516 153.933986 \r\nL 132.667905 153.933986 \r\nL 132.790582 138.728392 \r\nL 132.91326 138.728392 \r\nL 133.158616 169.13958 \r\nL 133.281294 169.13958 \r\nL 133.403971 153.933986 \r\nL 133.526649 153.933986 \r\nL 133.772005 123.522797 \r\nL 133.894683 138.728392 \r\nL 134.01736 138.728392 \r\nL 134.140038 153.933986 \r\nL 134.385394 153.933986 \r\nL 134.630749 123.522797 \r\nL 134.753427 138.728392 \r\nL 134.876105 123.522797 \r\nL 135.121461 123.522797 \r\nL 135.244139 138.728392 \r\nL 135.366816 138.728392 \r\nL 135.489494 123.522797 \r\nL 135.612172 123.522797 \r\nL 135.73485 108.317203 \r\nL 135.857528 123.522797 \r\nL 136.348239 123.522797 \r\nL 136.470917 108.317203 \r\nL 136.593594 108.317203 \r\nL 136.83895 77.906014 \r\nL 137.084306 108.317203 \r\nL 137.206983 108.317203 \r\nL 137.329661 123.522797 \r\nL 137.575017 123.522797 \r\nL 137.697695 108.317203 \r\nL 137.820372 108.317203 \r\nL 137.94305 123.522797 \r\nL 138.188406 123.522797 \r\nL 138.311084 108.317203 \r\nL 138.433761 108.317203 \r\nL 138.556439 123.522797 \r\nL 139.047151 123.522797 \r\nL 139.292506 153.933986 \r\nL 139.537862 153.933986 \r\nL 140.028573 93.111608 \r\nL 140.151251 108.317203 \r\nL 140.396606 108.317203 \r\nL 140.519284 93.111608 \r\nL 140.641962 108.317203 \r\nL 140.76464 108.317203 \r\nL 140.887318 93.111608 \r\nL 141.132673 93.111608 \r\nL 141.255351 77.906014 \r\nL 141.378029 93.111608 \r\nL 141.500707 93.111608 \r\nL 141.746062 62.70042 \r\nL 141.86874 62.70042 \r\nL 141.991418 47.494825 \r\nL 142.114096 62.70042 \r\nL 142.236773 62.70042 \r\nL 142.359451 77.906014 \r\nL 142.727485 77.906014 \r\nL 142.850162 62.70042 \r\nL 142.97284 77.906014 \r\nL 143.095518 77.906014 \r\nL 143.218196 93.111608 \r\nL 143.463552 93.111608 \r\nL 143.708907 123.522797 \r\nL 143.831585 108.317203 \r\nL 144.076941 108.317203 \r\nL 144.199618 123.522797 \r\nL 144.322296 123.522797 \r\nL 144.444974 138.728392 \r\nL 144.567652 138.728392 \r\nL 144.69033 153.933986 \r\nL 144.813007 138.728392 \r\nL 144.935685 153.933986 \r\nL 145.426396 153.933986 \r\nL 145.671752 123.522797 \r\nL 146.039785 123.522797 \r\nL 146.162463 108.317203 \r\nL 147.021208 108.317203 \r\nL 147.143886 93.111608 \r\nL 147.879953 93.111608 \r\nL 148.247986 138.728392 \r\nL 148.370664 123.522797 \r\nL 148.493342 123.522797 \r\nL 148.738697 153.933986 \r\nL 148.861375 153.933986 \r\nL 148.984053 169.13958 \r\nL 149.352086 169.13958 \r\nL 149.474764 153.933986 \r\nL 149.597442 153.933986 \r\nL 149.72012 169.13958 \r\nL 149.842797 153.933986 \r\nL 150.088153 153.933986 \r\nL 150.210831 169.13958 \r\nL 150.333509 169.13958 \r\nL 150.456186 153.933986 \r\nL 150.82422 153.933986 \r\nL 150.946898 138.728392 \r\nL 151.069575 138.728392 \r\nL 151.192253 123.522797 \r\nL 151.805642 123.522797 \r\nL 152.050998 153.933986 \r\nL 152.664387 153.933986 \r\nL 152.787065 138.728392 \r\nL 152.909743 138.728392 \r\nL 153.155098 108.317203 \r\nL 153.400454 138.728392 \r\nL 153.523132 123.522797 \r\nL 153.645809 138.728392 \r\nL 154.136521 138.728392 \r\nL 154.259198 123.522797 \r\nL 154.381876 123.522797 \r\nL 154.504554 108.317203 \r\nL 154.627232 108.317203 \r\nL 154.74991 123.522797 \r\nL 154.995265 123.522797 \r\nL 155.117943 108.317203 \r\nL 155.240621 108.317203 \r\nL 155.485976 138.728392 \r\nL 155.608654 138.728392 \r\nL 155.85401 108.317203 \r\nL 156.222043 108.317203 \r\nL 156.590077 62.70042 \r\nL 156.712755 77.906014 \r\nL 156.835432 62.70042 \r\nL 156.95811 77.906014 \r\nL 157.080788 62.70042 \r\nL 157.448821 62.70042 \r\nL 157.694177 93.111608 \r\nL 158.184888 93.111608 \r\nL 158.307566 108.317203 \r\nL 158.430244 108.317203 \r\nL 158.675599 77.906014 \r\nL 158.798277 77.906014 \r\nL 159.043633 108.317203 \r\nL 159.166311 108.317203 \r\nL 159.288988 123.522797 \r\nL 159.411666 108.317203 \r\nL 159.534344 123.522797 \r\nL 159.7797 93.111608 \r\nL 159.902378 93.111608 \r\nL 160.025055 77.906014 \r\nL 160.147733 77.906014 \r\nL 160.270411 62.70042 \r\nL 160.393089 62.70042 \r\nL 160.638444 93.111608 \r\nL 160.761122 93.111608 \r\nL 160.8838 108.317203 \r\nL 161.006478 108.317203 \r\nL 161.251833 138.728392 \r\nL 161.374511 138.728392 \r\nL 161.497189 123.522797 \r\nL 161.619867 123.522797 \r\nL 161.742545 108.317203 \r\nL 161.865222 123.522797 \r\nL 161.9879 123.522797 \r\nL 162.233256 153.933986 \r\nL 162.846645 153.933986 \r\nL 162.969323 138.728392 \r\nL 163.214678 138.728392 \r\nL 163.337356 123.522797 \r\nL 163.460034 138.728392 \r\nL 163.582712 138.728392 \r\nL 163.705389 123.522797 \r\nL 164.196101 123.522797 \r\nL 164.441456 93.111608 \r\nL 164.564134 93.111608 \r\nL 164.80949 62.70042 \r\nL 164.932168 77.906014 \r\nL 165.054845 62.70042 \r\nL 165.177523 77.906014 \r\nL 165.300201 77.906014 \r\nL 165.422879 93.111608 \r\nL 165.545557 77.906014 \r\nL 166.158946 77.906014 \r\nL 166.281623 62.70042 \r\nL 166.404301 77.906014 \r\nL 166.526979 77.906014 \r\nL 166.895012 123.522797 \r\nL 167.01769 123.522797 \r\nL 167.263046 153.933986 \r\nL 167.753757 153.933986 \r\nL 167.876435 138.728392 \r\nL 167.999113 138.728392 \r\nL 168.12179 123.522797 \r\nL 168.244468 138.728392 \r\nL 168.367146 138.728392 \r\nL 168.489824 123.522797 \r\nL 168.73518 153.933986 \r\nL 169.103213 108.317203 \r\nL 169.348569 108.317203 \r\nL 169.471246 93.111608 \r\nL 169.83928 93.111608 \r\nL 169.961958 108.317203 \r\nL 170.084635 108.317203 \r\nL 170.207313 93.111608 \r\nL 170.329991 108.317203 \r\nL 170.820702 108.317203 \r\nL 170.94338 123.522797 \r\nL 171.066058 123.522797 \r\nL 171.188736 108.317203 \r\nL 171.556769 108.317203 \r\nL 171.802125 77.906014 \r\nL 171.924802 93.111608 \r\nL 172.170158 62.70042 \r\nL 172.415514 62.70042 \r\nL 172.538192 47.494825 \r\nL 172.660869 62.70042 \r\nL 172.783547 62.70042 \r\nL 173.028903 93.111608 \r\nL 173.151581 93.111608 \r\nL 173.274258 77.906014 \r\nL 173.519614 77.906014 \r\nL 173.76497 108.317203 \r\nL 173.887647 108.317203 \r\nL 174.255681 153.933986 \r\nL 174.378359 138.728392 \r\nL 174.623714 169.13958 \r\nL 174.86907 169.13958 \r\nL 174.991748 184.345175 \r\nL 175.114425 169.13958 \r\nL 175.237103 169.13958 \r\nL 175.359781 153.933986 \r\nL 176.218526 153.933986 \r\nL 176.341203 169.13958 \r\nL 176.586559 169.13958 \r\nL 176.709237 153.933986 \r\nL 176.831915 153.933986 \r\nL 176.954593 138.728392 \r\nL 177.690659 138.728392 \r\nL 177.813337 153.933986 \r\nL 178.058693 123.522797 \r\nL 178.304048 123.522797 \r\nL 178.426726 108.317203 \r\nL 178.549404 108.317203 \r\nL 178.672082 93.111608 \r\nL 178.917437 93.111608 \r\nL 179.040115 77.906014 \r\nL 179.162793 93.111608 \r\nL 179.530826 93.111608 \r\nL 179.89886 47.494825 \r\nL 180.021538 62.70042 \r\nL 180.144215 62.70042 \r\nL 180.266893 47.494825 \r\nL 180.389571 47.494825 \r\nL 180.512249 62.70042 \r\nL 180.634927 62.70042 \r\nL 180.757604 47.494825 \r\nL 181.616349 47.494825 \r\nL 181.739027 62.70042 \r\nL 181.984383 62.70042 \r\nL 182.229738 93.111608 \r\nL 182.720449 93.111608 \r\nL 182.843127 108.317203 \r\nL 182.965805 108.317203 \r\nL 183.333838 153.933986 \r\nL 183.456516 153.933986 \r\nL 183.579194 169.13958 \r\nL 183.82455 169.13958 \r\nL 183.947227 184.345175 \r\nL 184.069905 184.345175 \r\nL 184.192583 169.13958 \r\nL 184.315261 184.345175 \r\nL 184.437939 169.13958 \r\nL 184.805972 169.13958 \r\nL 184.92865 153.933986 \r\nL 185.051328 153.933986 \r\nL 185.174006 169.13958 \r\nL 185.419361 169.13958 \r\nL 185.664717 138.728392 \r\nL 185.910072 138.728392 \r\nL 186.155428 108.317203 \r\nL 186.278106 108.317203 \r\nL 186.400784 93.111608 \r\nL 186.523461 93.111608 \r\nL 186.646139 108.317203 \r\nL 186.768817 93.111608 \r\nL 187.13685 93.111608 \r\nL 187.382206 123.522797 \r\nL 187.750239 123.522797 \r\nL 187.872917 108.317203 \r\nL 188.118273 138.728392 \r\nL 188.363628 108.317203 \r\nL 188.486306 123.522797 \r\nL 188.608984 123.522797 \r\nL 188.731662 108.317203 \r\nL 188.85434 123.522797 \r\nL 188.977017 108.317203 \r\nL 189.099695 108.317203 \r\nL 189.345051 138.728392 \r\nL 189.467729 123.522797 \r\nL 189.713084 123.522797 \r\nL 189.95844 93.111608 \r\nL 190.081118 93.111608 \r\nL 190.203796 77.906014 \r\nL 190.571829 77.906014 \r\nL 190.694507 93.111608 \r\nL 190.939862 93.111608 \r\nL 191.06254 108.317203 \r\nL 191.185218 108.317203 \r\nL 191.307896 93.111608 \r\nL 191.430574 108.317203 \r\nL 191.675929 77.906014 \r\nL 192.16664 77.906014 \r\nL 192.289318 93.111608 \r\nL 192.534674 93.111608 \r\nL 192.657352 108.317203 \r\nL 192.902707 108.317203 \r\nL 193.025385 93.111608 \r\nL 193.148063 93.111608 \r\nL 193.270741 108.317203 \r\nL 193.516096 108.317203 \r\nL 193.638774 123.522797 \r\nL 193.761452 123.522797 \r\nL 193.88413 108.317203 \r\nL 194.006808 108.317203 \r\nL 194.129485 123.522797 \r\nL 194.252163 108.317203 \r\nL 194.374841 123.522797 \r\nL 194.865552 123.522797 \r\nL 195.110908 93.111608 \r\nL 195.233586 108.317203 \r\nL 195.356263 93.111608 \r\nL 195.478941 108.317203 \r\nL 196.09233 108.317203 \r\nL 196.460364 153.933986 \r\nL 196.705719 153.933986 \r\nL 197.073753 108.317203 \r\nL 197.441786 108.317203 \r\nL 197.564464 123.522797 \r\nL 197.687142 108.317203 \r\nL 197.80982 123.522797 \r\nL 198.300531 123.522797 \r\nL 198.423209 108.317203 \r\nL 198.545886 108.317203 \r\nL 198.668564 93.111608 \r\nL 199.036598 93.111608 \r\nL 199.159275 108.317203 \r\nL 199.404631 108.317203 \r\nL 199.527309 123.522797 \r\nL 199.649987 108.317203 \r\nL 199.895342 138.728392 \r\nL 200.631409 138.728392 \r\nL 200.754087 123.522797 \r\nL 200.876765 138.728392 \r\nL 200.999442 138.728392 \r\nL 201.12212 153.933986 \r\nL 201.735509 153.933986 \r\nL 201.858187 169.13958 \r\nL 203.575676 169.13958 \r\nL 203.698354 153.933986 \r\nL 203.94371 153.933986 \r\nL 204.066388 138.728392 \r\nL 204.189065 153.933986 \r\nL 204.557099 153.933986 \r\nL 204.679777 138.728392 \r\nL 204.802454 138.728392 \r\nL 204.925132 123.522797 \r\nL 205.170488 123.522797 \r\nL 205.293166 108.317203 \r\nL 205.415843 108.317203 \r\nL 205.538521 93.111608 \r\nL 205.661199 108.317203 \r\nL 205.783877 108.317203 \r\nL 206.029233 77.906014 \r\nL 206.397266 77.906014 \r\nL 206.519944 93.111608 \r\nL 206.642622 77.906014 \r\nL 206.765299 77.906014 \r\nL 206.887977 62.70042 \r\nL 207.133333 93.111608 \r\nL 207.256011 77.906014 \r\nL 207.378688 93.111608 \r\nL 207.746722 93.111608 \r\nL 207.8694 77.906014 \r\nL 207.992077 93.111608 \r\nL 208.237433 93.111608 \r\nL 208.482789 123.522797 \r\nL 208.850822 123.522797 \r\nL 208.9735 108.317203 \r\nL 209.096178 123.522797 \r\nL 209.218855 123.522797 \r\nL 209.341533 138.728392 \r\nL 209.464211 123.522797 \r\nL 209.586889 123.522797 \r\nL 209.709567 138.728392 \r\nL 209.832244 123.522797 \r\nL 209.954922 138.728392 \r\nL 210.0776 123.522797 \r\nL 210.322956 153.933986 \r\nL 210.445634 153.933986 \r\nL 210.568311 138.728392 \r\nL 210.813667 138.728392 \r\nL 210.936345 123.522797 \r\nL 211.059023 138.728392 \r\nL 211.1817 138.728392 \r\nL 211.304378 123.522797 \r\nL 211.427056 138.728392 \r\nL 211.672412 138.728392 \r\nL 211.795089 123.522797 \r\nL 211.917767 123.522797 \r\nL 212.163123 93.111608 \r\nL 212.89919 93.111608 \r\nL 213.021867 108.317203 \r\nL 213.389901 108.317203 \r\nL 213.635256 77.906014 \r\nL 213.757934 93.111608 \r\nL 214.248646 93.111608 \r\nL 214.494001 123.522797 \r\nL 214.862035 123.522797 \r\nL 214.984712 138.728392 \r\nL 215.10739 138.728392 \r\nL 215.475424 93.111608 \r\nL 215.843457 93.111608 \r\nL 216.088813 123.522797 \r\nL 216.334168 123.522797 \r\nL 216.456846 108.317203 \r\nL 216.579524 108.317203 \r\nL 216.702202 123.522797 \r\nL 216.824879 123.522797 \r\nL 216.947557 108.317203 \r\nL 217.070235 123.522797 \r\nL 217.192913 123.522797 \r\nL 217.315591 108.317203 \r\nL 217.438268 108.317203 \r\nL 217.560946 93.111608 \r\nL 217.683624 93.111608 \r\nL 217.806302 108.317203 \r\nL 218.174335 108.317203 \r\nL 218.297013 123.522797 \r\nL 218.419691 123.522797 \r\nL 218.665047 93.111608 \r\nL 218.787724 93.111608 \r\nL 218.910402 108.317203 \r\nL 219.401113 108.317203 \r\nL 219.523791 93.111608 \r\nL 219.769147 123.522797 \r\nL 220.014502 123.522797 \r\nL 220.13718 138.728392 \r\nL 220.382536 138.728392 \r\nL 220.505214 123.522797 \r\nL 220.995925 123.522797 \r\nL 221.118603 138.728392 \r\nL 222.100025 138.728392 \r\nL 222.222703 123.522797 \r\nL 222.345381 123.522797 \r\nL 222.468058 138.728392 \r\nL 222.713414 138.728392 \r\nL 222.836092 153.933986 \r\nL 222.95877 153.933986 \r\nL 223.326803 108.317203 \r\nL 223.449481 123.522797 \r\nL 223.694837 123.522797 \r\nL 223.940192 93.111608 \r\nL 224.06287 93.111608 \r\nL 224.185548 77.906014 \r\nL 224.553581 77.906014 \r\nL 224.676259 93.111608 \r\nL 224.921615 93.111608 \r\nL 225.044292 77.906014 \r\nL 225.16697 77.906014 \r\nL 225.289648 62.70042 \r\nL 225.412326 77.906014 \r\nL 225.535004 77.906014 \r\nL 225.657681 93.111608 \r\nL 226.148393 93.111608 \r\nL 226.393748 123.522797 \r\nL 226.516426 108.317203 \r\nL 226.88446 153.933986 \r\nL 227.007137 138.728392 \r\nL 227.98856 138.728392 \r\nL 228.111238 123.522797 \r\nL 228.233915 138.728392 \r\nL 228.847304 138.728392 \r\nL 228.969982 153.933986 \r\nL 229.09266 153.933986 \r\nL 229.215338 138.728392 \r\nL 230.074082 138.728392 \r\nL 230.19676 153.933986 \r\nL 230.319438 153.933986 \r\nL 230.564794 184.345175 \r\nL 230.687471 184.345175 \r\nL 230.810149 169.13958 \r\nL 230.932827 169.13958 \r\nL 231.178183 138.728392 \r\nL 231.423538 138.728392 \r\nL 231.546216 123.522797 \r\nL 231.668894 138.728392 \r\nL 231.791572 123.522797 \r\nL 231.91425 138.728392 \r\nL 232.036927 138.728392 \r\nL 232.159605 123.522797 \r\nL 232.282283 123.522797 \r\nL 232.404961 138.728392 \r\nL 232.772994 138.728392 \r\nL 232.895672 123.522797 \r\nL 233.141028 123.522797 \r\nL 233.263705 138.728392 \r\nL 233.386383 138.728392 \r\nL 233.509061 153.933986 \r\nL 233.877094 153.933986 \r\nL 233.999772 169.13958 \r\nL 234.12245 169.13958 \r\nL 234.245128 184.345175 \r\nL 234.613161 184.345175 \r\nL 234.981195 138.728392 \r\nL 235.103872 138.728392 \r\nL 235.22655 123.522797 \r\nL 235.349228 123.522797 \r\nL 235.471906 108.317203 \r\nL 235.839939 108.317203 \r\nL 235.962617 93.111608 \r\nL 236.085295 108.317203 \r\nL 236.453328 108.317203 \r\nL 236.576006 93.111608 \r\nL 236.94404 93.111608 \r\nL 237.189395 123.522797 \r\nL 237.680106 123.522797 \r\nL 237.802784 138.728392 \r\nL 238.293495 138.728392 \r\nL 238.416173 153.933986 \r\nL 238.661529 153.933986 \r\nL 238.784207 138.728392 \r\nL 238.906884 138.728392 \r\nL 239.029562 153.933986 \r\nL 239.520274 153.933986 \r\nL 239.642951 138.728392 \r\nL 239.888307 169.13958 \r\nL 240.133663 169.13958 \r\nL 240.25634 153.933986 \r\nL 240.379018 169.13958 \r\nL 240.624374 169.13958 \r\nL 240.869729 138.728392 \r\nL 241.115085 138.728392 \r\nL 241.237763 153.933986 \r\nL 241.483118 153.933986 \r\nL 241.605796 138.728392 \r\nL 242.096507 138.728392 \r\nL 242.341863 108.317203 \r\nL 242.464541 108.317203 \r\nL 242.709896 138.728392 \r\nL 243.07793 93.111608 \r\nL 243.323285 123.522797 \r\nL 243.691319 123.522797 \r\nL 243.813997 108.317203 \r\nL 243.936675 108.317203 \r\nL 244.059352 123.522797 \r\nL 244.304708 123.522797 \r\nL 244.427386 108.317203 \r\nL 244.795419 153.933986 \r\nL 244.918097 153.933986 \r\nL 245.163453 123.522797 \r\nL 245.28613 138.728392 \r\nL 245.408808 138.728392 \r\nL 245.531486 153.933986 \r\nL 245.776842 153.933986 \r\nL 246.144875 108.317203 \r\nL 246.267553 123.522797 \r\nL 246.390231 108.317203 \r\nL 246.512908 108.317203 \r\nL 246.758264 77.906014 \r\nL 247.126297 77.906014 \r\nL 247.248975 62.70042 \r\nL 247.371653 62.70042 \r\nL 247.494331 77.906014 \r\nL 247.862364 77.906014 \r\nL 247.985042 62.70042 \r\nL 248.475753 62.70042 \r\nL 248.598431 77.906014 \r\nL 248.721109 77.906014 \r\nL 248.843787 93.111608 \r\nL 248.966465 77.906014 \r\nL 249.334498 123.522797 \r\nL 249.457176 123.522797 \r\nL 249.579854 108.317203 \r\nL 249.702531 123.522797 \r\nL 249.825209 108.317203 \r\nL 250.193243 108.317203 \r\nL 250.31592 123.522797 \r\nL 250.806632 123.522797 \r\nL 250.929309 138.728392 \r\nL 251.174665 138.728392 \r\nL 251.297343 123.522797 \r\nL 251.420021 138.728392 \r\nL 251.542698 123.522797 \r\nL 251.665376 123.522797 \r\nL 251.788054 108.317203 \r\nL 251.910732 108.317203 \r\nL 252.03341 123.522797 \r\nL 252.156088 108.317203 \r\nL 252.278765 108.317203 \r\nL 252.401443 93.111608 \r\nL 252.524121 93.111608 \r\nL 252.646799 77.906014 \r\nL 253.014832 77.906014 \r\nL 253.13751 62.70042 \r\nL 253.382866 62.70042 \r\nL 253.628221 32.289231 \r\nL 253.750899 47.494825 \r\nL 253.873577 47.494825 \r\nL 253.996255 62.70042 \r\nL 254.118932 62.70042 \r\nL 254.24161 77.906014 \r\nL 254.609644 77.906014 \r\nL 254.977677 123.522797 \r\nL 255.223033 123.522797 \r\nL 255.34571 138.728392 \r\nL 255.468388 138.728392 \r\nL 255.591066 153.933986 \r\nL 255.836422 153.933986 \r\nL 256.081777 184.345175 \r\nL 256.327133 184.345175 \r\nL 256.449811 169.13958 \r\nL 257.431233 169.13958 \r\nL 257.553911 184.345175 \r\nL 257.799267 153.933986 \r\nL 257.921944 153.933986 \r\nL 258.044622 138.728392 \r\nL 258.1673 153.933986 \r\nL 258.289978 153.933986 \r\nL 258.535333 123.522797 \r\nL 258.780689 123.522797 \r\nL 258.903367 138.728392 \r\nL 259.026045 123.522797 \r\nL 259.2714 123.522797 \r\nL 259.394078 108.317203 \r\nL 259.516756 123.522797 \r\nL 259.639434 108.317203 \r\nL 259.762111 108.317203 \r\nL 259.884789 93.111608 \r\nL 260.743534 93.111608 \r\nL 260.866212 108.317203 \r\nL 261.356923 108.317203 \r\nL 261.479601 123.522797 \r\nL 261.724956 123.522797 \r\nL 261.847634 138.728392 \r\nL 261.970312 138.728392 \r\nL 262.09299 153.933986 \r\nL 262.215668 138.728392 \r\nL 262.583701 138.728392 \r\nL 262.706379 153.933986 \r\nL 262.829057 153.933986 \r\nL 262.951734 169.13958 \r\nL 263.074412 169.13958 \r\nL 263.319768 138.728392 \r\nL 263.442446 138.728392 \r\nL 263.565123 123.522797 \r\nL 264.30119 123.522797 \r\nL 264.423868 108.317203 \r\nL 264.791902 108.317203 \r\nL 264.914579 93.111608 \r\nL 265.037257 108.317203 \r\nL 265.527968 108.317203 \r\nL 266.01868 169.13958 \r\nL 266.264035 169.13958 \r\nL 266.509391 138.728392 \r\nL 266.754746 138.728392 \r\nL 266.877424 153.933986 \r\nL 267.000102 153.933986 \r\nL 267.245458 184.345175 \r\nL 267.490813 184.345175 \r\nL 267.736169 153.933986 \r\nL 267.981524 153.933986 \r\nL 268.104202 138.728392 \r\nL 268.22688 138.728392 \r\nL 268.594914 93.111608 \r\nL 268.717591 93.111608 \r\nL 268.840269 108.317203 \r\nL 269.208303 108.317203 \r\nL 269.33098 93.111608 \r\nL 269.576336 93.111608 \r\nL 269.699014 77.906014 \r\nL 270.067047 77.906014 \r\nL 270.189725 93.111608 \r\nL 270.435081 62.70042 \r\nL 270.925792 62.70042 \r\nL 271.04847 77.906014 \r\nL 271.171147 77.906014 \r\nL 271.293825 62.70042 \r\nL 271.416503 77.906014 \r\nL 271.661859 77.906014 \r\nL 271.784536 93.111608 \r\nL 272.029892 93.111608 \r\nL 272.15257 108.317203 \r\nL 272.397925 108.317203 \r\nL 272.520603 123.522797 \r\nL 272.643281 123.522797 \r\nL 272.765959 138.728392 \r\nL 272.888637 138.728392 \r\nL 273.011315 153.933986 \r\nL 273.502026 153.933986 \r\nL 273.624704 138.728392 \r\nL 273.747381 153.933986 \r\nL 274.238093 153.933986 \r\nL 274.606126 108.317203 \r\nL 274.728804 123.522797 \r\nL 274.851482 108.317203 \r\nL 275.096837 108.317203 \r\nL 275.219515 93.111608 \r\nL 275.342193 108.317203 \r\nL 275.464871 108.317203 \r\nL 275.587548 93.111608 \r\nL 275.832904 123.522797 \r\nL 275.955582 123.522797 \r\nL 276.07826 138.728392 \r\nL 276.200937 123.522797 \r\nL 276.323615 123.522797 \r\nL 276.446293 108.317203 \r\nL 277.18236 108.317203 \r\nL 277.305038 123.522797 \r\nL 277.550393 93.111608 \r\nL 277.673071 108.317203 \r\nL 277.918427 108.317203 \r\nL 278.041105 123.522797 \r\nL 278.28646 93.111608 \r\nL 278.531816 93.111608 \r\nL 278.654494 108.317203 \r\nL 278.777171 93.111608 \r\nL 278.899849 108.317203 \r\nL 279.145205 108.317203 \r\nL 279.513238 153.933986 \r\nL 279.635916 153.933986 \r\nL 279.758594 138.728392 \r\nL 280.003949 169.13958 \r\nL 280.617338 169.13958 \r\nL 280.740016 184.345175 \r\nL 281.10805 184.345175 \r\nL 281.230728 199.550769 \r\nL 281.353405 184.345175 \r\nL 281.476083 184.345175 \r\nL 281.598761 169.13958 \r\nL 281.721439 169.13958 \r\nL 281.844117 153.933986 \r\nL 282.089472 153.933986 \r\nL 282.21215 169.13958 \r\nL 282.334828 153.933986 \r\nL 282.580183 153.933986 \r\nL 282.702861 138.728392 \r\nL 282.948217 138.728392 \r\nL 283.070895 153.933986 \r\nL 283.31625 123.522797 \r\nL 283.438928 123.522797 \r\nL 283.561606 108.317203 \r\nL 283.684284 108.317203 \r\nL 283.806961 123.522797 \r\nL 283.929639 108.317203 \r\nL 284.543028 108.317203 \r\nL 284.665706 93.111608 \r\nL 284.788384 108.317203 \r\nL 284.911062 93.111608 \r\nL 285.279095 93.111608 \r\nL 285.401773 77.906014 \r\nL 285.524451 77.906014 \r\nL 285.769806 108.317203 \r\nL 285.892484 93.111608 \r\nL 286.015162 108.317203 \r\nL 286.260518 77.906014 \r\nL 286.628551 77.906014 \r\nL 286.751229 93.111608 \r\nL 286.996584 93.111608 \r\nL 287.119262 108.317203 \r\nL 287.24194 108.317203 \r\nL 287.364618 123.522797 \r\nL 287.487296 108.317203 \r\nL 287.609973 123.522797 \r\nL 287.978007 123.522797 \r\nL 288.100685 108.317203 \r\nL 288.223362 108.317203 \r\nL 288.34604 123.522797 \r\nL 288.591396 123.522797 \r\nL 288.714074 138.728392 \r\nL 289.204785 138.728392 \r\nL 289.327463 123.522797 \r\nL 289.45014 123.522797 \r\nL 289.572818 108.317203 \r\nL 290.06353 108.317203 \r\nL 290.186207 93.111608 \r\nL 290.308885 108.317203 \r\nL 290.554241 108.317203 \r\nL 290.799596 77.906014 \r\nL 291.16763 77.906014 \r\nL 291.412985 108.317203 \r\nL 291.535663 108.317203 \r\nL 291.658341 93.111608 \r\nL 291.781019 108.317203 \r\nL 291.903697 108.317203 \r\nL 292.026374 123.522797 \r\nL 292.394408 123.522797 \r\nL 292.517086 108.317203 \r\nL 292.639763 123.522797 \r\nL 292.762441 123.522797 \r\nL 292.885119 108.317203 \r\nL 293.253152 153.933986 \r\nL 293.37583 153.933986 \r\nL 293.498508 169.13958 \r\nL 293.866542 169.13958 \r\nL 293.989219 153.933986 \r\nL 294.111897 169.13958 \r\nL 294.234575 169.13958 \r\nL 294.479931 138.728392 \r\nL 294.847964 138.728392 \r\nL 294.970642 153.933986 \r\nL 295.09332 138.728392 \r\nL 295.461353 138.728392 \r\nL 295.706709 108.317203 \r\nL 295.829386 108.317203 \r\nL 296.074742 77.906014 \r\nL 296.19742 77.906014 \r\nL 296.320098 62.70042 \r\nL 296.442775 77.906014 \r\nL 296.565453 77.906014 \r\nL 296.688131 62.70042 \r\nL 296.933487 93.111608 \r\nL 297.056164 77.906014 \r\nL 297.178842 77.906014 \r\nL 297.30152 93.111608 \r\nL 297.424198 77.906014 \r\nL 297.546876 77.906014 \r\nL 297.669553 62.70042 \r\nL 297.792231 77.906014 \r\nL 297.914909 62.70042 \r\nL 298.160265 93.111608 \r\nL 298.40562 93.111608 \r\nL 298.528298 108.317203 \r\nL 299.141687 108.317203 \r\nL 299.387043 77.906014 \r\nL 299.877754 77.906014 \r\nL 300.12311 108.317203 \r\nL 300.245787 108.317203 \r\nL 300.368465 123.522797 \r\nL 300.613821 123.522797 \r\nL 300.736499 108.317203 \r\nL 301.104532 108.317203 \r\nL 301.22721 123.522797 \r\nL 301.349888 123.522797 \r\nL 301.472565 108.317203 \r\nL 301.717921 138.728392 \r\nL 301.840599 138.728392 \r\nL 301.963277 153.933986 \r\nL 302.208632 153.933986 \r\nL 302.33131 169.13958 \r\nL 302.453988 153.933986 \r\nL 302.699344 153.933986 \r\nL 302.822021 138.728392 \r\nL 303.067377 138.728392 \r\nL 303.190055 153.933986 \r\nL 303.312733 153.933986 \r\nL 303.43541 138.728392 \r\nL 303.680766 138.728392 \r\nL 303.803444 123.522797 \r\nL 303.926122 138.728392 \r\nL 304.416833 138.728392 \r\nL 304.784866 93.111608 \r\nL 304.907544 108.317203 \r\nL 305.1529 108.317203 \r\nL 305.275577 123.522797 \r\nL 305.643611 77.906014 \r\nL 305.766289 77.906014 \r\nL 305.888966 93.111608 \r\nL 306.134322 93.111608 \r\nL 306.257 108.317203 \r\nL 306.502356 77.906014 \r\nL 306.625033 77.906014 \r\nL 306.747711 93.111608 \r\nL 306.870389 93.111608 \r\nL 306.993067 108.317203 \r\nL 307.483778 108.317203 \r\nL 307.606456 93.111608 \r\nL 307.729134 93.111608 \r\nL 307.851811 108.317203 \r\nL 308.219845 108.317203 \r\nL 308.342523 93.111608 \r\nL 308.955912 93.111608 \r\nL 309.078589 77.906014 \r\nL 309.201267 77.906014 \r\nL 309.323945 62.70042 \r\nL 309.446623 62.70042 \r\nL 309.691978 93.111608 \r\nL 309.937334 93.111608 \r\nL 310.060012 108.317203 \r\nL 310.305367 108.317203 \r\nL 310.796079 169.13958 \r\nL 310.918757 169.13958 \r\nL 311.041434 153.933986 \r\nL 311.164112 153.933986 \r\nL 311.409468 184.345175 \r\nL 311.654823 184.345175 \r\nL 311.777501 199.550769 \r\nL 311.900179 184.345175 \r\nL 312.636246 184.345175 \r\nL 312.758924 169.13958 \r\nL 313.126957 169.13958 \r\nL 313.249635 153.933986 \r\nL 313.49499 153.933986 \r\nL 313.617668 138.728392 \r\nL 313.985702 138.728392 \r\nL 314.231057 108.317203 \r\nL 315.089802 108.317203 \r\nL 315.21248 123.522797 \r\nL 315.335158 108.317203 \r\nL 316.193902 108.317203 \r\nL 316.31658 93.111608 \r\nL 316.439258 108.317203 \r\nL 316.929969 108.317203 \r\nL 317.052647 93.111608 \r\nL 317.298002 93.111608 \r\nL 317.666036 47.494825 \r\nL 317.788714 62.70042 \r\nL 318.034069 62.70042 \r\nL 318.156747 77.906014 \r\nL 318.279425 77.906014 \r\nL 318.52478 108.317203 \r\nL 318.647458 93.111608 \r\nL 318.770136 108.317203 \r\nL 318.892814 93.111608 \r\nL 319.015492 108.317203 \r\nL 319.13817 108.317203 \r\nL 319.260847 123.522797 \r\nL 319.751559 123.522797 \r\nL 319.996914 153.933986 \r\nL 320.119592 153.933986 \r\nL 320.24227 138.728392 \r\nL 320.487625 138.728392 \r\nL 320.610303 123.522797 \r\nL 320.732981 123.522797 \r\nL 320.978337 93.111608 \r\nL 321.101014 108.317203 \r\nL 321.223692 108.317203 \r\nL 321.34637 123.522797 \r\nL 322.327792 123.522797 \r\nL 322.45047 108.317203 \r\nL 322.695826 138.728392 \r\nL 323.186537 138.728392 \r\nL 323.431893 169.13958 \r\nL 323.677248 169.13958 \r\nL 323.922604 138.728392 \r\nL 324.045282 153.933986 \r\nL 324.290637 123.522797 \r\nL 324.413315 138.728392 \r\nL 324.781349 138.728392 \r\nL 324.904026 153.933986 \r\nL 325.026704 153.933986 \r\nL 325.149382 138.728392 \r\nL 325.394738 138.728392 \r\nL 325.517415 153.933986 \r\nL 325.640093 138.728392 \r\nL 325.885449 138.728392 \r\nL 326.008127 123.522797 \r\nL 326.37616 123.522797 \r\nL 326.498838 108.317203 \r\nL 326.621516 123.522797 \r\nL 326.744193 123.522797 \r\nL 326.866871 108.317203 \r\nL 326.989549 108.317203 \r\nL 327.48026 47.494825 \r\nL 327.848294 47.494825 \r\nL 327.970972 32.289231 \r\nL 328.216327 32.289231 \r\nL 328.339005 17.083636 \r\nL 328.584361 17.083636 \r\nL 328.829716 47.494825 \r\nL 328.952394 47.494825 \r\nL 329.075072 32.289231 \r\nL 329.320427 62.70042 \r\nL 329.688461 62.70042 \r\nL 330.056494 108.317203 \r\nL 330.179172 93.111608 \r\nL 330.30185 93.111608 \r\nL 330.547205 123.522797 \r\nL 330.669883 123.522797 \r\nL 330.792561 138.728392 \r\nL 330.915239 138.728392 \r\nL 331.037917 123.522797 \r\nL 331.160594 123.522797 \r\nL 331.283272 108.317203 \r\nL 331.40595 108.317203 \r\nL 331.528628 123.522797 \r\nL 331.773984 93.111608 \r\nL 331.896661 93.111608 \r\nL 332.142017 123.522797 \r\nL 332.51005 77.906014 \r\nL 332.632728 93.111608 \r\nL 332.878084 93.111608 \r\nL 333.123439 62.70042 \r\nL 333.246117 62.70042 \r\nL 333.368795 77.906014 \r\nL 333.614151 77.906014 \r\nL 333.736828 93.111608 \r\nL 333.859506 93.111608 \r\nL 333.982184 77.906014 \r\nL 334.104862 77.906014 \r\nL 334.22754 93.111608 \r\nL 334.595573 93.111608 \r\nL 334.963606 138.728392 \r\nL 335.086284 123.522797 \r\nL 335.208962 123.522797 \r\nL 335.33164 108.317203 \r\nL 335.576996 138.728392 \r\nL 335.822351 108.317203 \r\nL 335.945029 123.522797 \r\nL 336.067707 108.317203 \r\nL 336.190385 108.317203 \r\nL 336.43574 138.728392 \r\nL 336.681096 138.728392 \r\nL 337.417163 47.494825 \r\nL 337.662518 47.494825 \r\nL 337.785196 62.70042 \r\nL 338.030552 62.70042 \r\nL 338.275907 93.111608 \r\nL 339.134652 93.111608 \r\nL 339.25733 108.317203 \r\nL 339.502685 108.317203 \r\nL 339.625363 123.522797 \r\nL 340.484108 123.522797 \r\nL 340.606786 108.317203 \r\nL 340.852141 108.317203 \r\nL 340.974819 123.522797 \r\nL 341.097497 123.522797 \r\nL 341.220175 108.317203 \r\nL 341.342852 108.317203 \r\nL 341.46553 123.522797 \r\nL 342.201597 123.522797 \r\nL 342.446953 153.933986 \r\nL 342.56963 153.933986 \r\nL 342.692308 138.728392 \r\nL 342.814986 138.728392 \r\nL 342.937664 123.522797 \r\nL 343.060342 138.728392 \r\nL 343.551053 138.728392 \r\nL 343.673731 153.933986 \r\nL 343.919086 153.933986 \r\nL 344.164442 123.522797 \r\nL 344.28712 123.522797 \r\nL 344.409798 138.728392 \r\nL 344.900509 138.728392 \r\nL 345.023187 123.522797 \r\nL 345.145864 138.728392 \r\nL 345.268542 123.522797 \r\nL 345.39122 138.728392 \r\nL 346.617998 138.728392 \r\nL 346.740676 153.933986 \r\nL 347.476743 153.933986 \r\nL 347.59942 138.728392 \r\nL 347.722098 153.933986 \r\nL 347.844776 153.933986 \r\nL 347.967454 138.728392 \r\nL 348.21281 138.728392 \r\nL 348.335487 123.522797 \r\nL 348.826199 123.522797 \r\nL 349.071554 153.933986 \r\nL 349.31691 123.522797 \r\nL 349.562265 123.522797 \r\nL 349.684943 108.317203 \r\nL 349.684943 108.317203 \r\n\" style=\"fill:none;stroke:#1f77b4;stroke-linecap:square;stroke-width:1.5;\"/>\r\n   </g>\r\n   <g id=\"patch_3\">\r\n    <path d=\"M 30.103125 224.64 \r\nL 30.103125 7.2 \r\n\" style=\"fill:none;stroke:#000000;stroke-linecap:square;stroke-linejoin:miter;stroke-width:0.8;\"/>\r\n   </g>\r\n   <g id=\"patch_4\">\r\n    <path d=\"M 364.903125 224.64 \r\nL 364.903125 7.2 \r\n\" style=\"fill:none;stroke:#000000;stroke-linecap:square;stroke-linejoin:miter;stroke-width:0.8;\"/>\r\n   </g>\r\n   <g id=\"patch_5\">\r\n    <path d=\"M 30.103125 224.64 \r\nL 364.903125 224.64 \r\n\" style=\"fill:none;stroke:#000000;stroke-linecap:square;stroke-linejoin:miter;stroke-width:0.8;\"/>\r\n   </g>\r\n   <g id=\"patch_6\">\r\n    <path d=\"M 30.103125 7.2 \r\nL 364.903125 7.2 \r\n\" style=\"fill:none;stroke:#000000;stroke-linecap:square;stroke-linejoin:miter;stroke-width:0.8;\"/>\r\n   </g>\r\n  </g>\r\n </g>\r\n <defs>\r\n  <clipPath id=\"p18cd0d13f5\">\r\n   <rect height=\"217.44\" width=\"334.8\" x=\"30.103125\" y=\"7.2\"/>\r\n  </clipPath>\r\n </defs>\r\n</svg>\r\n",
      "image/png": "[encoded data removed]"
     },
     "metadata": {
      "needs_background": "light"
     }
    }
   ],
   "source": [
    "def moving_average(x, w):\n",
    "    return np.convolve(x, np.ones(w), 'valid') / w\n",
    "\n",
    "avg = moving_average(scores[:,1], 20)\n",
    "\n",
    "plt.plot(avg)\n",
    "plt.show\n"
   ]
  },
  {
   "cell_type": "code",
   "execution_count": null,
   "metadata": {},
   "outputs": [],
   "source": [
    "print(\"Finished\")"
   ]
  }
 ]
}