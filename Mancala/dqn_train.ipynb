{
 "metadata": {
  "language_info": {
   "codemirror_mode": {
    "name": "ipython",
    "version": 3
   },
   "file_extension": ".py",
   "mimetype": "text/x-python",
   "name": "python",
   "nbconvert_exporter": "python",
   "pygments_lexer": "ipython3",
   "version": "3.8.3-final"
  },
  "orig_nbformat": 2,
  "kernelspec": {
   "name": "python383jvsc74a57bd0cbd785d33d8314b66158c604fc5ce4796ebc7b68ddf4a41ff3c1dd69f0fbd16d",
   "display_name": "Python 3.8.3 64-bit (conda)"
  }
 },
 "nbformat": 4,
 "nbformat_minor": 2,
 "cells": [
  {
   "cell_type": "code",
   "execution_count": 381,
   "metadata": {},
   "outputs": [],
   "source": [
    "import math\n",
    "import statistics\n",
    "import random\n",
    "import numpy as np\n",
    "\n",
    "import matplotlib.pyplot as plt\n",
    "\n",
    "from collections import namedtuple, deque\n",
    "from itertools import count\n",
    "from PIL import Image\n",
    "from tqdm import tqdm\n",
    "import pandas as pd\n",
    "\n",
    "import torch\n",
    "import torch.nn as nn\n",
    "import torch.nn.functional as F\n",
    "import torch.optim as optim\n",
    "\n",
    "from itertools import count\n",
    "\n",
    "from tensorboardX import SummaryWriter\n",
    "\n",
    "#from env import MancalaEnv\n",
    "from game import Game\n",
    "from randomagent import AgentRandom\n",
    "from exactagent import AgentExact"
   ]
  },
  {
   "cell_type": "code",
   "execution_count": 382,
   "metadata": {},
   "outputs": [],
   "source": [
    "device = torch.device(\"cuda:0\" if torch.cuda.is_available() else \"cpu\")"
   ]
  },
  {
   "source": [
    "## Model Architecture"
   ],
   "cell_type": "markdown",
   "metadata": {}
  },
  {
   "cell_type": "code",
   "execution_count": 383,
   "metadata": {},
   "outputs": [],
   "source": [
    "class QNetwork(nn.Module):\n",
    "    \"\"\" Actor (Policy) Model.\"\"\"\n",
    "    def __init__(self, state_size,action_size, seed, fc1_unit=512,\n",
    "                 fc2_unit = 512):\n",
    "        \"\"\"\n",
    "        Initialize parameters and build model.\n",
    "        Params\n",
    "        =======\n",
    "            state_size (int): Dimension of each state\n",
    "            action_size (int): Dimension of each action\n",
    "            seed (int): Random seed\n",
    "            fc1_unit (int): Number of nodes in first hidden layer\n",
    "            fc2_unit (int): Number of nodes in second hidden layer\n",
    "        \"\"\"\n",
    "        super(QNetwork,self).__init__() ## calls __init__ method of nn.Module class\n",
    "        self.seed = torch.manual_seed(seed)\n",
    "        self.fc1= nn.Linear(state_size,fc1_unit)\n",
    "        self.fc2 = nn.Linear(fc1_unit,fc2_unit)\n",
    "        self.fc3 = nn.Linear(fc2_unit,action_size)\n",
    "        self.out = nn.Softmax(dim=1)\n",
    "        \n",
    "    def forward(self,x):\n",
    "        # x = state\n",
    "        \"\"\"\n",
    "        Build a network that maps state -> action values.\n",
    "        \"\"\"\n",
    "        x = F.relu(self.fc1(x))\n",
    "        x = F.relu(self.fc2(x))\n",
    "        x = F.relu(self.fc3(x))\n",
    "        x = self.out(x)\n",
    "        return x"
   ]
  },
  {
   "source": [
    "## Environment Variables"
   ],
   "cell_type": "markdown",
   "metadata": {}
  },
  {
   "cell_type": "code",
   "execution_count": 384,
   "metadata": {},
   "outputs": [],
   "source": [
    "BUFFER_SIZE = int(4e5)  #replay buffer size\n",
    "''' TRY AN ARRAY HERE FOR BATCH SIZE EFFECT '''\n",
    "BATCH_SIZE = 1000        # minibatch size\n",
    "GAMMA = 0.99            # discount factor\n",
    "TAU = 1e-3              # for soft update of target parameters\n",
    "LR = 5e-4               # learning rate\n",
    "UPDATE_EVERY = 4        # how often to update the network\n",
    "NUM_STATES = 14\n",
    "NUM_ACTIONS = 6"
   ]
  },
  {
   "source": [
    "## DQN Agent"
   ],
   "cell_type": "markdown",
   "metadata": {}
  },
  {
   "cell_type": "code",
   "execution_count": 385,
   "metadata": {},
   "outputs": [],
   "source": [
    "class DQNAgent():\n",
    "    \"\"\"Interacts with and learns form environment.\"\"\"\n",
    "    \n",
    "    def __init__(self, state_size, action_size, seed):\n",
    "        \"\"\"Initialize an Agent object.\n",
    "        \n",
    "        Params\n",
    "        =======\n",
    "            state_size (int): dimension of each state\n",
    "            action_size (int): dimension of each action\n",
    "            seed (int): random seed\n",
    "        \"\"\"\n",
    "        \n",
    "        self.state_size = state_size\n",
    "        self.action_size = action_size\n",
    "        self.seed = random.seed(seed)\n",
    "        \n",
    "        \n",
    "        #Q- Network\n",
    "        self.qnetwork_local = QNetwork(state_size, action_size, seed).to(device)\n",
    "        self.qnetwork_target = QNetwork(state_size, action_size, seed).to(device)\n",
    "        \n",
    "        self.optimizer = optim.Adam(self.qnetwork_local.parameters(),lr=LR)\n",
    "        \n",
    "        # Replay memory \n",
    "        self.memory = ReplayBuffer(action_size, BUFFER_SIZE,BATCH_SIZE,seed)\n",
    "        # Initialize time step (for updating every UPDATE_EVERY steps)\n",
    "        self.t_step = 0\n",
    "        \n",
    "    def step(self, state, action, reward, next_step, done):\n",
    "        # Save experience in replay memory\n",
    "        self.memory.add(state, action, reward, next_step, done)\n",
    "\n",
    "        # Learn every UPDATE_EVERY time steps.\n",
    "        self.t_step = (self.t_step+1)% UPDATE_EVERY\n",
    "        if self.t_step == 0:\n",
    "            # If enough samples are available in memory, get radom subset and learn\n",
    "\n",
    "            if len(self.memory)>BATCH_SIZE:\n",
    "                experience = self.memory.sample()\n",
    "                self.learn(experience, GAMMA)\n",
    "    def act(self, state, eps = 0):\n",
    "        \"\"\"Returns action for given state as per current policy\n",
    "        Params\n",
    "        =======\n",
    "            state (array_like): current state\n",
    "            eps (float): epsilon, for epsilon-greedy action selection\n",
    "        \"\"\"\n",
    "        state = torch.from_numpy(state).float().unsqueeze(0).to(device)\n",
    "        self.qnetwork_local.eval()\n",
    "        with torch.no_grad():\n",
    "            action_values = self.qnetwork_local(state)\n",
    "        self.qnetwork_local.train()\n",
    "\n",
    "        #Epsilon -greedy action selction\n",
    "        if random.random() > eps:\n",
    "            return np.argmax(action_values.cpu().data.numpy())\n",
    "        else:\n",
    "            return random.choice(np.arange(self.action_size))\n",
    "            \n",
    "    def learn(self, experiences, gamma):\n",
    "        \"\"\"Update value parameters using given batch of experience tuples.\n",
    "        Params\n",
    "        =======\n",
    "            experiences (Tuple[torch.Variable]): tuple of (s, a, r, s', done) tuples\n",
    "            gamma (float): discount factor\n",
    "        \"\"\"\n",
    "        states, actions, rewards, next_states, dones = experiences\n",
    "        ## TODO: compute and minimize the loss\n",
    "        criterion = torch.nn.MSELoss()\n",
    "        self.qnetwork_local.train()\n",
    "        self.qnetwork_target.eval()\n",
    "        #shape of output from the model (batch_size,action_dim) = (64,4)\n",
    "        predicted_targets = self.qnetwork_local(states).gather(1,actions)\n",
    "    \n",
    "        with torch.no_grad():\n",
    "            labels_next = self.qnetwork_target(next_states).detach().max(1)[0].unsqueeze(1)\n",
    "\n",
    "        # .detach() ->  Returns a new Tensor, detached from the current graph.\n",
    "        labels = rewards + (gamma* labels_next*(1-dones))\n",
    "        \n",
    "        loss = criterion(predicted_targets,labels).to(device)\n",
    "        self.optimizer.zero_grad()\n",
    "        loss.backward()\n",
    "        self.optimizer.step()\n",
    "\n",
    "        # ------------------- update target network ------------------- #\n",
    "        self.soft_update(self.qnetwork_local,self.qnetwork_target,TAU)\n",
    "            \n",
    "    def soft_update(self, local_model, target_model, tau):\n",
    "        \"\"\"Soft update model parameters.\n",
    "        θ_target = τ*θ_local + (1 - τ)*θ_target\n",
    "        Params\n",
    "        =======\n",
    "            local model (PyTorch model): weights will be copied from\n",
    "            target model (PyTorch model): weights will be copied to\n",
    "            tau (float): interpolation parameter\n",
    "        \"\"\"\n",
    "        for target_param, local_param in zip(target_model.parameters(),\n",
    "                                           local_model.parameters()):\n",
    "            target_param.data.copy_(tau*local_param.data + (1-tau)*target_param.data)\n",
    "            \n",
    "class ReplayBuffer:\n",
    "    \"\"\"Fixed -size buffe to store experience tuples.\"\"\"\n",
    "    \n",
    "    def __init__(self, action_size, buffer_size, batch_size, seed):\n",
    "        \"\"\"Initialize a ReplayBuffer object.\n",
    "        \n",
    "        Params\n",
    "        ======\n",
    "            action_size (int): dimension of each action\n",
    "            buffer_size (int): maximum size of buffer\n",
    "            batch_size (int): size of each training batch\n",
    "            seed (int): random seed\n",
    "        \"\"\"\n",
    "        \n",
    "        self.action_size = action_size\n",
    "        self.memory = deque(maxlen=buffer_size)\n",
    "        self.batch_size = batch_size\n",
    "        self.experiences = namedtuple(\"Experience\", field_names=[\"state\",\n",
    "                                                               \"action\",\n",
    "                                                               \"reward\",\n",
    "                                                               \"next_state\",\n",
    "                                                               \"done\"])\n",
    "        self.seed = random.seed(seed)\n",
    "        \n",
    "    def add(self,state, action, reward, next_state,done):\n",
    "        \"\"\"Add a new experience to memory.\"\"\"\n",
    "        e = self.experiences(state,action,reward,next_state,done)\n",
    "        self.memory.append(e)\n",
    "        \n",
    "    def sample(self):\n",
    "        \"\"\"Randomly sample a batch of experiences from memory\"\"\"\n",
    "        experiences = random.sample(self.memory,k=self.batch_size)\n",
    "        \n",
    "        states = torch.from_numpy(np.vstack([e.state for e in experiences if e is not None])).float().to(device)\n",
    "        actions = torch.from_numpy(np.vstack([e.action for e in experiences if e is not None])).long().to(device)\n",
    "        rewards = torch.from_numpy(np.vstack([e.reward for e in experiences if e is not None])).float().to(device)\n",
    "        next_states = torch.from_numpy(np.vstack([e.next_state for e in experiences if e is not None])).float().to(device)\n",
    "        dones = torch.from_numpy(np.vstack([e.done for e in experiences if e is not None]).astype(np.uint8)).float().to(device)\n",
    "        \n",
    "        return (states,actions,rewards,next_states,dones)\n",
    "    def __len__(self):\n",
    "        \"\"\"Return the current size of internal memory.\"\"\"\n",
    "        return len(self.memory)"
   ]
  },
  {
   "source": [
    "## Reward Functions"
   ],
   "cell_type": "markdown",
   "metadata": {}
  },
  {
   "cell_type": "code",
   "execution_count": 386,
   "metadata": {},
   "outputs": [],
   "source": [
    "def sparse_reward(game, idx):\n",
    "    done = game.over()\n",
    "    next_state = np.array(game.board())\n",
    "    dqn_score, agent_score = game.score()\n",
    "    win = False\n",
    "    if((dqn_score > agent_score) and done):\n",
    "        reward = 10\n",
    "        win = True \n",
    "    else:\n",
    "        reward = -10\n",
    "    return(next_state, reward, done, win)\n",
    "\n",
    "def keep_ahead_reward(game):\n",
    "    done = game.over()\n",
    "    next_state = np.array(game.board())\n",
    "    dqn_score, agent_score = game.score()\n",
    "    win = False\n",
    "\n",
    "    if((dqn_score - agent_score) > 0):\n",
    "        reward = 1\n",
    "    else:\n",
    "        reward = 0\n",
    "    \n",
    "    if((dqn_score > agent_score) and done):\n",
    "        win = True\n",
    "\n",
    "    return(next_state, reward, done, win)\n",
    "\n",
    "def dont_fall_behind_reward(game):\n",
    "    done = game.over()\n",
    "    next_state = np.array(game.board())\n",
    "    dqn_score, agent_score = game.score()\n",
    "    win = False\n",
    "    if((dqn_score - agent_score) < 0):\n",
    "        reward = -1\n",
    "    else:\n",
    "        reward = 0\n",
    "\n",
    "    if((dqn_score > agent_score) and done):\n",
    "        win = True \n",
    "\n",
    "    return(next_state, reward, done, win)"
   ]
  },
  {
   "source": [
    "## Train The agent"
   ],
   "cell_type": "markdown",
   "metadata": {}
  },
  {
   "cell_type": "code",
   "execution_count": 387,
   "metadata": {},
   "outputs": [],
   "source": [
    "agent = DQNAgent(state_size=NUM_STATES, action_size=NUM_ACTIONS, seed=0)\n",
    "opponent = AgentRandom()\n",
    "'''\n",
    "Take a Look at Epsilons\n",
    "'''\n",
    "def dqn(n_episodes= 100, max_t = 1000, eps_start=0.4, eps_end = 0.01,\n",
    "       eps_decay=0.99):\n",
    "    \"\"\"Deep Q-Learning\n",
    "    \n",
    "    Params\n",
    "    ======\n",
    "        n_episodes (int): maximum number of training epsiodes\n",
    "        max_t (int): maximum number of timesteps per episode\n",
    "        eps_start (float): starting value of epsilon, for epsilon-greedy action selection\n",
    "        eps_end (float): minimum value of epsilon \n",
    "        eps_decay (float): mutiplicative factor (per episode) for decreasing epsilon\n",
    "        \n",
    "    \"\"\"\n",
    "    scores = [] # list containing score from each episode\n",
    "    winsarray = np.zeros(shape = (1,2)) # Story which episode saw wins\n",
    "\n",
    "    scores_window = deque(maxlen=100) # last 100 scores\n",
    "    eps = eps_start\n",
    "    for i_episode in tqdm(range(1, n_episodes+1)):\n",
    "        game = Game() # Reset Env\n",
    "        score = 0       # Reset Score\n",
    "        done = False    # Reset finished (done) flag\n",
    "        win = False\n",
    "        state = np.array(game.board()) # Reset State and convert it to numpy array\n",
    "\n",
    "        while not done:\n",
    "            action = agent.act(state,eps) # Select an action\n",
    "            ''' TAKING AN ACTION '''\n",
    "            game.move(action) # Take the action on the Game board\n",
    "            next_state, reward, done, win = sparse_reward(game, i_episode) # Get next state, reward and if game is done as result of action\n",
    "            #next_state, reward, done, win = keep_ahead_reward(game)\n",
    "            agent.step(state,action,reward,next_state,done)\n",
    "\n",
    "            game._player_one = False\n",
    "            game.move(opponent._move(game))\n",
    "            game._player_one = True\n",
    "\n",
    "            \n",
    "            ## above step decides whether we will train(learn) the network\n",
    "            ## actor (local_qnetwork) or we will fill the replay buffer\n",
    "            ## if len replay buffer is equal to the batch size then we will\n",
    "            ## train the network or otherwise we will add experience tuple in our \n",
    "            ## replay buffer.\n",
    "            state = next_state\n",
    "            score += reward\n",
    "\n",
    "            if done:\n",
    "                if win:\n",
    "                    winsarray = np.append(winsarray, [[i_episode,1]], axis = 0)\n",
    "                    break\n",
    "                else:\n",
    "                    winsarray = np.append(winsarray, [[i_episode,0]], axis = 0)\n",
    "                    break\n",
    "            scores_window.append(score) ## save the most recent score\n",
    "            scores.append(score) ## sae the most recent score\n",
    "            eps = max(eps*eps_decay,eps_end)## decrease the epsilon\n",
    "            '''\n",
    "            print('\\rEpisode {}\\tAverage Score {:.2f}'.format(i_episode,np.mean(scores_window)), end=\"\")\n",
    "            if i_episode %100==0:\n",
    "                print('\\rEpisode {}\\tAverage Score {:.2f}'.format(i_episode,np.mean(scores_window)))\n",
    "\n",
    "            SAVE ENVIRONMENT IF SOLVED (WE DON'T KNOW WHAT SOLVED IS JUST YET)\n",
    "            if np.mean(scores_window)>=200.0:\n",
    "                print('\\nEnvironment solve in {:d} epsiodes!\\tAverage score: {:.2f}'.format(i_episode-100,\n",
    "                                                                                           np.mean(scores_window)))\n",
    "                torch.save(agent.qnetwork_local.state_dict(),'checkpoint.pth')\n",
    "           \n",
    "                break\n",
    "            '''\n",
    "    return winsarray"
   ]
  },
  {
   "source": [
    "print(\"Compiled\")"
   ],
   "cell_type": "code",
   "metadata": {},
   "execution_count": 388,
   "outputs": [
    {
     "output_type": "stream",
     "name": "stdout",
     "text": [
      "Compiled\n"
     ]
    }
   ]
  },
  {
   "cell_type": "code",
   "execution_count": 389,
   "metadata": {
    "tags": []
   },
   "outputs": [
    {
     "output_type": "stream",
     "name": "stderr",
     "text": [
      "100%|██████████| 500/500 [02:46<00:00,  3.00it/s]\n"
     ]
    },
    {
     "output_type": "execute_result",
     "data": {
      "text/plain": [
       "501"
      ]
     },
     "metadata": {},
     "execution_count": 389
    }
   ],
   "source": [
    "N_EPISDOES = 500\n",
    "scores = dqn(n_episodes = N_EPISDOES)\n",
    "len(scores)"
   ]
  },
  {
   "source": [
    "## Moving Average"
   ],
   "cell_type": "markdown",
   "metadata": {}
  },
  {
   "cell_type": "code",
   "execution_count": 390,
   "metadata": {},
   "outputs": [
    {
     "output_type": "execute_result",
     "data": {
      "text/plain": [
       "<function matplotlib.pyplot.show(*args, **kw)>"
      ]
     },
     "metadata": {},
     "execution_count": 390
    },
    {
     "output_type": "display_data",
     "data": {
      "text/plain": "<Figure size 432x288 with 1 Axes>",
      "image/svg+xml": "<?xml version=\"1.0\" encoding=\"utf-8\" standalone=\"no\"?>\r\n<!DOCTYPE svg PUBLIC \"-//W3C//DTD SVG 1.1//EN\"\r\n  \"http://www.w3.org/Graphics/SVG/1.1/DTD/svg11.dtd\">\r\n<!-- Created with matplotlib (https://matplotlib.org/) -->\r\n<svg height=\"248.518125pt\" version=\"1.1\" viewBox=\"0 0 372.103125 248.518125\" width=\"372.103125pt\" xmlns=\"http://www.w3.org/2000/svg\" xmlns:xlink=\"http://www.w3.org/1999/xlink\">\r\n <defs>\r\n  <style type=\"text/css\">\r\n*{stroke-linecap:butt;stroke-linejoin:round;}\r\n  </style>\r\n </defs>\r\n <g id=\"figure_1\">\r\n  <g id=\"patch_1\">\r\n   <path d=\"M 0 248.518125 \r\nL 372.103125 248.518125 \r\nL 372.103125 0 \r\nL 0 0 \r\nz\r\n\" style=\"fill:none;\"/>\r\n  </g>\r\n  <g id=\"axes_1\">\r\n   <g id=\"patch_2\">\r\n    <path d=\"M 30.103125 224.64 \r\nL 364.903125 224.64 \r\nL 364.903125 7.2 \r\nL 30.103125 7.2 \r\nz\r\n\" style=\"fill:#ffffff;\"/>\r\n   </g>\r\n   <g id=\"matplotlib.axis_1\">\r\n    <g id=\"xtick_1\">\r\n     <g id=\"line2d_1\">\r\n      <defs>\r\n       <path d=\"M 0 0 \r\nL 0 3.5 \r\n\" id=\"mb4d1776f09\" style=\"stroke:#000000;stroke-width:0.8;\"/>\r\n      </defs>\r\n      <g>\r\n       <use style=\"stroke:#000000;stroke-width:0.8;\" x=\"45.321307\" xlink:href=\"#mb4d1776f09\" y=\"224.64\"/>\r\n      </g>\r\n     </g>\r\n     <g id=\"text_1\">\r\n      <!-- 0 -->\r\n      <defs>\r\n       <path d=\"M 31.78125 66.40625 \r\nQ 24.171875 66.40625 20.328125 58.90625 \r\nQ 16.5 51.421875 16.5 36.375 \r\nQ 16.5 21.390625 20.328125 13.890625 \r\nQ 24.171875 6.390625 31.78125 6.390625 \r\nQ 39.453125 6.390625 43.28125 13.890625 \r\nQ 47.125 21.390625 47.125 36.375 \r\nQ 47.125 51.421875 43.28125 58.90625 \r\nQ 39.453125 66.40625 31.78125 66.40625 \r\nz\r\nM 31.78125 74.21875 \r\nQ 44.046875 74.21875 50.515625 64.515625 \r\nQ 56.984375 54.828125 56.984375 36.375 \r\nQ 56.984375 17.96875 50.515625 8.265625 \r\nQ 44.046875 -1.421875 31.78125 -1.421875 \r\nQ 19.53125 -1.421875 13.0625 8.265625 \r\nQ 6.59375 17.96875 6.59375 36.375 \r\nQ 6.59375 54.828125 13.0625 64.515625 \r\nQ 19.53125 74.21875 31.78125 74.21875 \r\nz\r\n\" id=\"DejaVuSans-48\"/>\r\n      </defs>\r\n      <g transform=\"translate(42.140057 239.238437)scale(0.1 -0.1)\">\r\n       <use xlink:href=\"#DejaVuSans-48\"/>\r\n      </g>\r\n     </g>\r\n    </g>\r\n    <g id=\"xtick_2\">\r\n     <g id=\"line2d_2\">\r\n      <g>\r\n       <use style=\"stroke:#000000;stroke-width:0.8;\" x=\"106.684943\" xlink:href=\"#mb4d1776f09\" y=\"224.64\"/>\r\n      </g>\r\n     </g>\r\n     <g id=\"text_2\">\r\n      <!-- 100 -->\r\n      <defs>\r\n       <path d=\"M 12.40625 8.296875 \r\nL 28.515625 8.296875 \r\nL 28.515625 63.921875 \r\nL 10.984375 60.40625 \r\nL 10.984375 69.390625 \r\nL 28.421875 72.90625 \r\nL 38.28125 72.90625 \r\nL 38.28125 8.296875 \r\nL 54.390625 8.296875 \r\nL 54.390625 0 \r\nL 12.40625 0 \r\nz\r\n\" id=\"DejaVuSans-49\"/>\r\n      </defs>\r\n      <g transform=\"translate(97.141193 239.238437)scale(0.1 -0.1)\">\r\n       <use xlink:href=\"#DejaVuSans-49\"/>\r\n       <use x=\"63.623047\" xlink:href=\"#DejaVuSans-48\"/>\r\n       <use x=\"127.246094\" xlink:href=\"#DejaVuSans-48\"/>\r\n      </g>\r\n     </g>\r\n    </g>\r\n    <g id=\"xtick_3\">\r\n     <g id=\"line2d_3\">\r\n      <g>\r\n       <use style=\"stroke:#000000;stroke-width:0.8;\" x=\"168.04858\" xlink:href=\"#mb4d1776f09\" y=\"224.64\"/>\r\n      </g>\r\n     </g>\r\n     <g id=\"text_3\">\r\n      <!-- 200 -->\r\n      <defs>\r\n       <path d=\"M 19.1875 8.296875 \r\nL 53.609375 8.296875 \r\nL 53.609375 0 \r\nL 7.328125 0 \r\nL 7.328125 8.296875 \r\nQ 12.9375 14.109375 22.625 23.890625 \r\nQ 32.328125 33.6875 34.8125 36.53125 \r\nQ 39.546875 41.84375 41.421875 45.53125 \r\nQ 43.3125 49.21875 43.3125 52.78125 \r\nQ 43.3125 58.59375 39.234375 62.25 \r\nQ 35.15625 65.921875 28.609375 65.921875 \r\nQ 23.96875 65.921875 18.8125 64.3125 \r\nQ 13.671875 62.703125 7.8125 59.421875 \r\nL 7.8125 69.390625 \r\nQ 13.765625 71.78125 18.9375 73 \r\nQ 24.125 74.21875 28.421875 74.21875 \r\nQ 39.75 74.21875 46.484375 68.546875 \r\nQ 53.21875 62.890625 53.21875 53.421875 \r\nQ 53.21875 48.921875 51.53125 44.890625 \r\nQ 49.859375 40.875 45.40625 35.40625 \r\nQ 44.1875 33.984375 37.640625 27.21875 \r\nQ 31.109375 20.453125 19.1875 8.296875 \r\nz\r\n\" id=\"DejaVuSans-50\"/>\r\n      </defs>\r\n      <g transform=\"translate(158.50483 239.238437)scale(0.1 -0.1)\">\r\n       <use xlink:href=\"#DejaVuSans-50\"/>\r\n       <use x=\"63.623047\" xlink:href=\"#DejaVuSans-48\"/>\r\n       <use x=\"127.246094\" xlink:href=\"#DejaVuSans-48\"/>\r\n      </g>\r\n     </g>\r\n    </g>\r\n    <g id=\"xtick_4\">\r\n     <g id=\"line2d_4\">\r\n      <g>\r\n       <use style=\"stroke:#000000;stroke-width:0.8;\" x=\"229.412216\" xlink:href=\"#mb4d1776f09\" y=\"224.64\"/>\r\n      </g>\r\n     </g>\r\n     <g id=\"text_4\">\r\n      <!-- 300 -->\r\n      <defs>\r\n       <path d=\"M 40.578125 39.3125 \r\nQ 47.65625 37.796875 51.625 33 \r\nQ 55.609375 28.21875 55.609375 21.1875 \r\nQ 55.609375 10.40625 48.1875 4.484375 \r\nQ 40.765625 -1.421875 27.09375 -1.421875 \r\nQ 22.515625 -1.421875 17.65625 -0.515625 \r\nQ 12.796875 0.390625 7.625 2.203125 \r\nL 7.625 11.71875 \r\nQ 11.71875 9.328125 16.59375 8.109375 \r\nQ 21.484375 6.890625 26.8125 6.890625 \r\nQ 36.078125 6.890625 40.9375 10.546875 \r\nQ 45.796875 14.203125 45.796875 21.1875 \r\nQ 45.796875 27.640625 41.28125 31.265625 \r\nQ 36.765625 34.90625 28.71875 34.90625 \r\nL 20.21875 34.90625 \r\nL 20.21875 43.015625 \r\nL 29.109375 43.015625 \r\nQ 36.375 43.015625 40.234375 45.921875 \r\nQ 44.09375 48.828125 44.09375 54.296875 \r\nQ 44.09375 59.90625 40.109375 62.90625 \r\nQ 36.140625 65.921875 28.71875 65.921875 \r\nQ 24.65625 65.921875 20.015625 65.03125 \r\nQ 15.375 64.15625 9.8125 62.3125 \r\nL 9.8125 71.09375 \r\nQ 15.4375 72.65625 20.34375 73.4375 \r\nQ 25.25 74.21875 29.59375 74.21875 \r\nQ 40.828125 74.21875 47.359375 69.109375 \r\nQ 53.90625 64.015625 53.90625 55.328125 \r\nQ 53.90625 49.265625 50.4375 45.09375 \r\nQ 46.96875 40.921875 40.578125 39.3125 \r\nz\r\n\" id=\"DejaVuSans-51\"/>\r\n      </defs>\r\n      <g transform=\"translate(219.868466 239.238437)scale(0.1 -0.1)\">\r\n       <use xlink:href=\"#DejaVuSans-51\"/>\r\n       <use x=\"63.623047\" xlink:href=\"#DejaVuSans-48\"/>\r\n       <use x=\"127.246094\" xlink:href=\"#DejaVuSans-48\"/>\r\n      </g>\r\n     </g>\r\n    </g>\r\n    <g id=\"xtick_5\">\r\n     <g id=\"line2d_5\">\r\n      <g>\r\n       <use style=\"stroke:#000000;stroke-width:0.8;\" x=\"290.775852\" xlink:href=\"#mb4d1776f09\" y=\"224.64\"/>\r\n      </g>\r\n     </g>\r\n     <g id=\"text_5\">\r\n      <!-- 400 -->\r\n      <defs>\r\n       <path d=\"M 37.796875 64.3125 \r\nL 12.890625 25.390625 \r\nL 37.796875 25.390625 \r\nz\r\nM 35.203125 72.90625 \r\nL 47.609375 72.90625 \r\nL 47.609375 25.390625 \r\nL 58.015625 25.390625 \r\nL 58.015625 17.1875 \r\nL 47.609375 17.1875 \r\nL 47.609375 0 \r\nL 37.796875 0 \r\nL 37.796875 17.1875 \r\nL 4.890625 17.1875 \r\nL 4.890625 26.703125 \r\nz\r\n\" id=\"DejaVuSans-52\"/>\r\n      </defs>\r\n      <g transform=\"translate(281.232102 239.238437)scale(0.1 -0.1)\">\r\n       <use xlink:href=\"#DejaVuSans-52\"/>\r\n       <use x=\"63.623047\" xlink:href=\"#DejaVuSans-48\"/>\r\n       <use x=\"127.246094\" xlink:href=\"#DejaVuSans-48\"/>\r\n      </g>\r\n     </g>\r\n    </g>\r\n    <g id=\"xtick_6\">\r\n     <g id=\"line2d_6\">\r\n      <g>\r\n       <use style=\"stroke:#000000;stroke-width:0.8;\" x=\"352.139489\" xlink:href=\"#mb4d1776f09\" y=\"224.64\"/>\r\n      </g>\r\n     </g>\r\n     <g id=\"text_6\">\r\n      <!-- 500 -->\r\n      <defs>\r\n       <path d=\"M 10.796875 72.90625 \r\nL 49.515625 72.90625 \r\nL 49.515625 64.59375 \r\nL 19.828125 64.59375 \r\nL 19.828125 46.734375 \r\nQ 21.96875 47.46875 24.109375 47.828125 \r\nQ 26.265625 48.1875 28.421875 48.1875 \r\nQ 40.625 48.1875 47.75 41.5 \r\nQ 54.890625 34.8125 54.890625 23.390625 \r\nQ 54.890625 11.625 47.5625 5.09375 \r\nQ 40.234375 -1.421875 26.90625 -1.421875 \r\nQ 22.3125 -1.421875 17.546875 -0.640625 \r\nQ 12.796875 0.140625 7.71875 1.703125 \r\nL 7.71875 11.625 \r\nQ 12.109375 9.234375 16.796875 8.0625 \r\nQ 21.484375 6.890625 26.703125 6.890625 \r\nQ 35.15625 6.890625 40.078125 11.328125 \r\nQ 45.015625 15.765625 45.015625 23.390625 \r\nQ 45.015625 31 40.078125 35.4375 \r\nQ 35.15625 39.890625 26.703125 39.890625 \r\nQ 22.75 39.890625 18.8125 39.015625 \r\nQ 14.890625 38.140625 10.796875 36.28125 \r\nz\r\n\" id=\"DejaVuSans-53\"/>\r\n      </defs>\r\n      <g transform=\"translate(342.595739 239.238437)scale(0.1 -0.1)\">\r\n       <use xlink:href=\"#DejaVuSans-53\"/>\r\n       <use x=\"63.623047\" xlink:href=\"#DejaVuSans-48\"/>\r\n       <use x=\"127.246094\" xlink:href=\"#DejaVuSans-48\"/>\r\n      </g>\r\n     </g>\r\n    </g>\r\n   </g>\r\n   <g id=\"matplotlib.axis_2\">\r\n    <g id=\"ytick_1\">\r\n     <g id=\"line2d_7\">\r\n      <defs>\r\n       <path d=\"M 0 0 \r\nL -3.5 0 \r\n\" id=\"mf1f03b6c59\" style=\"stroke:#000000;stroke-width:0.8;\"/>\r\n      </defs>\r\n      <g>\r\n       <use style=\"stroke:#000000;stroke-width:0.8;\" x=\"30.103125\" xlink:href=\"#mf1f03b6c59\" y=\"214.756364\"/>\r\n      </g>\r\n     </g>\r\n     <g id=\"text_7\">\r\n      <!-- 0.0 -->\r\n      <defs>\r\n       <path d=\"M 10.6875 12.40625 \r\nL 21 12.40625 \r\nL 21 0 \r\nL 10.6875 0 \r\nz\r\n\" id=\"DejaVuSans-46\"/>\r\n      </defs>\r\n      <g transform=\"translate(7.2 218.555582)scale(0.1 -0.1)\">\r\n       <use xlink:href=\"#DejaVuSans-48\"/>\r\n       <use x=\"63.623047\" xlink:href=\"#DejaVuSans-46\"/>\r\n       <use x=\"95.410156\" xlink:href=\"#DejaVuSans-48\"/>\r\n      </g>\r\n     </g>\r\n    </g>\r\n    <g id=\"ytick_2\">\r\n     <g id=\"line2d_8\">\r\n      <g>\r\n       <use style=\"stroke:#000000;stroke-width:0.8;\" x=\"30.103125\" xlink:href=\"#mf1f03b6c59\" y=\"175.221818\"/>\r\n      </g>\r\n     </g>\r\n     <g id=\"text_8\">\r\n      <!-- 0.2 -->\r\n      <g transform=\"translate(7.2 179.021037)scale(0.1 -0.1)\">\r\n       <use xlink:href=\"#DejaVuSans-48\"/>\r\n       <use x=\"63.623047\" xlink:href=\"#DejaVuSans-46\"/>\r\n       <use x=\"95.410156\" xlink:href=\"#DejaVuSans-50\"/>\r\n      </g>\r\n     </g>\r\n    </g>\r\n    <g id=\"ytick_3\">\r\n     <g id=\"line2d_9\">\r\n      <g>\r\n       <use style=\"stroke:#000000;stroke-width:0.8;\" x=\"30.103125\" xlink:href=\"#mf1f03b6c59\" y=\"135.687273\"/>\r\n      </g>\r\n     </g>\r\n     <g id=\"text_9\">\r\n      <!-- 0.4 -->\r\n      <g transform=\"translate(7.2 139.486491)scale(0.1 -0.1)\">\r\n       <use xlink:href=\"#DejaVuSans-48\"/>\r\n       <use x=\"63.623047\" xlink:href=\"#DejaVuSans-46\"/>\r\n       <use x=\"95.410156\" xlink:href=\"#DejaVuSans-52\"/>\r\n      </g>\r\n     </g>\r\n    </g>\r\n    <g id=\"ytick_4\">\r\n     <g id=\"line2d_10\">\r\n      <g>\r\n       <use style=\"stroke:#000000;stroke-width:0.8;\" x=\"30.103125\" xlink:href=\"#mf1f03b6c59\" y=\"96.152727\"/>\r\n      </g>\r\n     </g>\r\n     <g id=\"text_10\">\r\n      <!-- 0.6 -->\r\n      <defs>\r\n       <path d=\"M 33.015625 40.375 \r\nQ 26.375 40.375 22.484375 35.828125 \r\nQ 18.609375 31.296875 18.609375 23.390625 \r\nQ 18.609375 15.53125 22.484375 10.953125 \r\nQ 26.375 6.390625 33.015625 6.390625 \r\nQ 39.65625 6.390625 43.53125 10.953125 \r\nQ 47.40625 15.53125 47.40625 23.390625 \r\nQ 47.40625 31.296875 43.53125 35.828125 \r\nQ 39.65625 40.375 33.015625 40.375 \r\nz\r\nM 52.59375 71.296875 \r\nL 52.59375 62.3125 \r\nQ 48.875 64.0625 45.09375 64.984375 \r\nQ 41.3125 65.921875 37.59375 65.921875 \r\nQ 27.828125 65.921875 22.671875 59.328125 \r\nQ 17.53125 52.734375 16.796875 39.40625 \r\nQ 19.671875 43.65625 24.015625 45.921875 \r\nQ 28.375 48.1875 33.59375 48.1875 \r\nQ 44.578125 48.1875 50.953125 41.515625 \r\nQ 57.328125 34.859375 57.328125 23.390625 \r\nQ 57.328125 12.15625 50.6875 5.359375 \r\nQ 44.046875 -1.421875 33.015625 -1.421875 \r\nQ 20.359375 -1.421875 13.671875 8.265625 \r\nQ 6.984375 17.96875 6.984375 36.375 \r\nQ 6.984375 53.65625 15.1875 63.9375 \r\nQ 23.390625 74.21875 37.203125 74.21875 \r\nQ 40.921875 74.21875 44.703125 73.484375 \r\nQ 48.484375 72.75 52.59375 71.296875 \r\nz\r\n\" id=\"DejaVuSans-54\"/>\r\n      </defs>\r\n      <g transform=\"translate(7.2 99.951946)scale(0.1 -0.1)\">\r\n       <use xlink:href=\"#DejaVuSans-48\"/>\r\n       <use x=\"63.623047\" xlink:href=\"#DejaVuSans-46\"/>\r\n       <use x=\"95.410156\" xlink:href=\"#DejaVuSans-54\"/>\r\n      </g>\r\n     </g>\r\n    </g>\r\n    <g id=\"ytick_5\">\r\n     <g id=\"line2d_11\">\r\n      <g>\r\n       <use style=\"stroke:#000000;stroke-width:0.8;\" x=\"30.103125\" xlink:href=\"#mf1f03b6c59\" y=\"56.618182\"/>\r\n      </g>\r\n     </g>\r\n     <g id=\"text_11\">\r\n      <!-- 0.8 -->\r\n      <defs>\r\n       <path d=\"M 31.78125 34.625 \r\nQ 24.75 34.625 20.71875 30.859375 \r\nQ 16.703125 27.09375 16.703125 20.515625 \r\nQ 16.703125 13.921875 20.71875 10.15625 \r\nQ 24.75 6.390625 31.78125 6.390625 \r\nQ 38.8125 6.390625 42.859375 10.171875 \r\nQ 46.921875 13.96875 46.921875 20.515625 \r\nQ 46.921875 27.09375 42.890625 30.859375 \r\nQ 38.875 34.625 31.78125 34.625 \r\nz\r\nM 21.921875 38.8125 \r\nQ 15.578125 40.375 12.03125 44.71875 \r\nQ 8.5 49.078125 8.5 55.328125 \r\nQ 8.5 64.0625 14.71875 69.140625 \r\nQ 20.953125 74.21875 31.78125 74.21875 \r\nQ 42.671875 74.21875 48.875 69.140625 \r\nQ 55.078125 64.0625 55.078125 55.328125 \r\nQ 55.078125 49.078125 51.53125 44.71875 \r\nQ 48 40.375 41.703125 38.8125 \r\nQ 48.828125 37.15625 52.796875 32.3125 \r\nQ 56.78125 27.484375 56.78125 20.515625 \r\nQ 56.78125 9.90625 50.3125 4.234375 \r\nQ 43.84375 -1.421875 31.78125 -1.421875 \r\nQ 19.734375 -1.421875 13.25 4.234375 \r\nQ 6.78125 9.90625 6.78125 20.515625 \r\nQ 6.78125 27.484375 10.78125 32.3125 \r\nQ 14.796875 37.15625 21.921875 38.8125 \r\nz\r\nM 18.3125 54.390625 \r\nQ 18.3125 48.734375 21.84375 45.5625 \r\nQ 25.390625 42.390625 31.78125 42.390625 \r\nQ 38.140625 42.390625 41.71875 45.5625 \r\nQ 45.3125 48.734375 45.3125 54.390625 \r\nQ 45.3125 60.0625 41.71875 63.234375 \r\nQ 38.140625 66.40625 31.78125 66.40625 \r\nQ 25.390625 66.40625 21.84375 63.234375 \r\nQ 18.3125 60.0625 18.3125 54.390625 \r\nz\r\n\" id=\"DejaVuSans-56\"/>\r\n      </defs>\r\n      <g transform=\"translate(7.2 60.417401)scale(0.1 -0.1)\">\r\n       <use xlink:href=\"#DejaVuSans-48\"/>\r\n       <use x=\"63.623047\" xlink:href=\"#DejaVuSans-46\"/>\r\n       <use x=\"95.410156\" xlink:href=\"#DejaVuSans-56\"/>\r\n      </g>\r\n     </g>\r\n    </g>\r\n    <g id=\"ytick_6\">\r\n     <g id=\"line2d_12\">\r\n      <g>\r\n       <use style=\"stroke:#000000;stroke-width:0.8;\" x=\"30.103125\" xlink:href=\"#mf1f03b6c59\" y=\"17.083636\"/>\r\n      </g>\r\n     </g>\r\n     <g id=\"text_12\">\r\n      <!-- 1.0 -->\r\n      <g transform=\"translate(7.2 20.882855)scale(0.1 -0.1)\">\r\n       <use xlink:href=\"#DejaVuSans-49\"/>\r\n       <use x=\"63.623047\" xlink:href=\"#DejaVuSans-46\"/>\r\n       <use x=\"95.410156\" xlink:href=\"#DejaVuSans-48\"/>\r\n      </g>\r\n     </g>\r\n    </g>\r\n   </g>\r\n   <g id=\"line2d_13\">\r\n    <path clip-path=\"url(#pbd8ec8256f)\" d=\"M 45.321307 175.221818 \r\nL 45.934943 135.687273 \r\nL 46.54858 175.221818 \r\nL 48.389489 175.221818 \r\nL 49.003125 214.756364 \r\nL 51.45767 214.756364 \r\nL 52.071307 175.221818 \r\nL 52.684943 175.221818 \r\nL 53.29858 135.687273 \r\nL 55.139489 135.687273 \r\nL 55.753125 96.152727 \r\nL 56.366761 135.687273 \r\nL 56.980398 96.152727 \r\nL 57.594034 96.152727 \r\nL 58.821307 175.221818 \r\nL 60.04858 175.221818 \r\nL 60.662216 135.687273 \r\nL 61.889489 135.687273 \r\nL 62.503125 96.152727 \r\nL 63.116761 135.687273 \r\nL 64.344034 135.687273 \r\nL 64.95767 96.152727 \r\nL 65.571307 135.687273 \r\nL 66.184943 135.687273 \r\nL 66.79858 175.221818 \r\nL 67.412216 175.221818 \r\nL 68.025852 214.756364 \r\nL 71.094034 214.756364 \r\nL 71.70767 175.221818 \r\nL 72.934943 175.221818 \r\nL 73.54858 135.687273 \r\nL 74.162216 135.687273 \r\nL 74.775852 175.221818 \r\nL 75.389489 135.687273 \r\nL 76.003125 135.687273 \r\nL 76.616761 175.221818 \r\nL 77.844034 175.221818 \r\nL 78.45767 214.756364 \r\nL 79.071307 175.221818 \r\nL 79.684943 175.221818 \r\nL 80.29858 135.687273 \r\nL 82.753125 135.687273 \r\nL 83.366761 175.221818 \r\nL 84.594034 96.152727 \r\nL 85.20767 135.687273 \r\nL 85.821307 96.152727 \r\nL 87.04858 96.152727 \r\nL 87.662216 135.687273 \r\nL 88.275852 135.687273 \r\nL 88.889489 175.221818 \r\nL 89.503125 135.687273 \r\nL 92.571307 135.687273 \r\nL 93.184943 175.221818 \r\nL 93.79858 135.687273 \r\nL 95.025852 135.687273 \r\nL 95.639489 175.221818 \r\nL 96.253125 175.221818 \r\nL 96.866761 214.756364 \r\nL 98.70767 214.756364 \r\nL 99.321307 175.221818 \r\nL 100.54858 175.221818 \r\nL 101.775852 96.152727 \r\nL 102.389489 96.152727 \r\nL 103.616761 17.083636 \r\nL 106.071307 175.221818 \r\nL 107.912216 175.221818 \r\nL 108.525852 135.687273 \r\nL 109.139489 135.687273 \r\nL 109.753125 175.221818 \r\nL 110.980398 175.221818 \r\nL 111.594034 214.756364 \r\nL 112.20767 214.756364 \r\nL 114.04858 96.152727 \r\nL 114.662216 96.152727 \r\nL 115.275852 56.618182 \r\nL 116.503125 56.618182 \r\nL 117.116761 96.152727 \r\nL 117.730398 56.618182 \r\nL 119.571307 175.221818 \r\nL 120.184943 175.221818 \r\nL 120.79858 214.756364 \r\nL 122.025852 214.756364 \r\nL 122.639489 175.221818 \r\nL 125.094034 175.221818 \r\nL 125.70767 214.756364 \r\nL 126.321307 214.756364 \r\nL 128.162216 96.152727 \r\nL 128.775852 96.152727 \r\nL 129.389489 56.618182 \r\nL 130.616761 135.687273 \r\nL 131.230398 135.687273 \r\nL 131.844034 96.152727 \r\nL 132.45767 135.687273 \r\nL 133.684943 56.618182 \r\nL 134.29858 56.618182 \r\nL 134.912216 96.152727 \r\nL 135.525852 56.618182 \r\nL 136.139489 96.152727 \r\nL 137.980398 96.152727 \r\nL 138.594034 135.687273 \r\nL 139.20767 96.152727 \r\nL 140.434943 175.221818 \r\nL 141.662216 96.152727 \r\nL 142.275852 135.687273 \r\nL 144.116761 135.687273 \r\nL 144.730398 175.221818 \r\nL 145.95767 175.221818 \r\nL 146.571307 135.687273 \r\nL 147.79858 135.687273 \r\nL 148.412216 96.152727 \r\nL 150.253125 96.152727 \r\nL 150.866761 56.618182 \r\nL 151.480398 96.152727 \r\nL 152.094034 56.618182 \r\nL 152.70767 56.618182 \r\nL 153.934943 135.687273 \r\nL 154.54858 96.152727 \r\nL 155.775852 175.221818 \r\nL 157.003125 96.152727 \r\nL 157.616761 135.687273 \r\nL 158.844034 135.687273 \r\nL 160.071307 214.756364 \r\nL 161.29858 135.687273 \r\nL 163.139489 135.687273 \r\nL 164.366761 214.756364 \r\nL 164.980398 214.756364 \r\nL 166.20767 135.687273 \r\nL 167.434943 135.687273 \r\nL 168.04858 96.152727 \r\nL 169.275852 175.221818 \r\nL 170.503125 96.152727 \r\nL 171.116761 135.687273 \r\nL 171.730398 96.152727 \r\nL 172.344034 96.152727 \r\nL 173.571307 175.221818 \r\nL 175.412216 175.221818 \r\nL 176.025852 135.687273 \r\nL 177.253125 135.687273 \r\nL 177.866761 175.221818 \r\nL 178.480398 175.221818 \r\nL 179.094034 214.756364 \r\nL 182.162216 214.756364 \r\nL 183.389489 135.687273 \r\nL 184.003125 135.687273 \r\nL 184.616761 96.152727 \r\nL 185.230398 96.152727 \r\nL 185.844034 135.687273 \r\nL 188.29858 135.687273 \r\nL 188.912216 96.152727 \r\nL 189.525852 135.687273 \r\nL 190.139489 135.687273 \r\nL 190.753125 175.221818 \r\nL 191.366761 175.221818 \r\nL 191.980398 214.756364 \r\nL 193.20767 135.687273 \r\nL 193.821307 135.687273 \r\nL 194.434943 96.152727 \r\nL 195.04858 96.152727 \r\nL 195.662216 135.687273 \r\nL 196.275852 135.687273 \r\nL 196.889489 96.152727 \r\nL 197.503125 135.687273 \r\nL 198.116761 135.687273 \r\nL 198.730398 96.152727 \r\nL 199.95767 175.221818 \r\nL 201.184943 175.221818 \r\nL 201.79858 214.756364 \r\nL 202.412216 214.756364 \r\nL 203.025852 175.221818 \r\nL 204.253125 175.221818 \r\nL 204.866761 135.687273 \r\nL 206.70767 135.687273 \r\nL 207.321307 96.152727 \r\nL 207.934943 135.687273 \r\nL 208.54858 96.152727 \r\nL 209.775852 96.152727 \r\nL 210.389489 135.687273 \r\nL 211.003125 135.687273 \r\nL 211.616761 175.221818 \r\nL 213.45767 175.221818 \r\nL 214.071307 135.687273 \r\nL 215.29858 135.687273 \r\nL 215.912216 96.152727 \r\nL 217.753125 96.152727 \r\nL 218.366761 135.687273 \r\nL 219.594034 135.687273 \r\nL 220.20767 175.221818 \r\nL 220.821307 175.221818 \r\nL 221.434943 135.687273 \r\nL 222.04858 175.221818 \r\nL 223.275852 175.221818 \r\nL 223.889489 135.687273 \r\nL 228.184943 135.687273 \r\nL 228.79858 96.152727 \r\nL 229.412216 96.152727 \r\nL 230.025852 135.687273 \r\nL 231.253125 135.687273 \r\nL 231.866761 175.221818 \r\nL 232.480398 135.687273 \r\nL 234.934943 135.687273 \r\nL 235.54858 175.221818 \r\nL 236.162216 175.221818 \r\nL 236.775852 214.756364 \r\nL 237.389489 214.756364 \r\nL 238.003125 175.221818 \r\nL 239.230398 175.221818 \r\nL 239.844034 135.687273 \r\nL 242.29858 135.687273 \r\nL 242.912216 175.221818 \r\nL 243.525852 175.221818 \r\nL 244.139489 214.756364 \r\nL 245.366761 135.687273 \r\nL 247.20767 135.687273 \r\nL 248.434943 214.756364 \r\nL 249.04858 214.756364 \r\nL 249.662216 175.221818 \r\nL 250.889489 175.221818 \r\nL 252.116761 96.152727 \r\nL 252.730398 135.687273 \r\nL 253.344034 135.687273 \r\nL 253.95767 96.152727 \r\nL 254.571307 96.152727 \r\nL 255.184943 135.687273 \r\nL 255.79858 135.687273 \r\nL 256.412216 96.152727 \r\nL 257.639489 175.221818 \r\nL 258.253125 135.687273 \r\nL 263.775852 135.687273 \r\nL 264.389489 175.221818 \r\nL 265.003125 175.221818 \r\nL 265.616761 214.756364 \r\nL 270.525852 214.756364 \r\nL 271.139489 175.221818 \r\nL 273.594034 175.221818 \r\nL 274.20767 214.756364 \r\nL 274.821307 214.756364 \r\nL 276.04858 135.687273 \r\nL 276.662216 135.687273 \r\nL 277.889489 56.618182 \r\nL 279.116761 135.687273 \r\nL 280.344034 135.687273 \r\nL 280.95767 175.221818 \r\nL 281.571307 135.687273 \r\nL 282.184943 135.687273 \r\nL 282.79858 96.152727 \r\nL 283.412216 135.687273 \r\nL 284.025852 96.152727 \r\nL 284.639489 135.687273 \r\nL 285.253125 135.687273 \r\nL 285.866761 175.221818 \r\nL 286.480398 175.221818 \r\nL 287.094034 214.756364 \r\nL 287.70767 214.756364 \r\nL 288.321307 175.221818 \r\nL 292.003125 175.221818 \r\nL 293.230398 96.152727 \r\nL 295.071307 96.152727 \r\nL 296.29858 175.221818 \r\nL 296.912216 175.221818 \r\nL 297.525852 214.756364 \r\nL 298.753125 135.687273 \r\nL 304.889489 135.687273 \r\nL 306.116761 56.618182 \r\nL 306.730398 56.618182 \r\nL 308.571307 175.221818 \r\nL 309.79858 175.221818 \r\nL 310.412216 135.687273 \r\nL 311.639489 135.687273 \r\nL 312.253125 175.221818 \r\nL 312.866761 135.687273 \r\nL 313.480398 175.221818 \r\nL 317.162216 175.221818 \r\nL 317.775852 135.687273 \r\nL 318.389489 135.687273 \r\nL 319.003125 175.221818 \r\nL 319.616761 135.687273 \r\nL 320.230398 135.687273 \r\nL 320.844034 175.221818 \r\nL 321.45767 175.221818 \r\nL 322.071307 135.687273 \r\nL 322.684943 175.221818 \r\nL 323.29858 135.687273 \r\nL 324.525852 135.687273 \r\nL 325.139489 175.221818 \r\nL 325.753125 135.687273 \r\nL 326.366761 175.221818 \r\nL 326.980398 135.687273 \r\nL 329.434943 135.687273 \r\nL 330.04858 175.221818 \r\nL 330.662216 175.221818 \r\nL 331.275852 135.687273 \r\nL 331.889489 175.221818 \r\nL 336.79858 175.221818 \r\nL 337.412216 214.756364 \r\nL 338.025852 175.221818 \r\nL 341.70767 175.221818 \r\nL 342.934943 96.152727 \r\nL 346.003125 96.152727 \r\nL 346.616761 56.618182 \r\nL 347.844034 56.618182 \r\nL 349.684943 175.221818 \r\nL 349.684943 175.221818 \r\n\" style=\"fill:none;stroke:#1f77b4;stroke-linecap:square;stroke-width:1.5;\"/>\r\n   </g>\r\n   <g id=\"patch_3\">\r\n    <path d=\"M 30.103125 224.64 \r\nL 30.103125 7.2 \r\n\" style=\"fill:none;stroke:#000000;stroke-linecap:square;stroke-linejoin:miter;stroke-width:0.8;\"/>\r\n   </g>\r\n   <g id=\"patch_4\">\r\n    <path d=\"M 364.903125 224.64 \r\nL 364.903125 7.2 \r\n\" style=\"fill:none;stroke:#000000;stroke-linecap:square;stroke-linejoin:miter;stroke-width:0.8;\"/>\r\n   </g>\r\n   <g id=\"patch_5\">\r\n    <path d=\"M 30.103125 224.64 \r\nL 364.903125 224.64 \r\n\" style=\"fill:none;stroke:#000000;stroke-linecap:square;stroke-linejoin:miter;stroke-width:0.8;\"/>\r\n   </g>\r\n   <g id=\"patch_6\">\r\n    <path d=\"M 30.103125 7.2 \r\nL 364.903125 7.2 \r\n\" style=\"fill:none;stroke:#000000;stroke-linecap:square;stroke-linejoin:miter;stroke-width:0.8;\"/>\r\n   </g>\r\n  </g>\r\n </g>\r\n <defs>\r\n  <clipPath id=\"pbd8ec8256f\">\r\n   <rect height=\"217.44\" width=\"334.8\" x=\"30.103125\" y=\"7.2\"/>\r\n  </clipPath>\r\n </defs>\r\n</svg>\r\n",
      "image/png": "[encoded data removed]"
     },
     "metadata": {
      "needs_background": "light"
     }
    }
   ],
   "source": [
    "def moving_average(x, w):\n",
    "    return np.convolve(x, np.ones(w), 'valid') / w\n",
    "\n",
    "avg = moving_average(scores[:,1], 5)\n",
    "\n",
    "plt.plot(avg)\n",
    "plt.show\n"
   ]
  },
  {
   "cell_type": "code",
   "execution_count": null,
   "metadata": {},
   "outputs": [],
   "source": [
    "print(\"Finished\")"
   ]
  }
 ]
}